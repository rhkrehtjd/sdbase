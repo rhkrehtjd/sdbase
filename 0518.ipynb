{
 "cells": [
  {
   "cell_type": "code",
   "execution_count": 4,
   "id": "4ca9d6ed-ac85-4e5f-82c1-0d805769c495",
   "metadata": {},
   "outputs": [],
   "source": [
    "library(DBI)\n",
    "library(RSQLite)"
   ]
  },
  {
   "cell_type": "code",
   "execution_count": 2,
   "id": "484c5ed8-9563-4eec-8cc3-a5917aa59e01",
   "metadata": {},
   "outputs": [],
   "source": [
    "conn = dbConnect(SQLite(), dbname = \"c:/RSQL/Customer.sqlite\")\n",
    "# 데이터 베이스를 하나 만들고 싶을 때,\n",
    "# DBMS는 SQLite()를 이용\n",
    "# 어디에? c:/RSQL 폴더 아래에 Customer.sqlite라는 이름으로\n",
    "\n",
    "# dbConnect(SQLite(), dbname = \"c:/RSQL/Customer.sqlite\")라는 connector를 conn이라고 저장해준 것"
   ]
  },
  {
   "cell_type": "markdown",
   "id": "59c5ae00-5b3a-4c95-bffd-d932a663e88f",
   "metadata": {},
   "source": [
    "- 만들어 놓기만 한 거고 내용은 아무것도 없다."
   ]
  },
  {
   "cell_type": "code",
   "execution_count": 15,
   "id": "842ecafa-e421-4835-8c17-0c1b80780fbd",
   "metadata": {},
   "outputs": [],
   "source": [
    "# 데이터 베이스와의 연결 해제\n",
    "# dbDisconnect(conn)"
   ]
  },
  {
   "cell_type": "code",
   "execution_count": 16,
   "id": "d76c2dbd-c9c6-48ad-893d-279364b9989f",
   "metadata": {},
   "outputs": [
    {
     "data": {
      "text/html": [
       "0"
      ],
      "text/latex": [
       "0"
      ],
      "text/markdown": [
       "0"
      ],
      "text/plain": [
       "[1] 0"
      ]
     },
     "metadata": {},
     "output_type": "display_data"
    },
    {
     "data": {
      "text/html": [
       "TRUE"
      ],
      "text/latex": [
       "TRUE"
      ],
      "text/markdown": [
       "TRUE"
      ],
      "text/plain": [
       "[1] TRUE"
      ]
     },
     "metadata": {},
     "output_type": "display_data"
    }
   ],
   "source": [
    "##### PRAGMA sta dbDisconnect(conn)tement : SQLite에 특정된 SQL 확장\n",
    "\n",
    "###  sqlite에서 외래 키를 설정하기 위해서는 다음 문장을 실행해야 함\n",
    "dbExecute(conn, \"PRAGMA foreign_keys=ON\")\n",
    "\n",
    "# Customer_Info 테이블 생성하기\n",
    "sql = \"CREATE TABLE IF NOT EXISTS Customer_Info\n",
    "\t\t\t\t\t( \tCID TEXT PRIMARY KEY, \n",
    "\t\t\t\t\t\tName TEXT,\n",
    "\t\t\t\t\t\tAddress TEXT,\n",
    "\t\t\t\t\t\tTel TEXT,\n",
    "\t\t\t\t\t\tBDay TEXT,\n",
    "\t\t\t\t\t\tSID TEXT,\n",
    "\t\t\t\t\t\tJob TEXT,\n",
    "\t\t\t\t\t\tSex TEXT,\n",
    "\t\t\t\t\t\tMarried TEXT )\"\n",
    "#   ( \tCID TEXT PRIMARY KEY, \n",
    "# \t\t\t\t\t\tName TEXT,\n",
    "# \t\t\t\t\t\tAddress TEXT,\n",
    "# \t\t\t\t\t\tTel TEXT,\n",
    "# \t\t\t\t\t\tBDay TEXT,\n",
    "# \t\t\t\t\t\tSID TEXT,\n",
    "# \t\t\t\t\t\tJob TEXT,\n",
    "# \t\t\t\t\t\tSex TEXT,\n",
    "# \t\t\t\t\t\tMarried TEXT )\n",
    "\n",
    "# CREATE TABLE IF NOT EXISTS Customer_Info \n",
    "# -> Customer_Info라는 TABLE이 없으면 만들어라,있으면 만들지 말고\n",
    "# 이런 이름(CID, Name, Address, Tel, BDay, SID, ...)들의 필드를 가진, type은 TEXT인.\n",
    "\n",
    "# 위에서 정의했던 conn이라는 connector이용해서 sqp라는 문장을 실행\n",
    "rs = dbSendQuery(conn, sql)\n",
    "# dbSendQuerry라는 함수를 불러서 반환되는 값을\n",
    "# 굳이 rs라는 변수에 저장하고\n",
    "# 왜 아래에서 또 rs를 굳이 제거?\n",
    "# 사실 dbSendQuery(conn, sql) 이것만 실행해도 되긴 함\n",
    "# 매뉴얼에서 dbSendQuery라는 함수를 보면\n",
    "# dbSendQuery라는 함수는 S4 object를 반환하는데,,\n",
    "# 만약 이 반환되는 값을 임의의 변수에 저장하지 않으면\n",
    "# error는 아니고 warning이 출력됨\n",
    "# 왜?\n",
    "# dbSendQuery가 안 닫혀서..\n",
    "# 그냥 예전에 최귭 교수님이 파일 열었으면 닫아야된다고 했던 거랑\n",
    "# 같은 원리인 것 같음\n",
    "# 이것도 dbSendQuery사용했으면 제거해주는 게 그냥 .. 깔끔하다고 생각하면 될 듯\n",
    "\n",
    "# rs 제거\n",
    "dbClearResult(rs)\n",
    "\n",
    "# 테이블이 생성되었는지(존재하는지) 확인\n",
    "dbExistsTable(conn, \"Customer_Info\")"
   ]
  },
  {
   "cell_type": "markdown",
   "id": "9f1817c0-ae26-4d8d-9ddc-a2132101f046",
   "metadata": {},
   "source": [
    "- TRUE라고 반환됨\n",
    "  - 만들어졌음을 알 수 있음\n",
    "  - 내용은 없고 table만 생성된 것임\n",
    "  - table안에 data 넣고 빼고 혹은 추가 table 생성 등의 작업을 할 수 있음"
   ]
  },
  {
   "cell_type": "code",
   "execution_count": 17,
   "id": "efea9cb7-dd00-48b6-a9f3-2dc1e84d0085",
   "metadata": {},
   "outputs": [
    {
     "data": {
      "text/html": [
       "TRUE"
      ],
      "text/latex": [
       "TRUE"
      ],
      "text/markdown": [
       "TRUE"
      ],
      "text/plain": [
       "[1] TRUE"
      ]
     },
     "metadata": {},
     "output_type": "display_data"
    }
   ],
   "source": [
    "sql = \"CREATE TABLE IF NOT EXISTS Customer_Score  \n",
    "\t\t\t\t( \tCID TEXT, \n",
    "\t\t\t\t\tYear TEXT not null,\n",
    "\t\t\t\t\tOn_Score INTEGER default 0,\n",
    "\t\t\t\t\tOff_Score INTEGER default 0,\n",
    "\t\t\t\t\tPRIMARY KEY (CID, Year),\n",
    "\t\t\t\t\tFOREIGN KEY(CID) REFERENCES Customer_Info(CID) )\"\n",
    "\n",
    "rs = dbSendQuery(conn, sql)\n",
    "\n",
    "# rs 제거\n",
    "dbClearResult(rs)\n",
    "\n",
    "# 테이블이 생성되었는지(존재하는지) 확인\n",
    "dbExistsTable(conn, \"Customer_Score\")"
   ]
  },
  {
   "cell_type": "markdown",
   "id": "f9c82329-b908-4237-8a06-e8a0688701cb",
   "metadata": {},
   "source": [
    "- 2개의 table을 만듦"
   ]
  },
  {
   "cell_type": "code",
   "execution_count": 18,
   "id": "6c741ccc-6067-4bee-9c85-26558e5d87ca",
   "metadata": {},
   "outputs": [
    {
     "data": {
      "text/html": [
       "<style>\n",
       ".list-inline {list-style: none; margin:0; padding: 0}\n",
       ".list-inline>li {display: inline-block}\n",
       ".list-inline>li:not(:last-child)::after {content: \"\\00b7\"; padding: 0 .5ex}\n",
       "</style>\n",
       "<ol class=list-inline><li>'Customer_Info'</li><li>'Customer_Score'</li></ol>\n"
      ],
      "text/latex": [
       "\\begin{enumerate*}\n",
       "\\item 'Customer\\_Info'\n",
       "\\item 'Customer\\_Score'\n",
       "\\end{enumerate*}\n"
      ],
      "text/markdown": [
       "1. 'Customer_Info'\n",
       "2. 'Customer_Score'\n",
       "\n",
       "\n"
      ],
      "text/plain": [
       "[1] \"Customer_Info\"  \"Customer_Score\""
      ]
     },
     "metadata": {},
     "output_type": "display_data"
    }
   ],
   "source": [
    "dbListTables(conn)"
   ]
  },
  {
   "cell_type": "code",
   "execution_count": 19,
   "id": "23a6a5f0-da44-407f-8c41-a9242cc3c4c6",
   "metadata": {},
   "outputs": [],
   "source": [
    "# # Customer_Score 테이블 삭제하기\n",
    "# rs = dbSendQuery(conn, \"DROP TABLE Customer_Score\")\n",
    "\n",
    "# # rs 제거\n",
    "# dbClearResult(rs)\n",
    "\n",
    "# # 테이블이 존재하는지(삭제되었는지) 확인\n",
    "# dbExistsTable(conn, \"Customer_Score\")"
   ]
  },
  {
   "cell_type": "markdown",
   "id": "3a83b696-06a5-411b-bb0f-394307b7db5b",
   "metadata": {},
   "source": [
    "---"
   ]
  },
  {
   "cell_type": "markdown",
   "id": "b6e65784-e075-4aec-87ad-250b09899a6b",
   "metadata": {},
   "source": [
    "> 데이터 삽입, 갱신, 삭제"
   ]
  },
  {
   "cell_type": "code",
   "execution_count": 20,
   "id": "6d0daa6f-6858-4605-aa88-f5f1ad25e7ba",
   "metadata": {},
   "outputs": [
    {
     "ename": "ERROR",
     "evalue": "Error: UNIQUE constraint failed: Customer_Info.CID\n",
     "output_type": "error",
     "traceback": [
      "Error: UNIQUE constraint failed: Customer_Info.CID\nTraceback:\n",
      "1. dbSendQuery(conn, sql)",
      "2. dbSendQuery(conn, sql)",
      "3. .local(conn, statement, ...)",
      "4. new(\"SQLiteResult\", sql = statement, ptr = result_create(conn@ptr, \n .     statement), conn = conn, bigint = conn@bigint)",
      "5. initialize(value, ...)",
      "6. initialize(value, ...)",
      "7. result_create(conn@ptr, statement)"
     ]
    }
   ],
   "source": [
    "# Customer_Info 테이블에 데이터 insert\n",
    "sql = \" INSERT INTO Customer_Info \n",
    "VALUES ('100001', '김민지', '서울시 광진구', '423-8627', \n",
    "'1975-07-01', '750701-2534218', '공무원', '1', '0') \"\n",
    "\n",
    "rs = dbSendQuery(conn, sql)\n",
    "dbClearResult(rs)"
   ]
  },
  {
   "cell_type": "code",
   "execution_count": 21,
   "id": "dcde0d5b-b64e-4c9b-9688-162cbd950269",
   "metadata": {},
   "outputs": [
    {
     "data": {
      "text/html": [
       "<table class=\"dataframe\">\n",
       "<caption>A data.frame: 1 × 9</caption>\n",
       "<thead>\n",
       "\t<tr><th scope=col>CID</th><th scope=col>Name</th><th scope=col>Address</th><th scope=col>Tel</th><th scope=col>BDay</th><th scope=col>SID</th><th scope=col>Job</th><th scope=col>Sex</th><th scope=col>Married</th></tr>\n",
       "\t<tr><th scope=col>&lt;chr&gt;</th><th scope=col>&lt;chr&gt;</th><th scope=col>&lt;chr&gt;</th><th scope=col>&lt;chr&gt;</th><th scope=col>&lt;chr&gt;</th><th scope=col>&lt;chr&gt;</th><th scope=col>&lt;chr&gt;</th><th scope=col>&lt;chr&gt;</th><th scope=col>&lt;chr&gt;</th></tr>\n",
       "</thead>\n",
       "<tbody>\n",
       "\t<tr><td>100001</td><td>김민지</td><td>서울시 광진구</td><td>423-8627</td><td>1975-07-01</td><td>750701-2534218</td><td>공무원</td><td>1</td><td>0</td></tr>\n",
       "</tbody>\n",
       "</table>\n"
      ],
      "text/latex": [
       "A data.frame: 1 × 9\n",
       "\\begin{tabular}{lllllllll}\n",
       " CID & Name & Address & Tel & BDay & SID & Job & Sex & Married\\\\\n",
       " <chr> & <chr> & <chr> & <chr> & <chr> & <chr> & <chr> & <chr> & <chr>\\\\\n",
       "\\hline\n",
       "\t 100001 & 김민지 & 서울시 광진구 & 423-8627 & 1975-07-01 & 750701-2534218 & 공무원 & 1 & 0\\\\\n",
       "\\end{tabular}\n"
      ],
      "text/markdown": [
       "\n",
       "A data.frame: 1 × 9\n",
       "\n",
       "| CID &lt;chr&gt; | Name &lt;chr&gt; | Address &lt;chr&gt; | Tel &lt;chr&gt; | BDay &lt;chr&gt; | SID &lt;chr&gt; | Job &lt;chr&gt; | Sex &lt;chr&gt; | Married &lt;chr&gt; |\n",
       "|---|---|---|---|---|---|---|---|---|\n",
       "| 100001 | 김민지 | 서울시 광진구 | 423-8627 | 1975-07-01 | 750701-2534218 | 공무원 | 1 | 0 |\n",
       "\n"
      ],
      "text/plain": [
       "  CID    Name   Address       Tel      BDay       SID            Job    Sex\n",
       "1 100001 김민지 서울시 광진구 423-8627 1975-07-01 750701-2534218 공무원 1  \n",
       "  Married\n",
       "1 0      "
      ]
     },
     "metadata": {},
     "output_type": "display_data"
    }
   ],
   "source": [
    "# Customer_Info 테이블에 데이터 삽입 결과 확인\n",
    "dbGetQuery(conn, \"SELECT * FROM Customer_Info\")\n",
    "# * => 해당 table에서 모든 field를 불러와라"
   ]
  },
  {
   "cell_type": "code",
   "execution_count": 22,
   "id": "21246082-12c1-487c-b2bc-ad3ef59a9f18",
   "metadata": {},
   "outputs": [
    {
     "data": {
      "text/html": [
       "<table class=\"dataframe\">\n",
       "<caption>A data.frame: 2 × 4</caption>\n",
       "<thead>\n",
       "\t<tr><th scope=col>CID</th><th scope=col>Year</th><th scope=col>On_Score</th><th scope=col>Off_Score</th></tr>\n",
       "\t<tr><th scope=col>&lt;chr&gt;</th><th scope=col>&lt;chr&gt;</th><th scope=col>&lt;int&gt;</th><th scope=col>&lt;int&gt;</th></tr>\n",
       "</thead>\n",
       "<tbody>\n",
       "\t<tr><td>100001</td><td>2012</td><td>42</td><td>111</td></tr>\n",
       "\t<tr><td>100001</td><td>2013</td><td>58</td><td> 89</td></tr>\n",
       "</tbody>\n",
       "</table>\n"
      ],
      "text/latex": [
       "A data.frame: 2 × 4\n",
       "\\begin{tabular}{llll}\n",
       " CID & Year & On\\_Score & Off\\_Score\\\\\n",
       " <chr> & <chr> & <int> & <int>\\\\\n",
       "\\hline\n",
       "\t 100001 & 2012 & 42 & 111\\\\\n",
       "\t 100001 & 2013 & 58 &  89\\\\\n",
       "\\end{tabular}\n"
      ],
      "text/markdown": [
       "\n",
       "A data.frame: 2 × 4\n",
       "\n",
       "| CID &lt;chr&gt; | Year &lt;chr&gt; | On_Score &lt;int&gt; | Off_Score &lt;int&gt; |\n",
       "|---|---|---|---|\n",
       "| 100001 | 2012 | 42 | 111 |\n",
       "| 100001 | 2013 | 58 |  89 |\n",
       "\n"
      ],
      "text/plain": [
       "  CID    Year On_Score Off_Score\n",
       "1 100001 2012 42       111      \n",
       "2 100001 2013 58        89      "
      ]
     },
     "metadata": {},
     "output_type": "display_data"
    }
   ],
   "source": [
    "sql = \" INSERT INTO Customer_Score \n",
    "VALUES ('100001', '2012', 42, 111) \"\n",
    "\n",
    "rs = dbSendQuery(conn, sql)\n",
    "dbClearResult(rs)\n",
    "\n",
    "sql = \" INSERT INTO Customer_Score \n",
    "VALUES ('100001', '2013', 58, 89) \"\n",
    "\n",
    "rs = dbSendQuery(conn, sql)\n",
    "dbClearResult(rs)\n",
    "\n",
    "# Customer_Score 테이블에 데이터 삽입 결과 확인\n",
    "dbGetQuery(conn, \"SELECT * FROM Customer_Score \")"
   ]
  },
  {
   "cell_type": "markdown",
   "id": "3ae29b8a-648b-45f3-be2b-dfe66f2a3351",
   "metadata": {},
   "source": [
    "- Customer_Info 테이블에 있는 데이터 update"
   ]
  },
  {
   "cell_type": "code",
   "execution_count": 25,
   "id": "076f1839-7794-4dae-bf3b-43b4c9fab531",
   "metadata": {},
   "outputs": [],
   "source": [
    "sql = \"UPDATE Customer_Info SET Address = '서울시 영등포구' \n",
    "\t\t\t\t\tWHERE CID = '100001' \"\n",
    "# CID = '100001'을 만족하는 고객만 update한다.\n",
    "\n",
    "rs = dbSendQuery(conn, sql)\n",
    "dbClearResult(rs)"
   ]
  },
  {
   "cell_type": "code",
   "execution_count": 26,
   "id": "8cee68f0-9006-44f7-9647-05a7f1c5c56b",
   "metadata": {},
   "outputs": [
    {
     "data": {
      "text/html": [
       "<table class=\"dataframe\">\n",
       "<caption>A data.frame: 1 × 9</caption>\n",
       "<thead>\n",
       "\t<tr><th scope=col>CID</th><th scope=col>Name</th><th scope=col>Address</th><th scope=col>Tel</th><th scope=col>BDay</th><th scope=col>SID</th><th scope=col>Job</th><th scope=col>Sex</th><th scope=col>Married</th></tr>\n",
       "\t<tr><th scope=col>&lt;chr&gt;</th><th scope=col>&lt;chr&gt;</th><th scope=col>&lt;chr&gt;</th><th scope=col>&lt;chr&gt;</th><th scope=col>&lt;chr&gt;</th><th scope=col>&lt;chr&gt;</th><th scope=col>&lt;chr&gt;</th><th scope=col>&lt;chr&gt;</th><th scope=col>&lt;chr&gt;</th></tr>\n",
       "</thead>\n",
       "<tbody>\n",
       "\t<tr><td>100001</td><td>김민지</td><td>서울시 영등포구</td><td>423-8627</td><td>1975-07-01</td><td>750701-2534218</td><td>공무원</td><td>1</td><td>0</td></tr>\n",
       "</tbody>\n",
       "</table>\n"
      ],
      "text/latex": [
       "A data.frame: 1 × 9\n",
       "\\begin{tabular}{lllllllll}\n",
       " CID & Name & Address & Tel & BDay & SID & Job & Sex & Married\\\\\n",
       " <chr> & <chr> & <chr> & <chr> & <chr> & <chr> & <chr> & <chr> & <chr>\\\\\n",
       "\\hline\n",
       "\t 100001 & 김민지 & 서울시 영등포구 & 423-8627 & 1975-07-01 & 750701-2534218 & 공무원 & 1 & 0\\\\\n",
       "\\end{tabular}\n"
      ],
      "text/markdown": [
       "\n",
       "A data.frame: 1 × 9\n",
       "\n",
       "| CID &lt;chr&gt; | Name &lt;chr&gt; | Address &lt;chr&gt; | Tel &lt;chr&gt; | BDay &lt;chr&gt; | SID &lt;chr&gt; | Job &lt;chr&gt; | Sex &lt;chr&gt; | Married &lt;chr&gt; |\n",
       "|---|---|---|---|---|---|---|---|---|\n",
       "| 100001 | 김민지 | 서울시 영등포구 | 423-8627 | 1975-07-01 | 750701-2534218 | 공무원 | 1 | 0 |\n",
       "\n"
      ],
      "text/plain": [
       "  CID    Name   Address         Tel      BDay       SID            Job    Sex\n",
       "1 100001 김민지 서울시 영등포구 423-8627 1975-07-01 750701-2534218 공무원 1  \n",
       "  Married\n",
       "1 0      "
      ]
     },
     "metadata": {},
     "output_type": "display_data"
    }
   ],
   "source": [
    "dbGetQuery(conn, \"SELECT * FROM Customer_Info\")"
   ]
  },
  {
   "cell_type": "markdown",
   "id": "cd418031-7559-48c7-a942-56ae077f56e6",
   "metadata": {},
   "source": [
    "---"
   ]
  },
  {
   "cell_type": "code",
   "execution_count": 28,
   "id": "4f371e95-725c-4f86-9904-9f878c7b5894",
   "metadata": {},
   "outputs": [
    {
     "data": {
      "text/html": [
       "<table class=\"dataframe\">\n",
       "<caption>A data.frame: 2 × 4</caption>\n",
       "<thead>\n",
       "\t<tr><th scope=col>CID</th><th scope=col>Year</th><th scope=col>On_Score</th><th scope=col>Off_Score</th></tr>\n",
       "\t<tr><th scope=col>&lt;chr&gt;</th><th scope=col>&lt;chr&gt;</th><th scope=col>&lt;int&gt;</th><th scope=col>&lt;int&gt;</th></tr>\n",
       "</thead>\n",
       "<tbody>\n",
       "\t<tr><td>100001</td><td>2012</td><td>42</td><td>111</td></tr>\n",
       "\t<tr><td>100001</td><td>2013</td><td>58</td><td> 98</td></tr>\n",
       "</tbody>\n",
       "</table>\n"
      ],
      "text/latex": [
       "A data.frame: 2 × 4\n",
       "\\begin{tabular}{llll}\n",
       " CID & Year & On\\_Score & Off\\_Score\\\\\n",
       " <chr> & <chr> & <int> & <int>\\\\\n",
       "\\hline\n",
       "\t 100001 & 2012 & 42 & 111\\\\\n",
       "\t 100001 & 2013 & 58 &  98\\\\\n",
       "\\end{tabular}\n"
      ],
      "text/markdown": [
       "\n",
       "A data.frame: 2 × 4\n",
       "\n",
       "| CID &lt;chr&gt; | Year &lt;chr&gt; | On_Score &lt;int&gt; | Off_Score &lt;int&gt; |\n",
       "|---|---|---|---|\n",
       "| 100001 | 2012 | 42 | 111 |\n",
       "| 100001 | 2013 | 58 |  98 |\n",
       "\n"
      ],
      "text/plain": [
       "  CID    Year On_Score Off_Score\n",
       "1 100001 2012 42       111      \n",
       "2 100001 2013 58        98      "
      ]
     },
     "metadata": {},
     "output_type": "display_data"
    }
   ],
   "source": [
    "# Customer_Score 테이블에 있는 데이터 update\n",
    "sql = \"UPDATE Customer_Score SET Off_Score = 98 \n",
    "WHERE CID = '100001' and Year='2013' \"\n",
    "\n",
    "rs = dbSendQuery(conn, sql)\n",
    "dbClearResult(rs)\n",
    "\n",
    "# Customer_Score 테이블에 있는 데이터 갱신 결과 확인\n",
    "dbGetQuery(conn, \"SELECT * FROM Customer_Score \")"
   ]
  },
  {
   "cell_type": "code",
   "execution_count": 29,
   "id": "3ad54d13-4583-4900-b543-006ed9f1fe9b",
   "metadata": {},
   "outputs": [
    {
     "data": {
      "text/html": [
       "<table class=\"dataframe\">\n",
       "<caption>A data.frame: 1 × 4</caption>\n",
       "<thead>\n",
       "\t<tr><th scope=col>CID</th><th scope=col>Year</th><th scope=col>On_Score</th><th scope=col>Off_Score</th></tr>\n",
       "\t<tr><th scope=col>&lt;chr&gt;</th><th scope=col>&lt;chr&gt;</th><th scope=col>&lt;int&gt;</th><th scope=col>&lt;int&gt;</th></tr>\n",
       "</thead>\n",
       "<tbody>\n",
       "\t<tr><td>100001</td><td>2012</td><td>42</td><td>111</td></tr>\n",
       "</tbody>\n",
       "</table>\n"
      ],
      "text/latex": [
       "A data.frame: 1 × 4\n",
       "\\begin{tabular}{llll}\n",
       " CID & Year & On\\_Score & Off\\_Score\\\\\n",
       " <chr> & <chr> & <int> & <int>\\\\\n",
       "\\hline\n",
       "\t 100001 & 2012 & 42 & 111\\\\\n",
       "\\end{tabular}\n"
      ],
      "text/markdown": [
       "\n",
       "A data.frame: 1 × 4\n",
       "\n",
       "| CID &lt;chr&gt; | Year &lt;chr&gt; | On_Score &lt;int&gt; | Off_Score &lt;int&gt; |\n",
       "|---|---|---|---|\n",
       "| 100001 | 2012 | 42 | 111 |\n",
       "\n"
      ],
      "text/plain": [
       "  CID    Year On_Score Off_Score\n",
       "1 100001 2012 42       111      "
      ]
     },
     "metadata": {},
     "output_type": "display_data"
    }
   ],
   "source": [
    "# Customer_Score 테이블에 있는 특정 데이터 delete\n",
    "sql = \"DELETE FROM Customer_Score \n",
    "WHERE CID = '100001' and Year='2013' \"\n",
    "\n",
    "rs = dbSendQuery(conn, sql)\n",
    "dbClearResult(rs)\n",
    "\n",
    "# Customer_Score 테이블에 있는 특정 데이터 삭제 결과 확인\n",
    "dbGetQuery(conn, \"SELECT * FROM Customer_Score\")"
   ]
  },
  {
   "cell_type": "code",
   "execution_count": 30,
   "id": "a9c221ae-6970-415e-8572-6b5328838478",
   "metadata": {},
   "outputs": [
    {
     "data": {
      "text/html": [
       "<table class=\"dataframe\">\n",
       "<caption>A data.frame: 0 × 4</caption>\n",
       "<thead>\n",
       "\t<tr><th scope=col>CID</th><th scope=col>Year</th><th scope=col>On_Score</th><th scope=col>Off_Score</th></tr>\n",
       "\t<tr><th scope=col>&lt;chr&gt;</th><th scope=col>&lt;chr&gt;</th><th scope=col>&lt;int&gt;</th><th scope=col>&lt;int&gt;</th></tr>\n",
       "</thead>\n",
       "<tbody>\n",
       "</tbody>\n",
       "</table>\n"
      ],
      "text/latex": [
       "A data.frame: 0 × 4\n",
       "\\begin{tabular}{llll}\n",
       " CID & Year & On\\_Score & Off\\_Score\\\\\n",
       " <chr> & <chr> & <int> & <int>\\\\\n",
       "\\hline\n",
       "\\end{tabular}\n"
      ],
      "text/markdown": [
       "\n",
       "A data.frame: 0 × 4\n",
       "\n",
       "| CID &lt;chr&gt; | Year &lt;chr&gt; | On_Score &lt;int&gt; | Off_Score &lt;int&gt; |\n",
       "|---|---|---|---|\n",
       "\n"
      ],
      "text/plain": [
       "     CID Year On_Score Off_Score"
      ]
     },
     "metadata": {},
     "output_type": "display_data"
    }
   ],
   "source": [
    "# Customer_Score 테이블에 있는 전체 데이터 delete\n",
    "sql = \"DELETE FROM Customer_Score \"\n",
    "rs = dbSendQuery(conn, sql)\n",
    "dbClearResult(rs)\n",
    "\n",
    "# Customer_Score 테이블에 있는 전체 데이터 삭제 결과 확인\n",
    "dbGetQuery(conn, \"SELECT * FROM Customer_Score \")"
   ]
  },
  {
   "cell_type": "markdown",
   "id": "c1273b6b-3e59-4305-8821-60f243abb3d3",
   "metadata": {},
   "source": [
    "---"
   ]
  },
  {
   "cell_type": "markdown",
   "id": "ab21d81e-5832-4056-81a1-6628ebe73fd2",
   "metadata": {},
   "source": [
    "> dbWriteTable()를 이용하여 데이터를 한 번에 삽입해보자"
   ]
  },
  {
   "cell_type": "code",
   "execution_count": 32,
   "id": "dacd1d68-9eab-415c-b0bb-846ed999e478",
   "metadata": {},
   "outputs": [
    {
     "data": {
      "text/html": [
       "<style>\n",
       ".list-inline {list-style: none; margin:0; padding: 0}\n",
       ".list-inline>li {display: inline-block}\n",
       ".list-inline>li:not(:last-child)::after {content: \"\\00b7\"; padding: 0 .5ex}\n",
       "</style>\n",
       "<ol class=list-inline><li>'Customer_Info'</li><li>'Customer_Score'</li></ol>\n"
      ],
      "text/latex": [
       "\\begin{enumerate*}\n",
       "\\item 'Customer\\_Info'\n",
       "\\item 'Customer\\_Score'\n",
       "\\end{enumerate*}\n"
      ],
      "text/markdown": [
       "1. 'Customer_Info'\n",
       "2. 'Customer_Score'\n",
       "\n",
       "\n"
      ],
      "text/plain": [
       "[1] \"Customer_Info\"  \"Customer_Score\""
      ]
     },
     "metadata": {},
     "output_type": "display_data"
    },
    {
     "data": {
      "text/html": [
       "<table class=\"dataframe\">\n",
       "<caption>A data.frame: 11 × 9</caption>\n",
       "<thead>\n",
       "\t<tr><th scope=col>CID</th><th scope=col>Name</th><th scope=col>Address</th><th scope=col>Tel</th><th scope=col>Bday</th><th scope=col>SID</th><th scope=col>Job</th><th scope=col>Sex</th><th scope=col>Married</th></tr>\n",
       "\t<tr><th scope=col>&lt;int&gt;</th><th scope=col>&lt;chr&gt;</th><th scope=col>&lt;chr&gt;</th><th scope=col>&lt;chr&gt;</th><th scope=col>&lt;chr&gt;</th><th scope=col>&lt;chr&gt;</th><th scope=col>&lt;chr&gt;</th><th scope=col>&lt;int&gt;</th><th scope=col>&lt;int&gt;</th></tr>\n",
       "</thead>\n",
       "<tbody>\n",
       "\t<tr><td>100001</td><td>김민주</td><td>서울시 광진구  </td><td>423-8627</td><td>1975-07-01</td><td>750701-2534218</td><td>공무원</td><td>1</td><td>0</td></tr>\n",
       "\t<tr><td>100002</td><td>정영미</td><td>경기도 수원시  </td><td>321-4568</td><td>1977-02-01</td><td>770201-2834721</td><td>회사원</td><td>1</td><td>1</td></tr>\n",
       "\t<tr><td>100003</td><td>최소영</td><td>제주도 서귀포시</td><td>624-2172</td><td>1980-01-25</td><td>800125-2432712</td><td>학생  </td><td>1</td><td>0</td></tr>\n",
       "\t<tr><td>100004</td><td>박진재</td><td>강원도 속초시  </td><td>543-9467</td><td>1960-05-02</td><td>600502-1645394</td><td>공무원</td><td>0</td><td>1</td></tr>\n",
       "\t<tr><td>100005</td><td>이순석</td><td>충남 보령시    </td><td>254-9124</td><td>1982-06-01</td><td>820601-1543714</td><td>회사원</td><td>0</td><td>0</td></tr>\n",
       "\t<tr><td>100006</td><td>박선희</td><td>서울시 강남구  </td><td>459-2187</td><td>1975-04-05</td><td>801220-2487416</td><td>회사원</td><td>1</td><td>0</td></tr>\n",
       "\t<tr><td>100007</td><td>김화연</td><td>경남 경주시    </td><td>284-8147</td><td>1980-01-04</td><td>790221-2482217</td><td>학생  </td><td>1</td><td>0</td></tr>\n",
       "\t<tr><td>100008</td><td>박민선</td><td>부산시 해운대구</td><td>347-9124</td><td>1985-04-04</td><td>850527-2123827</td><td>학생  </td><td>1</td><td>0</td></tr>\n",
       "\t<tr><td>100009</td><td>노상수</td><td>전북 군산시    </td><td>547-2984</td><td>1981-01-30</td><td>741025-1441282</td><td>공무원</td><td>0</td><td>1</td></tr>\n",
       "\t<tr><td>100010</td><td>이민석</td><td>경기도 수원시  </td><td>354-2723</td><td>1972-08-02</td><td>720802-1481395</td><td>회사원</td><td>0</td><td>1</td></tr>\n",
       "\t<tr><td>100011</td><td>정영미</td><td>서울시 관악구  </td><td>272-6745</td><td>1974-09-21</td><td>740921-2782216</td><td>주부  </td><td>1</td><td>1</td></tr>\n",
       "</tbody>\n",
       "</table>\n"
      ],
      "text/latex": [
       "A data.frame: 11 × 9\n",
       "\\begin{tabular}{lllllllll}\n",
       " CID & Name & Address & Tel & Bday & SID & Job & Sex & Married\\\\\n",
       " <int> & <chr> & <chr> & <chr> & <chr> & <chr> & <chr> & <int> & <int>\\\\\n",
       "\\hline\n",
       "\t 100001 & 김민주 & 서울시 광진구   & 423-8627 & 1975-07-01 & 750701-2534218 & 공무원 & 1 & 0\\\\\n",
       "\t 100002 & 정영미 & 경기도 수원시   & 321-4568 & 1977-02-01 & 770201-2834721 & 회사원 & 1 & 1\\\\\n",
       "\t 100003 & 최소영 & 제주도 서귀포시 & 624-2172 & 1980-01-25 & 800125-2432712 & 학생   & 1 & 0\\\\\n",
       "\t 100004 & 박진재 & 강원도 속초시   & 543-9467 & 1960-05-02 & 600502-1645394 & 공무원 & 0 & 1\\\\\n",
       "\t 100005 & 이순석 & 충남 보령시     & 254-9124 & 1982-06-01 & 820601-1543714 & 회사원 & 0 & 0\\\\\n",
       "\t 100006 & 박선희 & 서울시 강남구   & 459-2187 & 1975-04-05 & 801220-2487416 & 회사원 & 1 & 0\\\\\n",
       "\t 100007 & 김화연 & 경남 경주시     & 284-8147 & 1980-01-04 & 790221-2482217 & 학생   & 1 & 0\\\\\n",
       "\t 100008 & 박민선 & 부산시 해운대구 & 347-9124 & 1985-04-04 & 850527-2123827 & 학생   & 1 & 0\\\\\n",
       "\t 100009 & 노상수 & 전북 군산시     & 547-2984 & 1981-01-30 & 741025-1441282 & 공무원 & 0 & 1\\\\\n",
       "\t 100010 & 이민석 & 경기도 수원시   & 354-2723 & 1972-08-02 & 720802-1481395 & 회사원 & 0 & 1\\\\\n",
       "\t 100011 & 정영미 & 서울시 관악구   & 272-6745 & 1974-09-21 & 740921-2782216 & 주부   & 1 & 1\\\\\n",
       "\\end{tabular}\n"
      ],
      "text/markdown": [
       "\n",
       "A data.frame: 11 × 9\n",
       "\n",
       "| CID &lt;int&gt; | Name &lt;chr&gt; | Address &lt;chr&gt; | Tel &lt;chr&gt; | Bday &lt;chr&gt; | SID &lt;chr&gt; | Job &lt;chr&gt; | Sex &lt;int&gt; | Married &lt;int&gt; |\n",
       "|---|---|---|---|---|---|---|---|---|\n",
       "| 100001 | 김민주 | 서울시 광진구   | 423-8627 | 1975-07-01 | 750701-2534218 | 공무원 | 1 | 0 |\n",
       "| 100002 | 정영미 | 경기도 수원시   | 321-4568 | 1977-02-01 | 770201-2834721 | 회사원 | 1 | 1 |\n",
       "| 100003 | 최소영 | 제주도 서귀포시 | 624-2172 | 1980-01-25 | 800125-2432712 | 학생   | 1 | 0 |\n",
       "| 100004 | 박진재 | 강원도 속초시   | 543-9467 | 1960-05-02 | 600502-1645394 | 공무원 | 0 | 1 |\n",
       "| 100005 | 이순석 | 충남 보령시     | 254-9124 | 1982-06-01 | 820601-1543714 | 회사원 | 0 | 0 |\n",
       "| 100006 | 박선희 | 서울시 강남구   | 459-2187 | 1975-04-05 | 801220-2487416 | 회사원 | 1 | 0 |\n",
       "| 100007 | 김화연 | 경남 경주시     | 284-8147 | 1980-01-04 | 790221-2482217 | 학생   | 1 | 0 |\n",
       "| 100008 | 박민선 | 부산시 해운대구 | 347-9124 | 1985-04-04 | 850527-2123827 | 학생   | 1 | 0 |\n",
       "| 100009 | 노상수 | 전북 군산시     | 547-2984 | 1981-01-30 | 741025-1441282 | 공무원 | 0 | 1 |\n",
       "| 100010 | 이민석 | 경기도 수원시   | 354-2723 | 1972-08-02 | 720802-1481395 | 회사원 | 0 | 1 |\n",
       "| 100011 | 정영미 | 서울시 관악구   | 272-6745 | 1974-09-21 | 740921-2782216 | 주부   | 1 | 1 |\n",
       "\n"
      ],
      "text/plain": [
       "   CID    Name   Address         Tel      Bday       SID            Job    Sex\n",
       "1  100001 김민주 서울시 광진구   423-8627 1975-07-01 750701-2534218 공무원 1  \n",
       "2  100002 정영미 경기도 수원시   321-4568 1977-02-01 770201-2834721 회사원 1  \n",
       "3  100003 최소영 제주도 서귀포시 624-2172 1980-01-25 800125-2432712 학생   1  \n",
       "4  100004 박진재 강원도 속초시   543-9467 1960-05-02 600502-1645394 공무원 0  \n",
       "5  100005 이순석 충남 보령시     254-9124 1982-06-01 820601-1543714 회사원 0  \n",
       "6  100006 박선희 서울시 강남구   459-2187 1975-04-05 801220-2487416 회사원 1  \n",
       "7  100007 김화연 경남 경주시     284-8147 1980-01-04 790221-2482217 학생   1  \n",
       "8  100008 박민선 부산시 해운대구 347-9124 1985-04-04 850527-2123827 학생   1  \n",
       "9  100009 노상수 전북 군산시     547-2984 1981-01-30 741025-1441282 공무원 0  \n",
       "10 100010 이민석 경기도 수원시   354-2723 1972-08-02 720802-1481395 회사원 0  \n",
       "11 100011 정영미 서울시 관악구   272-6745 1974-09-21 740921-2782216 주부   1  \n",
       "   Married\n",
       "1  0      \n",
       "2  1      \n",
       "3  0      \n",
       "4  1      \n",
       "5  0      \n",
       "6  0      \n",
       "7  0      \n",
       "8  0      \n",
       "9  1      \n",
       "10 1      \n",
       "11 1      "
      ]
     },
     "metadata": {},
     "output_type": "display_data"
    }
   ],
   "source": [
    "# Customer 데이터베이스 연결\n",
    "conn = dbConnect(SQLite(), dbname = \"c:/RSQL/Customer.sqlite\")\n",
    "\n",
    "# Customer 데이터베이스 안에 있는 테이블 리스트 확인하기\n",
    "dbListTables(conn)\n",
    "\n",
    "# CSV 화일의 데이터를 Customer_Info 테이블에 삽입하기\n",
    "customer_data = read.csv('customer_data.csv')\n",
    "dbWriteTable(conn = conn, name = \"Customer_Info\", customer_data, overwrite=T, row.names=FALSE)\n",
    "\n",
    "# Customer_Info 테이블에 있는 데이터 확인하기\n",
    "dbReadTable(conn, \"Customer_Info\")"
   ]
  },
  {
   "cell_type": "markdown",
   "id": "8c4371b0-de47-49ad-8119-a5a0991a329e",
   "metadata": {},
   "source": [
    "- 혹은 아래와 같이 확인할 수 있다. "
   ]
  },
  {
   "cell_type": "code",
   "execution_count": 35,
   "id": "ee7c7090-20cb-4321-a62d-d93a9809d0cd",
   "metadata": {},
   "outputs": [
    {
     "data": {
      "text/html": [
       "<table class=\"dataframe\">\n",
       "<caption>A data.frame: 11 × 9</caption>\n",
       "<thead>\n",
       "\t<tr><th scope=col>CID</th><th scope=col>Name</th><th scope=col>Address</th><th scope=col>Tel</th><th scope=col>Bday</th><th scope=col>SID</th><th scope=col>Job</th><th scope=col>Sex</th><th scope=col>Married</th></tr>\n",
       "\t<tr><th scope=col>&lt;int&gt;</th><th scope=col>&lt;chr&gt;</th><th scope=col>&lt;chr&gt;</th><th scope=col>&lt;chr&gt;</th><th scope=col>&lt;chr&gt;</th><th scope=col>&lt;chr&gt;</th><th scope=col>&lt;chr&gt;</th><th scope=col>&lt;int&gt;</th><th scope=col>&lt;int&gt;</th></tr>\n",
       "</thead>\n",
       "<tbody>\n",
       "\t<tr><td>100001</td><td>김민주</td><td>서울시 광진구  </td><td>423-8627</td><td>1975-07-01</td><td>750701-2534218</td><td>공무원</td><td>1</td><td>0</td></tr>\n",
       "\t<tr><td>100002</td><td>정영미</td><td>경기도 수원시  </td><td>321-4568</td><td>1977-02-01</td><td>770201-2834721</td><td>회사원</td><td>1</td><td>1</td></tr>\n",
       "\t<tr><td>100003</td><td>최소영</td><td>제주도 서귀포시</td><td>624-2172</td><td>1980-01-25</td><td>800125-2432712</td><td>학생  </td><td>1</td><td>0</td></tr>\n",
       "\t<tr><td>100004</td><td>박진재</td><td>강원도 속초시  </td><td>543-9467</td><td>1960-05-02</td><td>600502-1645394</td><td>공무원</td><td>0</td><td>1</td></tr>\n",
       "\t<tr><td>100005</td><td>이순석</td><td>충남 보령시    </td><td>254-9124</td><td>1982-06-01</td><td>820601-1543714</td><td>회사원</td><td>0</td><td>0</td></tr>\n",
       "\t<tr><td>100006</td><td>박선희</td><td>서울시 강남구  </td><td>459-2187</td><td>1975-04-05</td><td>801220-2487416</td><td>회사원</td><td>1</td><td>0</td></tr>\n",
       "\t<tr><td>100007</td><td>김화연</td><td>경남 경주시    </td><td>284-8147</td><td>1980-01-04</td><td>790221-2482217</td><td>학생  </td><td>1</td><td>0</td></tr>\n",
       "\t<tr><td>100008</td><td>박민선</td><td>부산시 해운대구</td><td>347-9124</td><td>1985-04-04</td><td>850527-2123827</td><td>학생  </td><td>1</td><td>0</td></tr>\n",
       "\t<tr><td>100009</td><td>노상수</td><td>전북 군산시    </td><td>547-2984</td><td>1981-01-30</td><td>741025-1441282</td><td>공무원</td><td>0</td><td>1</td></tr>\n",
       "\t<tr><td>100010</td><td>이민석</td><td>경기도 수원시  </td><td>354-2723</td><td>1972-08-02</td><td>720802-1481395</td><td>회사원</td><td>0</td><td>1</td></tr>\n",
       "\t<tr><td>100011</td><td>정영미</td><td>서울시 관악구  </td><td>272-6745</td><td>1974-09-21</td><td>740921-2782216</td><td>주부  </td><td>1</td><td>1</td></tr>\n",
       "</tbody>\n",
       "</table>\n"
      ],
      "text/latex": [
       "A data.frame: 11 × 9\n",
       "\\begin{tabular}{lllllllll}\n",
       " CID & Name & Address & Tel & Bday & SID & Job & Sex & Married\\\\\n",
       " <int> & <chr> & <chr> & <chr> & <chr> & <chr> & <chr> & <int> & <int>\\\\\n",
       "\\hline\n",
       "\t 100001 & 김민주 & 서울시 광진구   & 423-8627 & 1975-07-01 & 750701-2534218 & 공무원 & 1 & 0\\\\\n",
       "\t 100002 & 정영미 & 경기도 수원시   & 321-4568 & 1977-02-01 & 770201-2834721 & 회사원 & 1 & 1\\\\\n",
       "\t 100003 & 최소영 & 제주도 서귀포시 & 624-2172 & 1980-01-25 & 800125-2432712 & 학생   & 1 & 0\\\\\n",
       "\t 100004 & 박진재 & 강원도 속초시   & 543-9467 & 1960-05-02 & 600502-1645394 & 공무원 & 0 & 1\\\\\n",
       "\t 100005 & 이순석 & 충남 보령시     & 254-9124 & 1982-06-01 & 820601-1543714 & 회사원 & 0 & 0\\\\\n",
       "\t 100006 & 박선희 & 서울시 강남구   & 459-2187 & 1975-04-05 & 801220-2487416 & 회사원 & 1 & 0\\\\\n",
       "\t 100007 & 김화연 & 경남 경주시     & 284-8147 & 1980-01-04 & 790221-2482217 & 학생   & 1 & 0\\\\\n",
       "\t 100008 & 박민선 & 부산시 해운대구 & 347-9124 & 1985-04-04 & 850527-2123827 & 학생   & 1 & 0\\\\\n",
       "\t 100009 & 노상수 & 전북 군산시     & 547-2984 & 1981-01-30 & 741025-1441282 & 공무원 & 0 & 1\\\\\n",
       "\t 100010 & 이민석 & 경기도 수원시   & 354-2723 & 1972-08-02 & 720802-1481395 & 회사원 & 0 & 1\\\\\n",
       "\t 100011 & 정영미 & 서울시 관악구   & 272-6745 & 1974-09-21 & 740921-2782216 & 주부   & 1 & 1\\\\\n",
       "\\end{tabular}\n"
      ],
      "text/markdown": [
       "\n",
       "A data.frame: 11 × 9\n",
       "\n",
       "| CID &lt;int&gt; | Name &lt;chr&gt; | Address &lt;chr&gt; | Tel &lt;chr&gt; | Bday &lt;chr&gt; | SID &lt;chr&gt; | Job &lt;chr&gt; | Sex &lt;int&gt; | Married &lt;int&gt; |\n",
       "|---|---|---|---|---|---|---|---|---|\n",
       "| 100001 | 김민주 | 서울시 광진구   | 423-8627 | 1975-07-01 | 750701-2534218 | 공무원 | 1 | 0 |\n",
       "| 100002 | 정영미 | 경기도 수원시   | 321-4568 | 1977-02-01 | 770201-2834721 | 회사원 | 1 | 1 |\n",
       "| 100003 | 최소영 | 제주도 서귀포시 | 624-2172 | 1980-01-25 | 800125-2432712 | 학생   | 1 | 0 |\n",
       "| 100004 | 박진재 | 강원도 속초시   | 543-9467 | 1960-05-02 | 600502-1645394 | 공무원 | 0 | 1 |\n",
       "| 100005 | 이순석 | 충남 보령시     | 254-9124 | 1982-06-01 | 820601-1543714 | 회사원 | 0 | 0 |\n",
       "| 100006 | 박선희 | 서울시 강남구   | 459-2187 | 1975-04-05 | 801220-2487416 | 회사원 | 1 | 0 |\n",
       "| 100007 | 김화연 | 경남 경주시     | 284-8147 | 1980-01-04 | 790221-2482217 | 학생   | 1 | 0 |\n",
       "| 100008 | 박민선 | 부산시 해운대구 | 347-9124 | 1985-04-04 | 850527-2123827 | 학생   | 1 | 0 |\n",
       "| 100009 | 노상수 | 전북 군산시     | 547-2984 | 1981-01-30 | 741025-1441282 | 공무원 | 0 | 1 |\n",
       "| 100010 | 이민석 | 경기도 수원시   | 354-2723 | 1972-08-02 | 720802-1481395 | 회사원 | 0 | 1 |\n",
       "| 100011 | 정영미 | 서울시 관악구   | 272-6745 | 1974-09-21 | 740921-2782216 | 주부   | 1 | 1 |\n",
       "\n"
      ],
      "text/plain": [
       "   CID    Name   Address         Tel      Bday       SID            Job    Sex\n",
       "1  100001 김민주 서울시 광진구   423-8627 1975-07-01 750701-2534218 공무원 1  \n",
       "2  100002 정영미 경기도 수원시   321-4568 1977-02-01 770201-2834721 회사원 1  \n",
       "3  100003 최소영 제주도 서귀포시 624-2172 1980-01-25 800125-2432712 학생   1  \n",
       "4  100004 박진재 강원도 속초시   543-9467 1960-05-02 600502-1645394 공무원 0  \n",
       "5  100005 이순석 충남 보령시     254-9124 1982-06-01 820601-1543714 회사원 0  \n",
       "6  100006 박선희 서울시 강남구   459-2187 1975-04-05 801220-2487416 회사원 1  \n",
       "7  100007 김화연 경남 경주시     284-8147 1980-01-04 790221-2482217 학생   1  \n",
       "8  100008 박민선 부산시 해운대구 347-9124 1985-04-04 850527-2123827 학생   1  \n",
       "9  100009 노상수 전북 군산시     547-2984 1981-01-30 741025-1441282 공무원 0  \n",
       "10 100010 이민석 경기도 수원시   354-2723 1972-08-02 720802-1481395 회사원 0  \n",
       "11 100011 정영미 서울시 관악구   272-6745 1974-09-21 740921-2782216 주부   1  \n",
       "   Married\n",
       "1  0      \n",
       "2  1      \n",
       "3  0      \n",
       "4  1      \n",
       "5  0      \n",
       "6  0      \n",
       "7  0      \n",
       "8  0      \n",
       "9  1      \n",
       "10 1      \n",
       "11 1      "
      ]
     },
     "metadata": {},
     "output_type": "display_data"
    }
   ],
   "source": [
    "dbGetQuery(conn, \"SELECT * FROM Customer_Info \")\n",
    "# 귀찮으니 dbReadTable로 처리하자"
   ]
  },
  {
   "cell_type": "code",
   "execution_count": 36,
   "id": "12439a01-a4ba-4c17-8eca-a6de766e611f",
   "metadata": {},
   "outputs": [
    {
     "data": {
      "text/html": [
       "<table class=\"dataframe\">\n",
       "<caption>A data.frame: 22 × 4</caption>\n",
       "<thead>\n",
       "\t<tr><th scope=col>CID</th><th scope=col>Year</th><th scope=col>On_Score</th><th scope=col>Off_Score</th></tr>\n",
       "\t<tr><th scope=col>&lt;int&gt;</th><th scope=col>&lt;int&gt;</th><th scope=col>&lt;int&gt;</th><th scope=col>&lt;int&gt;</th></tr>\n",
       "</thead>\n",
       "<tbody>\n",
       "\t<tr><td>100001</td><td>2012</td><td> 42</td><td>111</td></tr>\n",
       "\t<tr><td>100002</td><td>2012</td><td> 12</td><td> 30</td></tr>\n",
       "\t<tr><td>100003</td><td>2012</td><td> 86</td><td>128</td></tr>\n",
       "\t<tr><td>100004</td><td>2012</td><td>  0</td><td> 87</td></tr>\n",
       "\t<tr><td>100005</td><td>2012</td><td>122</td><td> 56</td></tr>\n",
       "\t<tr><td>100006</td><td>2012</td><td> 98</td><td> 17</td></tr>\n",
       "\t<tr><td>100007</td><td>2012</td><td>  0</td><td>  0</td></tr>\n",
       "\t<tr><td>100008</td><td>2012</td><td> 56</td><td>172</td></tr>\n",
       "\t<tr><td>100009</td><td>2012</td><td> 24</td><td> 45</td></tr>\n",
       "\t<tr><td>100010</td><td>2012</td><td>  0</td><td> 21</td></tr>\n",
       "\t<tr><td>100011</td><td>2012</td><td>  0</td><td> 39</td></tr>\n",
       "\t<tr><td>100001</td><td>2013</td><td> 58</td><td> 89</td></tr>\n",
       "\t<tr><td>100002</td><td>2013</td><td> 98</td><td> 40</td></tr>\n",
       "\t<tr><td>100003</td><td>2013</td><td>402</td><td>128</td></tr>\n",
       "\t<tr><td>100004</td><td>2013</td><td>  0</td><td> 74</td></tr>\n",
       "\t<tr><td>100005</td><td>2013</td><td>356</td><td>132</td></tr>\n",
       "\t<tr><td>100006</td><td>2013</td><td> 66</td><td> 12</td></tr>\n",
       "\t<tr><td>100007</td><td>2013</td><td>  0</td><td>  5</td></tr>\n",
       "\t<tr><td>100008</td><td>2013</td><td> 44</td><td> 98</td></tr>\n",
       "\t<tr><td>100009</td><td>2013</td><td>  2</td><td>  6</td></tr>\n",
       "\t<tr><td>100010</td><td>2013</td><td>  0</td><td>  0</td></tr>\n",
       "\t<tr><td>100011</td><td>2013</td><td>  0</td><td> 48</td></tr>\n",
       "</tbody>\n",
       "</table>\n"
      ],
      "text/latex": [
       "A data.frame: 22 × 4\n",
       "\\begin{tabular}{llll}\n",
       " CID & Year & On\\_Score & Off\\_Score\\\\\n",
       " <int> & <int> & <int> & <int>\\\\\n",
       "\\hline\n",
       "\t 100001 & 2012 &  42 & 111\\\\\n",
       "\t 100002 & 2012 &  12 &  30\\\\\n",
       "\t 100003 & 2012 &  86 & 128\\\\\n",
       "\t 100004 & 2012 &   0 &  87\\\\\n",
       "\t 100005 & 2012 & 122 &  56\\\\\n",
       "\t 100006 & 2012 &  98 &  17\\\\\n",
       "\t 100007 & 2012 &   0 &   0\\\\\n",
       "\t 100008 & 2012 &  56 & 172\\\\\n",
       "\t 100009 & 2012 &  24 &  45\\\\\n",
       "\t 100010 & 2012 &   0 &  21\\\\\n",
       "\t 100011 & 2012 &   0 &  39\\\\\n",
       "\t 100001 & 2013 &  58 &  89\\\\\n",
       "\t 100002 & 2013 &  98 &  40\\\\\n",
       "\t 100003 & 2013 & 402 & 128\\\\\n",
       "\t 100004 & 2013 &   0 &  74\\\\\n",
       "\t 100005 & 2013 & 356 & 132\\\\\n",
       "\t 100006 & 2013 &  66 &  12\\\\\n",
       "\t 100007 & 2013 &   0 &   5\\\\\n",
       "\t 100008 & 2013 &  44 &  98\\\\\n",
       "\t 100009 & 2013 &   2 &   6\\\\\n",
       "\t 100010 & 2013 &   0 &   0\\\\\n",
       "\t 100011 & 2013 &   0 &  48\\\\\n",
       "\\end{tabular}\n"
      ],
      "text/markdown": [
       "\n",
       "A data.frame: 22 × 4\n",
       "\n",
       "| CID &lt;int&gt; | Year &lt;int&gt; | On_Score &lt;int&gt; | Off_Score &lt;int&gt; |\n",
       "|---|---|---|---|\n",
       "| 100001 | 2012 |  42 | 111 |\n",
       "| 100002 | 2012 |  12 |  30 |\n",
       "| 100003 | 2012 |  86 | 128 |\n",
       "| 100004 | 2012 |   0 |  87 |\n",
       "| 100005 | 2012 | 122 |  56 |\n",
       "| 100006 | 2012 |  98 |  17 |\n",
       "| 100007 | 2012 |   0 |   0 |\n",
       "| 100008 | 2012 |  56 | 172 |\n",
       "| 100009 | 2012 |  24 |  45 |\n",
       "| 100010 | 2012 |   0 |  21 |\n",
       "| 100011 | 2012 |   0 |  39 |\n",
       "| 100001 | 2013 |  58 |  89 |\n",
       "| 100002 | 2013 |  98 |  40 |\n",
       "| 100003 | 2013 | 402 | 128 |\n",
       "| 100004 | 2013 |   0 |  74 |\n",
       "| 100005 | 2013 | 356 | 132 |\n",
       "| 100006 | 2013 |  66 |  12 |\n",
       "| 100007 | 2013 |   0 |   5 |\n",
       "| 100008 | 2013 |  44 |  98 |\n",
       "| 100009 | 2013 |   2 |   6 |\n",
       "| 100010 | 2013 |   0 |   0 |\n",
       "| 100011 | 2013 |   0 |  48 |\n",
       "\n"
      ],
      "text/plain": [
       "   CID    Year On_Score Off_Score\n",
       "1  100001 2012  42      111      \n",
       "2  100002 2012  12       30      \n",
       "3  100003 2012  86      128      \n",
       "4  100004 2012   0       87      \n",
       "5  100005 2012 122       56      \n",
       "6  100006 2012  98       17      \n",
       "7  100007 2012   0        0      \n",
       "8  100008 2012  56      172      \n",
       "9  100009 2012  24       45      \n",
       "10 100010 2012   0       21      \n",
       "11 100011 2012   0       39      \n",
       "12 100001 2013  58       89      \n",
       "13 100002 2013  98       40      \n",
       "14 100003 2013 402      128      \n",
       "15 100004 2013   0       74      \n",
       "16 100005 2013 356      132      \n",
       "17 100006 2013  66       12      \n",
       "18 100007 2013   0        5      \n",
       "19 100008 2013  44       98      \n",
       "20 100009 2013   2        6      \n",
       "21 100010 2013   0        0      \n",
       "22 100011 2013   0       48      "
      ]
     },
     "metadata": {},
     "output_type": "display_data"
    }
   ],
   "source": [
    "customer_score = read.csv('customer_score.csv')\n",
    "dbWriteTable(conn = conn, name = \"Customer_Score\", customer_score,overwrite=T, row.names=FALSE)\n",
    "\n",
    "# Customer_Score 테이블에 있는 데이터 확인하기\n",
    "dbReadTable(conn, \"Customer_Score\")"
   ]
  },
  {
   "cell_type": "markdown",
   "id": "46e6f6bf-3048-4357-beda-c6f74e9c3c84",
   "metadata": {},
   "source": [
    "----"
   ]
  },
  {
   "cell_type": "code",
   "execution_count": 1,
   "id": "cc2e7c7e-5cb6-4263-a883-3e6f0f5d0f98",
   "metadata": {},
   "outputs": [],
   "source": [
    "library(DBI)\n",
    "library(RSQLite)"
   ]
  },
  {
   "cell_type": "code",
   "execution_count": 2,
   "id": "47e40859-522b-4a5b-a6d1-9a7281767108",
   "metadata": {},
   "outputs": [],
   "source": [
    "conn = dbConnect(SQLite(), dbname = \"c:/RSQL/Customer.sqlite\")"
   ]
  },
  {
   "cell_type": "code",
   "execution_count": 3,
   "id": "1ecfb37a-dcd6-46ea-8c61-1c897b465238",
   "metadata": {},
   "outputs": [
    {
     "data": {
      "text/html": [
       "<table class=\"dataframe\">\n",
       "<caption>A data.frame: 11 × 3</caption>\n",
       "<thead>\n",
       "\t<tr><th scope=col>CID</th><th scope=col>Name</th><th scope=col>Job</th></tr>\n",
       "\t<tr><th scope=col>&lt;int&gt;</th><th scope=col>&lt;chr&gt;</th><th scope=col>&lt;chr&gt;</th></tr>\n",
       "</thead>\n",
       "<tbody>\n",
       "\t<tr><td>100001</td><td>김민주</td><td>공무원</td></tr>\n",
       "\t<tr><td>100002</td><td>정영미</td><td>회사원</td></tr>\n",
       "\t<tr><td>100003</td><td>최소영</td><td>학생  </td></tr>\n",
       "\t<tr><td>100004</td><td>박진재</td><td>공무원</td></tr>\n",
       "\t<tr><td>100005</td><td>이순석</td><td>회사원</td></tr>\n",
       "\t<tr><td>100006</td><td>박선희</td><td>회사원</td></tr>\n",
       "\t<tr><td>100007</td><td>김화연</td><td>학생  </td></tr>\n",
       "\t<tr><td>100008</td><td>박민선</td><td>학생  </td></tr>\n",
       "\t<tr><td>100009</td><td>노상수</td><td>공무원</td></tr>\n",
       "\t<tr><td>100010</td><td>이민석</td><td>회사원</td></tr>\n",
       "\t<tr><td>100011</td><td>정영미</td><td>주부  </td></tr>\n",
       "</tbody>\n",
       "</table>\n"
      ],
      "text/latex": [
       "A data.frame: 11 × 3\n",
       "\\begin{tabular}{lll}\n",
       " CID & Name & Job\\\\\n",
       " <int> & <chr> & <chr>\\\\\n",
       "\\hline\n",
       "\t 100001 & 김민주 & 공무원\\\\\n",
       "\t 100002 & 정영미 & 회사원\\\\\n",
       "\t 100003 & 최소영 & 학생  \\\\\n",
       "\t 100004 & 박진재 & 공무원\\\\\n",
       "\t 100005 & 이순석 & 회사원\\\\\n",
       "\t 100006 & 박선희 & 회사원\\\\\n",
       "\t 100007 & 김화연 & 학생  \\\\\n",
       "\t 100008 & 박민선 & 학생  \\\\\n",
       "\t 100009 & 노상수 & 공무원\\\\\n",
       "\t 100010 & 이민석 & 회사원\\\\\n",
       "\t 100011 & 정영미 & 주부  \\\\\n",
       "\\end{tabular}\n"
      ],
      "text/markdown": [
       "\n",
       "A data.frame: 11 × 3\n",
       "\n",
       "| CID &lt;int&gt; | Name &lt;chr&gt; | Job &lt;chr&gt; |\n",
       "|---|---|---|\n",
       "| 100001 | 김민주 | 공무원 |\n",
       "| 100002 | 정영미 | 회사원 |\n",
       "| 100003 | 최소영 | 학생   |\n",
       "| 100004 | 박진재 | 공무원 |\n",
       "| 100005 | 이순석 | 회사원 |\n",
       "| 100006 | 박선희 | 회사원 |\n",
       "| 100007 | 김화연 | 학생   |\n",
       "| 100008 | 박민선 | 학생   |\n",
       "| 100009 | 노상수 | 공무원 |\n",
       "| 100010 | 이민석 | 회사원 |\n",
       "| 100011 | 정영미 | 주부   |\n",
       "\n"
      ],
      "text/plain": [
       "   CID    Name   Job   \n",
       "1  100001 김민주 공무원\n",
       "2  100002 정영미 회사원\n",
       "3  100003 최소영 학생  \n",
       "4  100004 박진재 공무원\n",
       "5  100005 이순석 회사원\n",
       "6  100006 박선희 회사원\n",
       "7  100007 김화연 학생  \n",
       "8  100008 박민선 학생  \n",
       "9  100009 노상수 공무원\n",
       "10 100010 이민석 회사원\n",
       "11 100011 정영미 주부  "
      ]
     },
     "metadata": {},
     "output_type": "display_data"
    }
   ],
   "source": [
    "sql = \"SELECT CID, Name, Job FROM Customer_Info\"\n",
    "dbGetQuery(conn, sql)"
   ]
  },
  {
   "cell_type": "markdown",
   "id": "7d8a8300-a359-4159-b5ac-1680713ed391",
   "metadata": {},
   "source": [
    "- 전체 field 가져오기"
   ]
  },
  {
   "cell_type": "code",
   "execution_count": 4,
   "id": "356c7097-c46b-4d09-9192-2a510af8e5bc",
   "metadata": {},
   "outputs": [
    {
     "data": {
      "text/html": [
       "<table class=\"dataframe\">\n",
       "<caption>A data.frame: 11 × 9</caption>\n",
       "<thead>\n",
       "\t<tr><th scope=col>CID</th><th scope=col>Name</th><th scope=col>Address</th><th scope=col>Tel</th><th scope=col>Bday</th><th scope=col>SID</th><th scope=col>Job</th><th scope=col>Sex</th><th scope=col>Married</th></tr>\n",
       "\t<tr><th scope=col>&lt;int&gt;</th><th scope=col>&lt;chr&gt;</th><th scope=col>&lt;chr&gt;</th><th scope=col>&lt;chr&gt;</th><th scope=col>&lt;chr&gt;</th><th scope=col>&lt;chr&gt;</th><th scope=col>&lt;chr&gt;</th><th scope=col>&lt;int&gt;</th><th scope=col>&lt;int&gt;</th></tr>\n",
       "</thead>\n",
       "<tbody>\n",
       "\t<tr><td>100001</td><td>김민주</td><td>서울시 광진구  </td><td>423-8627</td><td>1975-07-01</td><td>750701-2534218</td><td>공무원</td><td>1</td><td>0</td></tr>\n",
       "\t<tr><td>100002</td><td>정영미</td><td>경기도 수원시  </td><td>321-4568</td><td>1977-02-01</td><td>770201-2834721</td><td>회사원</td><td>1</td><td>1</td></tr>\n",
       "\t<tr><td>100003</td><td>최소영</td><td>제주도 서귀포시</td><td>624-2172</td><td>1980-01-25</td><td>800125-2432712</td><td>학생  </td><td>1</td><td>0</td></tr>\n",
       "\t<tr><td>100004</td><td>박진재</td><td>강원도 속초시  </td><td>543-9467</td><td>1960-05-02</td><td>600502-1645394</td><td>공무원</td><td>0</td><td>1</td></tr>\n",
       "\t<tr><td>100005</td><td>이순석</td><td>충남 보령시    </td><td>254-9124</td><td>1982-06-01</td><td>820601-1543714</td><td>회사원</td><td>0</td><td>0</td></tr>\n",
       "\t<tr><td>100006</td><td>박선희</td><td>서울시 강남구  </td><td>459-2187</td><td>1975-04-05</td><td>801220-2487416</td><td>회사원</td><td>1</td><td>0</td></tr>\n",
       "\t<tr><td>100007</td><td>김화연</td><td>경남 경주시    </td><td>284-8147</td><td>1980-01-04</td><td>790221-2482217</td><td>학생  </td><td>1</td><td>0</td></tr>\n",
       "\t<tr><td>100008</td><td>박민선</td><td>부산시 해운대구</td><td>347-9124</td><td>1985-04-04</td><td>850527-2123827</td><td>학생  </td><td>1</td><td>0</td></tr>\n",
       "\t<tr><td>100009</td><td>노상수</td><td>전북 군산시    </td><td>547-2984</td><td>1981-01-30</td><td>741025-1441282</td><td>공무원</td><td>0</td><td>1</td></tr>\n",
       "\t<tr><td>100010</td><td>이민석</td><td>경기도 수원시  </td><td>354-2723</td><td>1972-08-02</td><td>720802-1481395</td><td>회사원</td><td>0</td><td>1</td></tr>\n",
       "\t<tr><td>100011</td><td>정영미</td><td>서울시 관악구  </td><td>272-6745</td><td>1974-09-21</td><td>740921-2782216</td><td>주부  </td><td>1</td><td>1</td></tr>\n",
       "</tbody>\n",
       "</table>\n"
      ],
      "text/latex": [
       "A data.frame: 11 × 9\n",
       "\\begin{tabular}{lllllllll}\n",
       " CID & Name & Address & Tel & Bday & SID & Job & Sex & Married\\\\\n",
       " <int> & <chr> & <chr> & <chr> & <chr> & <chr> & <chr> & <int> & <int>\\\\\n",
       "\\hline\n",
       "\t 100001 & 김민주 & 서울시 광진구   & 423-8627 & 1975-07-01 & 750701-2534218 & 공무원 & 1 & 0\\\\\n",
       "\t 100002 & 정영미 & 경기도 수원시   & 321-4568 & 1977-02-01 & 770201-2834721 & 회사원 & 1 & 1\\\\\n",
       "\t 100003 & 최소영 & 제주도 서귀포시 & 624-2172 & 1980-01-25 & 800125-2432712 & 학생   & 1 & 0\\\\\n",
       "\t 100004 & 박진재 & 강원도 속초시   & 543-9467 & 1960-05-02 & 600502-1645394 & 공무원 & 0 & 1\\\\\n",
       "\t 100005 & 이순석 & 충남 보령시     & 254-9124 & 1982-06-01 & 820601-1543714 & 회사원 & 0 & 0\\\\\n",
       "\t 100006 & 박선희 & 서울시 강남구   & 459-2187 & 1975-04-05 & 801220-2487416 & 회사원 & 1 & 0\\\\\n",
       "\t 100007 & 김화연 & 경남 경주시     & 284-8147 & 1980-01-04 & 790221-2482217 & 학생   & 1 & 0\\\\\n",
       "\t 100008 & 박민선 & 부산시 해운대구 & 347-9124 & 1985-04-04 & 850527-2123827 & 학생   & 1 & 0\\\\\n",
       "\t 100009 & 노상수 & 전북 군산시     & 547-2984 & 1981-01-30 & 741025-1441282 & 공무원 & 0 & 1\\\\\n",
       "\t 100010 & 이민석 & 경기도 수원시   & 354-2723 & 1972-08-02 & 720802-1481395 & 회사원 & 0 & 1\\\\\n",
       "\t 100011 & 정영미 & 서울시 관악구   & 272-6745 & 1974-09-21 & 740921-2782216 & 주부   & 1 & 1\\\\\n",
       "\\end{tabular}\n"
      ],
      "text/markdown": [
       "\n",
       "A data.frame: 11 × 9\n",
       "\n",
       "| CID &lt;int&gt; | Name &lt;chr&gt; | Address &lt;chr&gt; | Tel &lt;chr&gt; | Bday &lt;chr&gt; | SID &lt;chr&gt; | Job &lt;chr&gt; | Sex &lt;int&gt; | Married &lt;int&gt; |\n",
       "|---|---|---|---|---|---|---|---|---|\n",
       "| 100001 | 김민주 | 서울시 광진구   | 423-8627 | 1975-07-01 | 750701-2534218 | 공무원 | 1 | 0 |\n",
       "| 100002 | 정영미 | 경기도 수원시   | 321-4568 | 1977-02-01 | 770201-2834721 | 회사원 | 1 | 1 |\n",
       "| 100003 | 최소영 | 제주도 서귀포시 | 624-2172 | 1980-01-25 | 800125-2432712 | 학생   | 1 | 0 |\n",
       "| 100004 | 박진재 | 강원도 속초시   | 543-9467 | 1960-05-02 | 600502-1645394 | 공무원 | 0 | 1 |\n",
       "| 100005 | 이순석 | 충남 보령시     | 254-9124 | 1982-06-01 | 820601-1543714 | 회사원 | 0 | 0 |\n",
       "| 100006 | 박선희 | 서울시 강남구   | 459-2187 | 1975-04-05 | 801220-2487416 | 회사원 | 1 | 0 |\n",
       "| 100007 | 김화연 | 경남 경주시     | 284-8147 | 1980-01-04 | 790221-2482217 | 학생   | 1 | 0 |\n",
       "| 100008 | 박민선 | 부산시 해운대구 | 347-9124 | 1985-04-04 | 850527-2123827 | 학생   | 1 | 0 |\n",
       "| 100009 | 노상수 | 전북 군산시     | 547-2984 | 1981-01-30 | 741025-1441282 | 공무원 | 0 | 1 |\n",
       "| 100010 | 이민석 | 경기도 수원시   | 354-2723 | 1972-08-02 | 720802-1481395 | 회사원 | 0 | 1 |\n",
       "| 100011 | 정영미 | 서울시 관악구   | 272-6745 | 1974-09-21 | 740921-2782216 | 주부   | 1 | 1 |\n",
       "\n"
      ],
      "text/plain": [
       "   CID    Name   Address         Tel      Bday       SID            Job    Sex\n",
       "1  100001 김민주 서울시 광진구   423-8627 1975-07-01 750701-2534218 공무원 1  \n",
       "2  100002 정영미 경기도 수원시   321-4568 1977-02-01 770201-2834721 회사원 1  \n",
       "3  100003 최소영 제주도 서귀포시 624-2172 1980-01-25 800125-2432712 학생   1  \n",
       "4  100004 박진재 강원도 속초시   543-9467 1960-05-02 600502-1645394 공무원 0  \n",
       "5  100005 이순석 충남 보령시     254-9124 1982-06-01 820601-1543714 회사원 0  \n",
       "6  100006 박선희 서울시 강남구   459-2187 1975-04-05 801220-2487416 회사원 1  \n",
       "7  100007 김화연 경남 경주시     284-8147 1980-01-04 790221-2482217 학생   1  \n",
       "8  100008 박민선 부산시 해운대구 347-9124 1985-04-04 850527-2123827 학생   1  \n",
       "9  100009 노상수 전북 군산시     547-2984 1981-01-30 741025-1441282 공무원 0  \n",
       "10 100010 이민석 경기도 수원시   354-2723 1972-08-02 720802-1481395 회사원 0  \n",
       "11 100011 정영미 서울시 관악구   272-6745 1974-09-21 740921-2782216 주부   1  \n",
       "   Married\n",
       "1  0      \n",
       "2  1      \n",
       "3  0      \n",
       "4  1      \n",
       "5  0      \n",
       "6  0      \n",
       "7  0      \n",
       "8  0      \n",
       "9  1      \n",
       "10 1      \n",
       "11 1      "
      ]
     },
     "metadata": {},
     "output_type": "display_data"
    },
    {
     "data": {
      "text/html": [
       "<table class=\"dataframe\">\n",
       "<caption>A data.frame: 11 × 9</caption>\n",
       "<thead>\n",
       "\t<tr><th scope=col>CID</th><th scope=col>Name</th><th scope=col>Address</th><th scope=col>Tel</th><th scope=col>Bday</th><th scope=col>SID</th><th scope=col>Job</th><th scope=col>Sex</th><th scope=col>Married</th></tr>\n",
       "\t<tr><th scope=col>&lt;int&gt;</th><th scope=col>&lt;chr&gt;</th><th scope=col>&lt;chr&gt;</th><th scope=col>&lt;chr&gt;</th><th scope=col>&lt;chr&gt;</th><th scope=col>&lt;chr&gt;</th><th scope=col>&lt;chr&gt;</th><th scope=col>&lt;int&gt;</th><th scope=col>&lt;int&gt;</th></tr>\n",
       "</thead>\n",
       "<tbody>\n",
       "\t<tr><td>100001</td><td>김민주</td><td>서울시 광진구  </td><td>423-8627</td><td>1975-07-01</td><td>750701-2534218</td><td>공무원</td><td>1</td><td>0</td></tr>\n",
       "\t<tr><td>100002</td><td>정영미</td><td>경기도 수원시  </td><td>321-4568</td><td>1977-02-01</td><td>770201-2834721</td><td>회사원</td><td>1</td><td>1</td></tr>\n",
       "\t<tr><td>100003</td><td>최소영</td><td>제주도 서귀포시</td><td>624-2172</td><td>1980-01-25</td><td>800125-2432712</td><td>학생  </td><td>1</td><td>0</td></tr>\n",
       "\t<tr><td>100004</td><td>박진재</td><td>강원도 속초시  </td><td>543-9467</td><td>1960-05-02</td><td>600502-1645394</td><td>공무원</td><td>0</td><td>1</td></tr>\n",
       "\t<tr><td>100005</td><td>이순석</td><td>충남 보령시    </td><td>254-9124</td><td>1982-06-01</td><td>820601-1543714</td><td>회사원</td><td>0</td><td>0</td></tr>\n",
       "\t<tr><td>100006</td><td>박선희</td><td>서울시 강남구  </td><td>459-2187</td><td>1975-04-05</td><td>801220-2487416</td><td>회사원</td><td>1</td><td>0</td></tr>\n",
       "\t<tr><td>100007</td><td>김화연</td><td>경남 경주시    </td><td>284-8147</td><td>1980-01-04</td><td>790221-2482217</td><td>학생  </td><td>1</td><td>0</td></tr>\n",
       "\t<tr><td>100008</td><td>박민선</td><td>부산시 해운대구</td><td>347-9124</td><td>1985-04-04</td><td>850527-2123827</td><td>학생  </td><td>1</td><td>0</td></tr>\n",
       "\t<tr><td>100009</td><td>노상수</td><td>전북 군산시    </td><td>547-2984</td><td>1981-01-30</td><td>741025-1441282</td><td>공무원</td><td>0</td><td>1</td></tr>\n",
       "\t<tr><td>100010</td><td>이민석</td><td>경기도 수원시  </td><td>354-2723</td><td>1972-08-02</td><td>720802-1481395</td><td>회사원</td><td>0</td><td>1</td></tr>\n",
       "\t<tr><td>100011</td><td>정영미</td><td>서울시 관악구  </td><td>272-6745</td><td>1974-09-21</td><td>740921-2782216</td><td>주부  </td><td>1</td><td>1</td></tr>\n",
       "</tbody>\n",
       "</table>\n"
      ],
      "text/latex": [
       "A data.frame: 11 × 9\n",
       "\\begin{tabular}{lllllllll}\n",
       " CID & Name & Address & Tel & Bday & SID & Job & Sex & Married\\\\\n",
       " <int> & <chr> & <chr> & <chr> & <chr> & <chr> & <chr> & <int> & <int>\\\\\n",
       "\\hline\n",
       "\t 100001 & 김민주 & 서울시 광진구   & 423-8627 & 1975-07-01 & 750701-2534218 & 공무원 & 1 & 0\\\\\n",
       "\t 100002 & 정영미 & 경기도 수원시   & 321-4568 & 1977-02-01 & 770201-2834721 & 회사원 & 1 & 1\\\\\n",
       "\t 100003 & 최소영 & 제주도 서귀포시 & 624-2172 & 1980-01-25 & 800125-2432712 & 학생   & 1 & 0\\\\\n",
       "\t 100004 & 박진재 & 강원도 속초시   & 543-9467 & 1960-05-02 & 600502-1645394 & 공무원 & 0 & 1\\\\\n",
       "\t 100005 & 이순석 & 충남 보령시     & 254-9124 & 1982-06-01 & 820601-1543714 & 회사원 & 0 & 0\\\\\n",
       "\t 100006 & 박선희 & 서울시 강남구   & 459-2187 & 1975-04-05 & 801220-2487416 & 회사원 & 1 & 0\\\\\n",
       "\t 100007 & 김화연 & 경남 경주시     & 284-8147 & 1980-01-04 & 790221-2482217 & 학생   & 1 & 0\\\\\n",
       "\t 100008 & 박민선 & 부산시 해운대구 & 347-9124 & 1985-04-04 & 850527-2123827 & 학생   & 1 & 0\\\\\n",
       "\t 100009 & 노상수 & 전북 군산시     & 547-2984 & 1981-01-30 & 741025-1441282 & 공무원 & 0 & 1\\\\\n",
       "\t 100010 & 이민석 & 경기도 수원시   & 354-2723 & 1972-08-02 & 720802-1481395 & 회사원 & 0 & 1\\\\\n",
       "\t 100011 & 정영미 & 서울시 관악구   & 272-6745 & 1974-09-21 & 740921-2782216 & 주부   & 1 & 1\\\\\n",
       "\\end{tabular}\n"
      ],
      "text/markdown": [
       "\n",
       "A data.frame: 11 × 9\n",
       "\n",
       "| CID &lt;int&gt; | Name &lt;chr&gt; | Address &lt;chr&gt; | Tel &lt;chr&gt; | Bday &lt;chr&gt; | SID &lt;chr&gt; | Job &lt;chr&gt; | Sex &lt;int&gt; | Married &lt;int&gt; |\n",
       "|---|---|---|---|---|---|---|---|---|\n",
       "| 100001 | 김민주 | 서울시 광진구   | 423-8627 | 1975-07-01 | 750701-2534218 | 공무원 | 1 | 0 |\n",
       "| 100002 | 정영미 | 경기도 수원시   | 321-4568 | 1977-02-01 | 770201-2834721 | 회사원 | 1 | 1 |\n",
       "| 100003 | 최소영 | 제주도 서귀포시 | 624-2172 | 1980-01-25 | 800125-2432712 | 학생   | 1 | 0 |\n",
       "| 100004 | 박진재 | 강원도 속초시   | 543-9467 | 1960-05-02 | 600502-1645394 | 공무원 | 0 | 1 |\n",
       "| 100005 | 이순석 | 충남 보령시     | 254-9124 | 1982-06-01 | 820601-1543714 | 회사원 | 0 | 0 |\n",
       "| 100006 | 박선희 | 서울시 강남구   | 459-2187 | 1975-04-05 | 801220-2487416 | 회사원 | 1 | 0 |\n",
       "| 100007 | 김화연 | 경남 경주시     | 284-8147 | 1980-01-04 | 790221-2482217 | 학생   | 1 | 0 |\n",
       "| 100008 | 박민선 | 부산시 해운대구 | 347-9124 | 1985-04-04 | 850527-2123827 | 학생   | 1 | 0 |\n",
       "| 100009 | 노상수 | 전북 군산시     | 547-2984 | 1981-01-30 | 741025-1441282 | 공무원 | 0 | 1 |\n",
       "| 100010 | 이민석 | 경기도 수원시   | 354-2723 | 1972-08-02 | 720802-1481395 | 회사원 | 0 | 1 |\n",
       "| 100011 | 정영미 | 서울시 관악구   | 272-6745 | 1974-09-21 | 740921-2782216 | 주부   | 1 | 1 |\n",
       "\n"
      ],
      "text/plain": [
       "   CID    Name   Address         Tel      Bday       SID            Job    Sex\n",
       "1  100001 김민주 서울시 광진구   423-8627 1975-07-01 750701-2534218 공무원 1  \n",
       "2  100002 정영미 경기도 수원시   321-4568 1977-02-01 770201-2834721 회사원 1  \n",
       "3  100003 최소영 제주도 서귀포시 624-2172 1980-01-25 800125-2432712 학생   1  \n",
       "4  100004 박진재 강원도 속초시   543-9467 1960-05-02 600502-1645394 공무원 0  \n",
       "5  100005 이순석 충남 보령시     254-9124 1982-06-01 820601-1543714 회사원 0  \n",
       "6  100006 박선희 서울시 강남구   459-2187 1975-04-05 801220-2487416 회사원 1  \n",
       "7  100007 김화연 경남 경주시     284-8147 1980-01-04 790221-2482217 학생   1  \n",
       "8  100008 박민선 부산시 해운대구 347-9124 1985-04-04 850527-2123827 학생   1  \n",
       "9  100009 노상수 전북 군산시     547-2984 1981-01-30 741025-1441282 공무원 0  \n",
       "10 100010 이민석 경기도 수원시   354-2723 1972-08-02 720802-1481395 회사원 0  \n",
       "11 100011 정영미 서울시 관악구   272-6745 1974-09-21 740921-2782216 주부   1  \n",
       "   Married\n",
       "1  0      \n",
       "2  1      \n",
       "3  0      \n",
       "4  1      \n",
       "5  0      \n",
       "6  0      \n",
       "7  0      \n",
       "8  0      \n",
       "9  1      \n",
       "10 1      \n",
       "11 1      "
      ]
     },
     "metadata": {},
     "output_type": "display_data"
    },
    {
     "data": {
      "text/html": [
       "<table class=\"dataframe\">\n",
       "<caption>A data.frame: 11 × 9</caption>\n",
       "<thead>\n",
       "\t<tr><th scope=col>CID</th><th scope=col>Name</th><th scope=col>Address</th><th scope=col>Tel</th><th scope=col>Bday</th><th scope=col>SID</th><th scope=col>Job</th><th scope=col>Sex</th><th scope=col>Married</th></tr>\n",
       "\t<tr><th scope=col>&lt;int&gt;</th><th scope=col>&lt;chr&gt;</th><th scope=col>&lt;chr&gt;</th><th scope=col>&lt;chr&gt;</th><th scope=col>&lt;chr&gt;</th><th scope=col>&lt;chr&gt;</th><th scope=col>&lt;chr&gt;</th><th scope=col>&lt;int&gt;</th><th scope=col>&lt;int&gt;</th></tr>\n",
       "</thead>\n",
       "<tbody>\n",
       "\t<tr><td>100001</td><td>김민주</td><td>서울시 광진구  </td><td>423-8627</td><td>1975-07-01</td><td>750701-2534218</td><td>공무원</td><td>1</td><td>0</td></tr>\n",
       "\t<tr><td>100002</td><td>정영미</td><td>경기도 수원시  </td><td>321-4568</td><td>1977-02-01</td><td>770201-2834721</td><td>회사원</td><td>1</td><td>1</td></tr>\n",
       "\t<tr><td>100003</td><td>최소영</td><td>제주도 서귀포시</td><td>624-2172</td><td>1980-01-25</td><td>800125-2432712</td><td>학생  </td><td>1</td><td>0</td></tr>\n",
       "\t<tr><td>100004</td><td>박진재</td><td>강원도 속초시  </td><td>543-9467</td><td>1960-05-02</td><td>600502-1645394</td><td>공무원</td><td>0</td><td>1</td></tr>\n",
       "\t<tr><td>100005</td><td>이순석</td><td>충남 보령시    </td><td>254-9124</td><td>1982-06-01</td><td>820601-1543714</td><td>회사원</td><td>0</td><td>0</td></tr>\n",
       "\t<tr><td>100006</td><td>박선희</td><td>서울시 강남구  </td><td>459-2187</td><td>1975-04-05</td><td>801220-2487416</td><td>회사원</td><td>1</td><td>0</td></tr>\n",
       "\t<tr><td>100007</td><td>김화연</td><td>경남 경주시    </td><td>284-8147</td><td>1980-01-04</td><td>790221-2482217</td><td>학생  </td><td>1</td><td>0</td></tr>\n",
       "\t<tr><td>100008</td><td>박민선</td><td>부산시 해운대구</td><td>347-9124</td><td>1985-04-04</td><td>850527-2123827</td><td>학생  </td><td>1</td><td>0</td></tr>\n",
       "\t<tr><td>100009</td><td>노상수</td><td>전북 군산시    </td><td>547-2984</td><td>1981-01-30</td><td>741025-1441282</td><td>공무원</td><td>0</td><td>1</td></tr>\n",
       "\t<tr><td>100010</td><td>이민석</td><td>경기도 수원시  </td><td>354-2723</td><td>1972-08-02</td><td>720802-1481395</td><td>회사원</td><td>0</td><td>1</td></tr>\n",
       "\t<tr><td>100011</td><td>정영미</td><td>서울시 관악구  </td><td>272-6745</td><td>1974-09-21</td><td>740921-2782216</td><td>주부  </td><td>1</td><td>1</td></tr>\n",
       "</tbody>\n",
       "</table>\n"
      ],
      "text/latex": [
       "A data.frame: 11 × 9\n",
       "\\begin{tabular}{lllllllll}\n",
       " CID & Name & Address & Tel & Bday & SID & Job & Sex & Married\\\\\n",
       " <int> & <chr> & <chr> & <chr> & <chr> & <chr> & <chr> & <int> & <int>\\\\\n",
       "\\hline\n",
       "\t 100001 & 김민주 & 서울시 광진구   & 423-8627 & 1975-07-01 & 750701-2534218 & 공무원 & 1 & 0\\\\\n",
       "\t 100002 & 정영미 & 경기도 수원시   & 321-4568 & 1977-02-01 & 770201-2834721 & 회사원 & 1 & 1\\\\\n",
       "\t 100003 & 최소영 & 제주도 서귀포시 & 624-2172 & 1980-01-25 & 800125-2432712 & 학생   & 1 & 0\\\\\n",
       "\t 100004 & 박진재 & 강원도 속초시   & 543-9467 & 1960-05-02 & 600502-1645394 & 공무원 & 0 & 1\\\\\n",
       "\t 100005 & 이순석 & 충남 보령시     & 254-9124 & 1982-06-01 & 820601-1543714 & 회사원 & 0 & 0\\\\\n",
       "\t 100006 & 박선희 & 서울시 강남구   & 459-2187 & 1975-04-05 & 801220-2487416 & 회사원 & 1 & 0\\\\\n",
       "\t 100007 & 김화연 & 경남 경주시     & 284-8147 & 1980-01-04 & 790221-2482217 & 학생   & 1 & 0\\\\\n",
       "\t 100008 & 박민선 & 부산시 해운대구 & 347-9124 & 1985-04-04 & 850527-2123827 & 학생   & 1 & 0\\\\\n",
       "\t 100009 & 노상수 & 전북 군산시     & 547-2984 & 1981-01-30 & 741025-1441282 & 공무원 & 0 & 1\\\\\n",
       "\t 100010 & 이민석 & 경기도 수원시   & 354-2723 & 1972-08-02 & 720802-1481395 & 회사원 & 0 & 1\\\\\n",
       "\t 100011 & 정영미 & 서울시 관악구   & 272-6745 & 1974-09-21 & 740921-2782216 & 주부   & 1 & 1\\\\\n",
       "\\end{tabular}\n"
      ],
      "text/markdown": [
       "\n",
       "A data.frame: 11 × 9\n",
       "\n",
       "| CID &lt;int&gt; | Name &lt;chr&gt; | Address &lt;chr&gt; | Tel &lt;chr&gt; | Bday &lt;chr&gt; | SID &lt;chr&gt; | Job &lt;chr&gt; | Sex &lt;int&gt; | Married &lt;int&gt; |\n",
       "|---|---|---|---|---|---|---|---|---|\n",
       "| 100001 | 김민주 | 서울시 광진구   | 423-8627 | 1975-07-01 | 750701-2534218 | 공무원 | 1 | 0 |\n",
       "| 100002 | 정영미 | 경기도 수원시   | 321-4568 | 1977-02-01 | 770201-2834721 | 회사원 | 1 | 1 |\n",
       "| 100003 | 최소영 | 제주도 서귀포시 | 624-2172 | 1980-01-25 | 800125-2432712 | 학생   | 1 | 0 |\n",
       "| 100004 | 박진재 | 강원도 속초시   | 543-9467 | 1960-05-02 | 600502-1645394 | 공무원 | 0 | 1 |\n",
       "| 100005 | 이순석 | 충남 보령시     | 254-9124 | 1982-06-01 | 820601-1543714 | 회사원 | 0 | 0 |\n",
       "| 100006 | 박선희 | 서울시 강남구   | 459-2187 | 1975-04-05 | 801220-2487416 | 회사원 | 1 | 0 |\n",
       "| 100007 | 김화연 | 경남 경주시     | 284-8147 | 1980-01-04 | 790221-2482217 | 학생   | 1 | 0 |\n",
       "| 100008 | 박민선 | 부산시 해운대구 | 347-9124 | 1985-04-04 | 850527-2123827 | 학생   | 1 | 0 |\n",
       "| 100009 | 노상수 | 전북 군산시     | 547-2984 | 1981-01-30 | 741025-1441282 | 공무원 | 0 | 1 |\n",
       "| 100010 | 이민석 | 경기도 수원시   | 354-2723 | 1972-08-02 | 720802-1481395 | 회사원 | 0 | 1 |\n",
       "| 100011 | 정영미 | 서울시 관악구   | 272-6745 | 1974-09-21 | 740921-2782216 | 주부   | 1 | 1 |\n",
       "\n"
      ],
      "text/plain": [
       "   CID    Name   Address         Tel      Bday       SID            Job    Sex\n",
       "1  100001 김민주 서울시 광진구   423-8627 1975-07-01 750701-2534218 공무원 1  \n",
       "2  100002 정영미 경기도 수원시   321-4568 1977-02-01 770201-2834721 회사원 1  \n",
       "3  100003 최소영 제주도 서귀포시 624-2172 1980-01-25 800125-2432712 학생   1  \n",
       "4  100004 박진재 강원도 속초시   543-9467 1960-05-02 600502-1645394 공무원 0  \n",
       "5  100005 이순석 충남 보령시     254-9124 1982-06-01 820601-1543714 회사원 0  \n",
       "6  100006 박선희 서울시 강남구   459-2187 1975-04-05 801220-2487416 회사원 1  \n",
       "7  100007 김화연 경남 경주시     284-8147 1980-01-04 790221-2482217 학생   1  \n",
       "8  100008 박민선 부산시 해운대구 347-9124 1985-04-04 850527-2123827 학생   1  \n",
       "9  100009 노상수 전북 군산시     547-2984 1981-01-30 741025-1441282 공무원 0  \n",
       "10 100010 이민석 경기도 수원시   354-2723 1972-08-02 720802-1481395 회사원 0  \n",
       "11 100011 정영미 서울시 관악구   272-6745 1974-09-21 740921-2782216 주부   1  \n",
       "   Married\n",
       "1  0      \n",
       "2  1      \n",
       "3  0      \n",
       "4  1      \n",
       "5  0      \n",
       "6  0      \n",
       "7  0      \n",
       "8  0      \n",
       "9  1      \n",
       "10 1      \n",
       "11 1      "
      ]
     },
     "metadata": {},
     "output_type": "display_data"
    }
   ],
   "source": [
    "sql = \"SELECT all * FROM Customer_Info\"\n",
    "dbGetQuery(conn, sql)\n",
    "# 또는\n",
    "sql = \"SELECT * from Customer_Info\"\n",
    "dbGetQuery(conn, sql)\n",
    "# 또는\n",
    "sql = \"SELECT CID, Name, Address, Tel, Bday, SID, Job, Sex, Married FROM Customer_Info\"\n",
    "dbGetQuery(conn, sql)"
   ]
  },
  {
   "cell_type": "markdown",
   "id": "a13b5860-f684-4fc2-ba98-9df0a7dd20ed",
   "metadata": {},
   "source": [
    "- 검색 결과에서 레코드의 중복 제거"
   ]
  },
  {
   "cell_type": "code",
   "execution_count": 5,
   "id": "fb0e1af4-0ba1-419e-ba90-3e4dd99d8e55",
   "metadata": {},
   "outputs": [
    {
     "data": {
      "text/html": [
       "<table class=\"dataframe\">\n",
       "<caption>A data.frame: 6 × 2</caption>\n",
       "<thead>\n",
       "\t<tr><th scope=col>Job</th><th scope=col>Sex</th></tr>\n",
       "\t<tr><th scope=col>&lt;chr&gt;</th><th scope=col>&lt;int&gt;</th></tr>\n",
       "</thead>\n",
       "<tbody>\n",
       "\t<tr><td>공무원</td><td>1</td></tr>\n",
       "\t<tr><td>회사원</td><td>1</td></tr>\n",
       "\t<tr><td>학생  </td><td>1</td></tr>\n",
       "\t<tr><td>공무원</td><td>0</td></tr>\n",
       "\t<tr><td>회사원</td><td>0</td></tr>\n",
       "\t<tr><td>주부  </td><td>1</td></tr>\n",
       "</tbody>\n",
       "</table>\n"
      ],
      "text/latex": [
       "A data.frame: 6 × 2\n",
       "\\begin{tabular}{ll}\n",
       " Job & Sex\\\\\n",
       " <chr> & <int>\\\\\n",
       "\\hline\n",
       "\t 공무원 & 1\\\\\n",
       "\t 회사원 & 1\\\\\n",
       "\t 학생   & 1\\\\\n",
       "\t 공무원 & 0\\\\\n",
       "\t 회사원 & 0\\\\\n",
       "\t 주부   & 1\\\\\n",
       "\\end{tabular}\n"
      ],
      "text/markdown": [
       "\n",
       "A data.frame: 6 × 2\n",
       "\n",
       "| Job &lt;chr&gt; | Sex &lt;int&gt; |\n",
       "|---|---|\n",
       "| 공무원 | 1 |\n",
       "| 회사원 | 1 |\n",
       "| 학생   | 1 |\n",
       "| 공무원 | 0 |\n",
       "| 회사원 | 0 |\n",
       "| 주부   | 1 |\n",
       "\n"
      ],
      "text/plain": [
       "  Job    Sex\n",
       "1 공무원 1  \n",
       "2 회사원 1  \n",
       "3 학생   1  \n",
       "4 공무원 0  \n",
       "5 회사원 0  \n",
       "6 주부   1  "
      ]
     },
     "metadata": {},
     "output_type": "display_data"
    }
   ],
   "source": [
    "# 테이블 Customer_Info에는 Job 필드가 존재하며, 고객들의 직업은 중복해서 나타난다. 중복을 제거하고 고객들의 직업을 검색해 보아라.\n",
    "\n",
    "sql <- \"SELECT DISTINCT Job,sex FROM Customer_Info\"\n",
    "dbGetQuery(conn, sql)\n",
    "\n",
    "# 따로따로가 아니고 조합해서 처리함"
   ]
  },
  {
   "cell_type": "markdown",
   "id": "4d4920bc-910d-4747-bc10-58e2c7378859",
   "metadata": {},
   "source": [
    "- 특정한 레코드의 조건 검색 : WHERE"
   ]
  },
  {
   "cell_type": "code",
   "execution_count": 6,
   "id": "dad068f6-83b1-4fce-9151-427d8ad7460d",
   "metadata": {},
   "outputs": [
    {
     "data": {
      "text/html": [
       "<table class=\"dataframe\">\n",
       "<caption>A data.frame: 4 × 4</caption>\n",
       "<thead>\n",
       "\t<tr><th scope=col>CID</th><th scope=col>Name</th><th scope=col>Job</th><th scope=col>Married</th></tr>\n",
       "\t<tr><th scope=col>&lt;int&gt;</th><th scope=col>&lt;chr&gt;</th><th scope=col>&lt;chr&gt;</th><th scope=col>&lt;int&gt;</th></tr>\n",
       "</thead>\n",
       "<tbody>\n",
       "\t<tr><td>100002</td><td>정영미</td><td>회사원</td><td>1</td></tr>\n",
       "\t<tr><td>100005</td><td>이순석</td><td>회사원</td><td>0</td></tr>\n",
       "\t<tr><td>100006</td><td>박선희</td><td>회사원</td><td>0</td></tr>\n",
       "\t<tr><td>100010</td><td>이민석</td><td>회사원</td><td>1</td></tr>\n",
       "</tbody>\n",
       "</table>\n"
      ],
      "text/latex": [
       "A data.frame: 4 × 4\n",
       "\\begin{tabular}{llll}\n",
       " CID & Name & Job & Married\\\\\n",
       " <int> & <chr> & <chr> & <int>\\\\\n",
       "\\hline\n",
       "\t 100002 & 정영미 & 회사원 & 1\\\\\n",
       "\t 100005 & 이순석 & 회사원 & 0\\\\\n",
       "\t 100006 & 박선희 & 회사원 & 0\\\\\n",
       "\t 100010 & 이민석 & 회사원 & 1\\\\\n",
       "\\end{tabular}\n"
      ],
      "text/markdown": [
       "\n",
       "A data.frame: 4 × 4\n",
       "\n",
       "| CID &lt;int&gt; | Name &lt;chr&gt; | Job &lt;chr&gt; | Married &lt;int&gt; |\n",
       "|---|---|---|---|\n",
       "| 100002 | 정영미 | 회사원 | 1 |\n",
       "| 100005 | 이순석 | 회사원 | 0 |\n",
       "| 100006 | 박선희 | 회사원 | 0 |\n",
       "| 100010 | 이민석 | 회사원 | 1 |\n",
       "\n"
      ],
      "text/plain": [
       "  CID    Name   Job    Married\n",
       "1 100002 정영미 회사원 1      \n",
       "2 100005 이순석 회사원 0      \n",
       "3 100006 박선희 회사원 0      \n",
       "4 100010 이민석 회사원 1      "
      ]
     },
     "metadata": {},
     "output_type": "display_data"
    }
   ],
   "source": [
    "# Customer_Info 테이블에서 직업이 ‘회사원’인 고객의 고객번호(CID), 이름(Name), 직업(Job), 결혼여부(Married)를 검색해 보아라.\n",
    "\n",
    "sql = \"SELECT  CID, Name, Job, Married \n",
    "FROM  Customer_Info\n",
    "WHERE  Job = '회사원' \"\n",
    "dbGetQuery(conn, sql)"
   ]
  },
  {
   "cell_type": "code",
   "execution_count": 7,
   "id": "6b2cdd6a-ff5e-4763-8413-70d67a2db723",
   "metadata": {},
   "outputs": [
    {
     "data": {
      "text/html": [
       "<table class=\"dataframe\">\n",
       "<caption>A data.frame: 7 × 4</caption>\n",
       "<thead>\n",
       "\t<tr><th scope=col>CID</th><th scope=col>Name</th><th scope=col>Job</th><th scope=col>Married</th></tr>\n",
       "\t<tr><th scope=col>&lt;int&gt;</th><th scope=col>&lt;chr&gt;</th><th scope=col>&lt;chr&gt;</th><th scope=col>&lt;int&gt;</th></tr>\n",
       "</thead>\n",
       "<tbody>\n",
       "\t<tr><td>100001</td><td>김민주</td><td>공무원</td><td>0</td></tr>\n",
       "\t<tr><td>100003</td><td>최소영</td><td>학생  </td><td>0</td></tr>\n",
       "\t<tr><td>100004</td><td>박진재</td><td>공무원</td><td>1</td></tr>\n",
       "\t<tr><td>100007</td><td>김화연</td><td>학생  </td><td>0</td></tr>\n",
       "\t<tr><td>100008</td><td>박민선</td><td>학생  </td><td>0</td></tr>\n",
       "\t<tr><td>100009</td><td>노상수</td><td>공무원</td><td>1</td></tr>\n",
       "\t<tr><td>100011</td><td>정영미</td><td>주부  </td><td>1</td></tr>\n",
       "</tbody>\n",
       "</table>\n"
      ],
      "text/latex": [
       "A data.frame: 7 × 4\n",
       "\\begin{tabular}{llll}\n",
       " CID & Name & Job & Married\\\\\n",
       " <int> & <chr> & <chr> & <int>\\\\\n",
       "\\hline\n",
       "\t 100001 & 김민주 & 공무원 & 0\\\\\n",
       "\t 100003 & 최소영 & 학생   & 0\\\\\n",
       "\t 100004 & 박진재 & 공무원 & 1\\\\\n",
       "\t 100007 & 김화연 & 학생   & 0\\\\\n",
       "\t 100008 & 박민선 & 학생   & 0\\\\\n",
       "\t 100009 & 노상수 & 공무원 & 1\\\\\n",
       "\t 100011 & 정영미 & 주부   & 1\\\\\n",
       "\\end{tabular}\n"
      ],
      "text/markdown": [
       "\n",
       "A data.frame: 7 × 4\n",
       "\n",
       "| CID &lt;int&gt; | Name &lt;chr&gt; | Job &lt;chr&gt; | Married &lt;int&gt; |\n",
       "|---|---|---|---|\n",
       "| 100001 | 김민주 | 공무원 | 0 |\n",
       "| 100003 | 최소영 | 학생   | 0 |\n",
       "| 100004 | 박진재 | 공무원 | 1 |\n",
       "| 100007 | 김화연 | 학생   | 0 |\n",
       "| 100008 | 박민선 | 학생   | 0 |\n",
       "| 100009 | 노상수 | 공무원 | 1 |\n",
       "| 100011 | 정영미 | 주부   | 1 |\n",
       "\n"
      ],
      "text/plain": [
       "  CID    Name   Job    Married\n",
       "1 100001 김민주 공무원 0      \n",
       "2 100003 최소영 학생   0      \n",
       "3 100004 박진재 공무원 1      \n",
       "4 100007 김화연 학생   0      \n",
       "5 100008 박민선 학생   0      \n",
       "6 100009 노상수 공무원 1      \n",
       "7 100011 정영미 주부   1      "
      ]
     },
     "metadata": {},
     "output_type": "display_data"
    }
   ],
   "source": [
    "# Customer_Info 테이블에서 직업이 ‘회사원’이 아닌 고객의 고객번호(CID), 이름(Name), 직업(Job), 결혼여부(Married)를 검색해 보아라.\n",
    "\n",
    "sql = \"SELECT  CID, Name, Job, Married \n",
    "FROM  Customer_Info\n",
    "WHERE  Job != '회사원' \"\n",
    "dbGetQuery(conn, sql)"
   ]
  },
  {
   "cell_type": "code",
   "execution_count": 8,
   "id": "9fdddec9-0387-4631-926c-209c602b907b",
   "metadata": {},
   "outputs": [
    {
     "data": {
      "text/html": [
       "<table class=\"dataframe\">\n",
       "<caption>A data.frame: 2 × 4</caption>\n",
       "<thead>\n",
       "\t<tr><th scope=col>CID</th><th scope=col>Name</th><th scope=col>Sex</th><th scope=col>Married</th></tr>\n",
       "\t<tr><th scope=col>&lt;int&gt;</th><th scope=col>&lt;chr&gt;</th><th scope=col>&lt;int&gt;</th><th scope=col>&lt;int&gt;</th></tr>\n",
       "</thead>\n",
       "<tbody>\n",
       "\t<tr><td>100002</td><td>정영미</td><td>1</td><td>1</td></tr>\n",
       "\t<tr><td>100011</td><td>정영미</td><td>1</td><td>1</td></tr>\n",
       "</tbody>\n",
       "</table>\n"
      ],
      "text/latex": [
       "A data.frame: 2 × 4\n",
       "\\begin{tabular}{llll}\n",
       " CID & Name & Sex & Married\\\\\n",
       " <int> & <chr> & <int> & <int>\\\\\n",
       "\\hline\n",
       "\t 100002 & 정영미 & 1 & 1\\\\\n",
       "\t 100011 & 정영미 & 1 & 1\\\\\n",
       "\\end{tabular}\n"
      ],
      "text/markdown": [
       "\n",
       "A data.frame: 2 × 4\n",
       "\n",
       "| CID &lt;int&gt; | Name &lt;chr&gt; | Sex &lt;int&gt; | Married &lt;int&gt; |\n",
       "|---|---|---|---|\n",
       "| 100002 | 정영미 | 1 | 1 |\n",
       "| 100011 | 정영미 | 1 | 1 |\n",
       "\n"
      ],
      "text/plain": [
       "  CID    Name   Sex Married\n",
       "1 100002 정영미 1   1      \n",
       "2 100011 정영미 1   1      "
      ]
     },
     "metadata": {},
     "output_type": "display_data"
    }
   ],
   "source": [
    "# Customer_Info 테이블에서 성별(Sex)과 결혼여부(Married)가 모두 1인 고객의 고객번호(CID), 이름(Name), 성별(Sex), 결혼여부(Married)를 \n",
    "#검색해 보아라.\n",
    "sql = \"SELECT  CID, Name, Sex, Married\n",
    "FROM  Customer_Info\n",
    "WHERE  Sex='1' and Married='1' \"\n",
    "dbGetQuery(conn, sql)"
   ]
  },
  {
   "cell_type": "code",
   "execution_count": 9,
   "id": "5eb4bb90-c0a5-4a9b-b854-5a06f9fa4a10",
   "metadata": {},
   "outputs": [
    {
     "data": {
      "text/html": [
       "<table class=\"dataframe\">\n",
       "<caption>A data.frame: 3 × 3</caption>\n",
       "<thead>\n",
       "\t<tr><th scope=col>CID</th><th scope=col>Year</th><th scope=col>On_Score</th></tr>\n",
       "\t<tr><th scope=col>&lt;int&gt;</th><th scope=col>&lt;int&gt;</th><th scope=col>&lt;int&gt;</th></tr>\n",
       "</thead>\n",
       "<tbody>\n",
       "\t<tr><td>100001</td><td>2013</td><td>58</td></tr>\n",
       "\t<tr><td>100002</td><td>2013</td><td>98</td></tr>\n",
       "\t<tr><td>100006</td><td>2013</td><td>66</td></tr>\n",
       "</tbody>\n",
       "</table>\n"
      ],
      "text/latex": [
       "A data.frame: 3 × 3\n",
       "\\begin{tabular}{lll}\n",
       " CID & Year & On\\_Score\\\\\n",
       " <int> & <int> & <int>\\\\\n",
       "\\hline\n",
       "\t 100001 & 2013 & 58\\\\\n",
       "\t 100002 & 2013 & 98\\\\\n",
       "\t 100006 & 2013 & 66\\\\\n",
       "\\end{tabular}\n"
      ],
      "text/markdown": [
       "\n",
       "A data.frame: 3 × 3\n",
       "\n",
       "| CID &lt;int&gt; | Year &lt;int&gt; | On_Score &lt;int&gt; |\n",
       "|---|---|---|\n",
       "| 100001 | 2013 | 58 |\n",
       "| 100002 | 2013 | 98 |\n",
       "| 100006 | 2013 | 66 |\n",
       "\n"
      ],
      "text/plain": [
       "  CID    Year On_Score\n",
       "1 100001 2013 58      \n",
       "2 100002 2013 98      \n",
       "3 100006 2013 66      "
      ]
     },
     "metadata": {},
     "output_type": "display_data"
    }
   ],
   "source": [
    "# Customer_Score 테이블에서 2013년의 온라인점수(On_Score)가 50 이상이고 100이하인 레코드를 검색해 보아라.\n",
    "sql = \"SELECT CID, Year, On_Score\n",
    "FROM Customer_Score\n",
    "WHERE Year=2013 and \n",
    "On_Score>=50 and On_Score<=100 \"\n",
    "dbGetQuery(conn, sql)"
   ]
  },
  {
   "cell_type": "code",
   "execution_count": 10,
   "id": "5ee64203-d617-4d52-bf5b-c6244d993ecd",
   "metadata": {},
   "outputs": [
    {
     "data": {
      "text/html": [
       "<table class=\"dataframe\">\n",
       "<caption>A data.frame: 22 × 4</caption>\n",
       "<thead>\n",
       "\t<tr><th scope=col>CID</th><th scope=col>Year</th><th scope=col>On_Score</th><th scope=col>Off_Score</th></tr>\n",
       "\t<tr><th scope=col>&lt;int&gt;</th><th scope=col>&lt;int&gt;</th><th scope=col>&lt;int&gt;</th><th scope=col>&lt;int&gt;</th></tr>\n",
       "</thead>\n",
       "<tbody>\n",
       "\t<tr><td>100001</td><td>2012</td><td> 42</td><td>111</td></tr>\n",
       "\t<tr><td>100002</td><td>2012</td><td> 12</td><td> 30</td></tr>\n",
       "\t<tr><td>100003</td><td>2012</td><td> 86</td><td>128</td></tr>\n",
       "\t<tr><td>100004</td><td>2012</td><td>  0</td><td> 87</td></tr>\n",
       "\t<tr><td>100005</td><td>2012</td><td>122</td><td> 56</td></tr>\n",
       "\t<tr><td>100006</td><td>2012</td><td> 98</td><td> 17</td></tr>\n",
       "\t<tr><td>100007</td><td>2012</td><td>  0</td><td>  0</td></tr>\n",
       "\t<tr><td>100008</td><td>2012</td><td> 56</td><td>172</td></tr>\n",
       "\t<tr><td>100009</td><td>2012</td><td> 24</td><td> 45</td></tr>\n",
       "\t<tr><td>100010</td><td>2012</td><td>  0</td><td> 21</td></tr>\n",
       "\t<tr><td>100011</td><td>2012</td><td>  0</td><td> 39</td></tr>\n",
       "\t<tr><td>100001</td><td>2013</td><td> 58</td><td> 89</td></tr>\n",
       "\t<tr><td>100002</td><td>2013</td><td> 98</td><td> 40</td></tr>\n",
       "\t<tr><td>100003</td><td>2013</td><td>402</td><td>128</td></tr>\n",
       "\t<tr><td>100004</td><td>2013</td><td>  0</td><td> 74</td></tr>\n",
       "\t<tr><td>100005</td><td>2013</td><td>356</td><td>132</td></tr>\n",
       "\t<tr><td>100006</td><td>2013</td><td> 66</td><td> 12</td></tr>\n",
       "\t<tr><td>100007</td><td>2013</td><td>  0</td><td>  5</td></tr>\n",
       "\t<tr><td>100008</td><td>2013</td><td> 44</td><td> 98</td></tr>\n",
       "\t<tr><td>100009</td><td>2013</td><td>  2</td><td>  6</td></tr>\n",
       "\t<tr><td>100010</td><td>2013</td><td>  0</td><td>  0</td></tr>\n",
       "\t<tr><td>100011</td><td>2013</td><td>  0</td><td> 48</td></tr>\n",
       "</tbody>\n",
       "</table>\n"
      ],
      "text/latex": [
       "A data.frame: 22 × 4\n",
       "\\begin{tabular}{llll}\n",
       " CID & Year & On\\_Score & Off\\_Score\\\\\n",
       " <int> & <int> & <int> & <int>\\\\\n",
       "\\hline\n",
       "\t 100001 & 2012 &  42 & 111\\\\\n",
       "\t 100002 & 2012 &  12 &  30\\\\\n",
       "\t 100003 & 2012 &  86 & 128\\\\\n",
       "\t 100004 & 2012 &   0 &  87\\\\\n",
       "\t 100005 & 2012 & 122 &  56\\\\\n",
       "\t 100006 & 2012 &  98 &  17\\\\\n",
       "\t 100007 & 2012 &   0 &   0\\\\\n",
       "\t 100008 & 2012 &  56 & 172\\\\\n",
       "\t 100009 & 2012 &  24 &  45\\\\\n",
       "\t 100010 & 2012 &   0 &  21\\\\\n",
       "\t 100011 & 2012 &   0 &  39\\\\\n",
       "\t 100001 & 2013 &  58 &  89\\\\\n",
       "\t 100002 & 2013 &  98 &  40\\\\\n",
       "\t 100003 & 2013 & 402 & 128\\\\\n",
       "\t 100004 & 2013 &   0 &  74\\\\\n",
       "\t 100005 & 2013 & 356 & 132\\\\\n",
       "\t 100006 & 2013 &  66 &  12\\\\\n",
       "\t 100007 & 2013 &   0 &   5\\\\\n",
       "\t 100008 & 2013 &  44 &  98\\\\\n",
       "\t 100009 & 2013 &   2 &   6\\\\\n",
       "\t 100010 & 2013 &   0 &   0\\\\\n",
       "\t 100011 & 2013 &   0 &  48\\\\\n",
       "\\end{tabular}\n"
      ],
      "text/markdown": [
       "\n",
       "A data.frame: 22 × 4\n",
       "\n",
       "| CID &lt;int&gt; | Year &lt;int&gt; | On_Score &lt;int&gt; | Off_Score &lt;int&gt; |\n",
       "|---|---|---|---|\n",
       "| 100001 | 2012 |  42 | 111 |\n",
       "| 100002 | 2012 |  12 |  30 |\n",
       "| 100003 | 2012 |  86 | 128 |\n",
       "| 100004 | 2012 |   0 |  87 |\n",
       "| 100005 | 2012 | 122 |  56 |\n",
       "| 100006 | 2012 |  98 |  17 |\n",
       "| 100007 | 2012 |   0 |   0 |\n",
       "| 100008 | 2012 |  56 | 172 |\n",
       "| 100009 | 2012 |  24 |  45 |\n",
       "| 100010 | 2012 |   0 |  21 |\n",
       "| 100011 | 2012 |   0 |  39 |\n",
       "| 100001 | 2013 |  58 |  89 |\n",
       "| 100002 | 2013 |  98 |  40 |\n",
       "| 100003 | 2013 | 402 | 128 |\n",
       "| 100004 | 2013 |   0 |  74 |\n",
       "| 100005 | 2013 | 356 | 132 |\n",
       "| 100006 | 2013 |  66 |  12 |\n",
       "| 100007 | 2013 |   0 |   5 |\n",
       "| 100008 | 2013 |  44 |  98 |\n",
       "| 100009 | 2013 |   2 |   6 |\n",
       "| 100010 | 2013 |   0 |   0 |\n",
       "| 100011 | 2013 |   0 |  48 |\n",
       "\n"
      ],
      "text/plain": [
       "   CID    Year On_Score Off_Score\n",
       "1  100001 2012  42      111      \n",
       "2  100002 2012  12       30      \n",
       "3  100003 2012  86      128      \n",
       "4  100004 2012   0       87      \n",
       "5  100005 2012 122       56      \n",
       "6  100006 2012  98       17      \n",
       "7  100007 2012   0        0      \n",
       "8  100008 2012  56      172      \n",
       "9  100009 2012  24       45      \n",
       "10 100010 2012   0       21      \n",
       "11 100011 2012   0       39      \n",
       "12 100001 2013  58       89      \n",
       "13 100002 2013  98       40      \n",
       "14 100003 2013 402      128      \n",
       "15 100004 2013   0       74      \n",
       "16 100005 2013 356      132      \n",
       "17 100006 2013  66       12      \n",
       "18 100007 2013   0        5      \n",
       "19 100008 2013  44       98      \n",
       "20 100009 2013   2        6      \n",
       "21 100010 2013   0        0      \n",
       "22 100011 2013   0       48      "
      ]
     },
     "metadata": {},
     "output_type": "display_data"
    }
   ],
   "source": [
    "sql = \"SELECT * from Customer_Score\"\n",
    "dbGetQuery(conn, sql)"
   ]
  },
  {
   "cell_type": "code",
   "execution_count": 11,
   "id": "6afd2593-3274-4084-8ce0-ee57bc164b03",
   "metadata": {},
   "outputs": [
    {
     "data": {
      "text/html": [
       "<table class=\"dataframe\">\n",
       "<caption>A data.frame: 11 × 3</caption>\n",
       "<thead>\n",
       "\t<tr><th scope=col>CID</th><th scope=col>Year</th><th scope=col>TotalScore</th></tr>\n",
       "\t<tr><th scope=col>&lt;int&gt;</th><th scope=col>&lt;int&gt;</th><th scope=col>&lt;int&gt;</th></tr>\n",
       "</thead>\n",
       "<tbody>\n",
       "\t<tr><td>100001</td><td>2013</td><td>147</td></tr>\n",
       "\t<tr><td>100002</td><td>2013</td><td>138</td></tr>\n",
       "\t<tr><td>100003</td><td>2013</td><td>530</td></tr>\n",
       "\t<tr><td>100004</td><td>2013</td><td> 74</td></tr>\n",
       "\t<tr><td>100005</td><td>2013</td><td>488</td></tr>\n",
       "\t<tr><td>100006</td><td>2013</td><td> 78</td></tr>\n",
       "\t<tr><td>100007</td><td>2013</td><td>  5</td></tr>\n",
       "\t<tr><td>100008</td><td>2013</td><td>142</td></tr>\n",
       "\t<tr><td>100009</td><td>2013</td><td>  8</td></tr>\n",
       "\t<tr><td>100010</td><td>2013</td><td>  0</td></tr>\n",
       "\t<tr><td>100011</td><td>2013</td><td> 48</td></tr>\n",
       "</tbody>\n",
       "</table>\n"
      ],
      "text/latex": [
       "A data.frame: 11 × 3\n",
       "\\begin{tabular}{lll}\n",
       " CID & Year & TotalScore\\\\\n",
       " <int> & <int> & <int>\\\\\n",
       "\\hline\n",
       "\t 100001 & 2013 & 147\\\\\n",
       "\t 100002 & 2013 & 138\\\\\n",
       "\t 100003 & 2013 & 530\\\\\n",
       "\t 100004 & 2013 &  74\\\\\n",
       "\t 100005 & 2013 & 488\\\\\n",
       "\t 100006 & 2013 &  78\\\\\n",
       "\t 100007 & 2013 &   5\\\\\n",
       "\t 100008 & 2013 & 142\\\\\n",
       "\t 100009 & 2013 &   8\\\\\n",
       "\t 100010 & 2013 &   0\\\\\n",
       "\t 100011 & 2013 &  48\\\\\n",
       "\\end{tabular}\n"
      ],
      "text/markdown": [
       "\n",
       "A data.frame: 11 × 3\n",
       "\n",
       "| CID &lt;int&gt; | Year &lt;int&gt; | TotalScore &lt;int&gt; |\n",
       "|---|---|---|\n",
       "| 100001 | 2013 | 147 |\n",
       "| 100002 | 2013 | 138 |\n",
       "| 100003 | 2013 | 530 |\n",
       "| 100004 | 2013 |  74 |\n",
       "| 100005 | 2013 | 488 |\n",
       "| 100006 | 2013 |  78 |\n",
       "| 100007 | 2013 |   5 |\n",
       "| 100008 | 2013 | 142 |\n",
       "| 100009 | 2013 |   8 |\n",
       "| 100010 | 2013 |   0 |\n",
       "| 100011 | 2013 |  48 |\n",
       "\n"
      ],
      "text/plain": [
       "   CID    Year TotalScore\n",
       "1  100001 2013 147       \n",
       "2  100002 2013 138       \n",
       "3  100003 2013 530       \n",
       "4  100004 2013  74       \n",
       "5  100005 2013 488       \n",
       "6  100006 2013  78       \n",
       "7  100007 2013   5       \n",
       "8  100008 2013 142       \n",
       "9  100009 2013   8       \n",
       "10 100010 2013   0       \n",
       "11 100011 2013  48       "
      ]
     },
     "metadata": {},
     "output_type": "display_data"
    }
   ],
   "source": [
    "# Customer_Score 테이블에는 온라인점수(On_Score)와 오프라인점수(Off_Score)가 년도별로 집계되어 있다. \n",
    "# 2013년의 온라인 고객점수와 오프라인 고객점수의 합(TotalScore)을 검색해 보아라.\n",
    "sql = \"SELECT CID, Year, On_Score+Off_Score TotalScore\n",
    "FROM Customer_Score\n",
    "WHERE Year=2013 \"\n",
    "dbGetQuery(conn, sql)"
   ]
  },
  {
   "cell_type": "code",
   "execution_count": 12,
   "id": "6352af4d-dc15-4e6d-8e93-970c8da2ba5d",
   "metadata": {},
   "outputs": [
    {
     "data": {
      "text/html": [
       "<table class=\"dataframe\">\n",
       "<caption>A data.frame: 5 × 3</caption>\n",
       "<thead>\n",
       "\t<tr><th scope=col>CID</th><th scope=col>Year</th><th scope=col>TotalScore</th></tr>\n",
       "\t<tr><th scope=col>&lt;int&gt;</th><th scope=col>&lt;int&gt;</th><th scope=col>&lt;int&gt;</th></tr>\n",
       "</thead>\n",
       "<tbody>\n",
       "\t<tr><td>100001</td><td>2013</td><td>147</td></tr>\n",
       "\t<tr><td>100002</td><td>2013</td><td>138</td></tr>\n",
       "\t<tr><td>100003</td><td>2013</td><td>530</td></tr>\n",
       "\t<tr><td>100005</td><td>2013</td><td>488</td></tr>\n",
       "\t<tr><td>100008</td><td>2013</td><td>142</td></tr>\n",
       "</tbody>\n",
       "</table>\n"
      ],
      "text/latex": [
       "A data.frame: 5 × 3\n",
       "\\begin{tabular}{lll}\n",
       " CID & Year & TotalScore\\\\\n",
       " <int> & <int> & <int>\\\\\n",
       "\\hline\n",
       "\t 100001 & 2013 & 147\\\\\n",
       "\t 100002 & 2013 & 138\\\\\n",
       "\t 100003 & 2013 & 530\\\\\n",
       "\t 100005 & 2013 & 488\\\\\n",
       "\t 100008 & 2013 & 142\\\\\n",
       "\\end{tabular}\n"
      ],
      "text/markdown": [
       "\n",
       "A data.frame: 5 × 3\n",
       "\n",
       "| CID &lt;int&gt; | Year &lt;int&gt; | TotalScore &lt;int&gt; |\n",
       "|---|---|---|\n",
       "| 100001 | 2013 | 147 |\n",
       "| 100002 | 2013 | 138 |\n",
       "| 100003 | 2013 | 530 |\n",
       "| 100005 | 2013 | 488 |\n",
       "| 100008 | 2013 | 142 |\n",
       "\n"
      ],
      "text/plain": [
       "  CID    Year TotalScore\n",
       "1 100001 2013 147       \n",
       "2 100002 2013 138       \n",
       "3 100003 2013 530       \n",
       "4 100005 2013 488       \n",
       "5 100008 2013 142       "
      ]
     },
     "metadata": {},
     "output_type": "display_data"
    }
   ],
   "source": [
    "# Customer_Score 테이블에서 2013년의 온라인 고객점수와 오프라인 고객점수의 합(TotalScore)이 100 이상인 고객을 검색해 보아라.\n",
    "\n",
    "sql = \"SELECT CID, Year, On_Score+Off_Score TotalScore\n",
    "FROM Customer_Score\n",
    "WHERE Year=2013 and TotalScore>100 \"\n",
    "dbGetQuery(conn, sql)\n"
   ]
  },
  {
   "cell_type": "code",
   "execution_count": 13,
   "id": "3c1229f1-db9c-4287-9141-5dceca9748d4",
   "metadata": {},
   "outputs": [
    {
     "data": {
      "text/html": [
       "<table class=\"dataframe\">\n",
       "<caption>A data.frame: 11 × 9</caption>\n",
       "<thead>\n",
       "\t<tr><th scope=col>CID</th><th scope=col>Name</th><th scope=col>Address</th><th scope=col>Tel</th><th scope=col>Bday</th><th scope=col>SID</th><th scope=col>Job</th><th scope=col>Sex</th><th scope=col>Married</th></tr>\n",
       "\t<tr><th scope=col>&lt;int&gt;</th><th scope=col>&lt;chr&gt;</th><th scope=col>&lt;chr&gt;</th><th scope=col>&lt;chr&gt;</th><th scope=col>&lt;chr&gt;</th><th scope=col>&lt;chr&gt;</th><th scope=col>&lt;chr&gt;</th><th scope=col>&lt;int&gt;</th><th scope=col>&lt;int&gt;</th></tr>\n",
       "</thead>\n",
       "<tbody>\n",
       "\t<tr><td>100001</td><td>김민주</td><td>서울시 광진구  </td><td>423-8627</td><td>1975-07-01</td><td>750701-2534218</td><td>공무원</td><td>1</td><td>0</td></tr>\n",
       "\t<tr><td>100002</td><td>정영미</td><td>경기도 수원시  </td><td>321-4568</td><td>1977-02-01</td><td>770201-2834721</td><td>회사원</td><td>1</td><td>1</td></tr>\n",
       "\t<tr><td>100003</td><td>최소영</td><td>제주도 서귀포시</td><td>624-2172</td><td>1980-01-25</td><td>800125-2432712</td><td>학생  </td><td>1</td><td>0</td></tr>\n",
       "\t<tr><td>100004</td><td>박진재</td><td>강원도 속초시  </td><td>543-9467</td><td>1960-05-02</td><td>600502-1645394</td><td>공무원</td><td>0</td><td>1</td></tr>\n",
       "\t<tr><td>100005</td><td>이순석</td><td>충남 보령시    </td><td>254-9124</td><td>1982-06-01</td><td>820601-1543714</td><td>회사원</td><td>0</td><td>0</td></tr>\n",
       "\t<tr><td>100006</td><td>박선희</td><td>서울시 강남구  </td><td>459-2187</td><td>1975-04-05</td><td>801220-2487416</td><td>회사원</td><td>1</td><td>0</td></tr>\n",
       "\t<tr><td>100007</td><td>김화연</td><td>경남 경주시    </td><td>284-8147</td><td>1980-01-04</td><td>790221-2482217</td><td>학생  </td><td>1</td><td>0</td></tr>\n",
       "\t<tr><td>100008</td><td>박민선</td><td>부산시 해운대구</td><td>347-9124</td><td>1985-04-04</td><td>850527-2123827</td><td>학생  </td><td>1</td><td>0</td></tr>\n",
       "\t<tr><td>100009</td><td>노상수</td><td>전북 군산시    </td><td>547-2984</td><td>1981-01-30</td><td>741025-1441282</td><td>공무원</td><td>0</td><td>1</td></tr>\n",
       "\t<tr><td>100010</td><td>이민석</td><td>경기도 수원시  </td><td>354-2723</td><td>1972-08-02</td><td>720802-1481395</td><td>회사원</td><td>0</td><td>1</td></tr>\n",
       "\t<tr><td>100011</td><td>정영미</td><td>서울시 관악구  </td><td>272-6745</td><td>1974-09-21</td><td>740921-2782216</td><td>주부  </td><td>1</td><td>1</td></tr>\n",
       "</tbody>\n",
       "</table>\n"
      ],
      "text/latex": [
       "A data.frame: 11 × 9\n",
       "\\begin{tabular}{lllllllll}\n",
       " CID & Name & Address & Tel & Bday & SID & Job & Sex & Married\\\\\n",
       " <int> & <chr> & <chr> & <chr> & <chr> & <chr> & <chr> & <int> & <int>\\\\\n",
       "\\hline\n",
       "\t 100001 & 김민주 & 서울시 광진구   & 423-8627 & 1975-07-01 & 750701-2534218 & 공무원 & 1 & 0\\\\\n",
       "\t 100002 & 정영미 & 경기도 수원시   & 321-4568 & 1977-02-01 & 770201-2834721 & 회사원 & 1 & 1\\\\\n",
       "\t 100003 & 최소영 & 제주도 서귀포시 & 624-2172 & 1980-01-25 & 800125-2432712 & 학생   & 1 & 0\\\\\n",
       "\t 100004 & 박진재 & 강원도 속초시   & 543-9467 & 1960-05-02 & 600502-1645394 & 공무원 & 0 & 1\\\\\n",
       "\t 100005 & 이순석 & 충남 보령시     & 254-9124 & 1982-06-01 & 820601-1543714 & 회사원 & 0 & 0\\\\\n",
       "\t 100006 & 박선희 & 서울시 강남구   & 459-2187 & 1975-04-05 & 801220-2487416 & 회사원 & 1 & 0\\\\\n",
       "\t 100007 & 김화연 & 경남 경주시     & 284-8147 & 1980-01-04 & 790221-2482217 & 학생   & 1 & 0\\\\\n",
       "\t 100008 & 박민선 & 부산시 해운대구 & 347-9124 & 1985-04-04 & 850527-2123827 & 학생   & 1 & 0\\\\\n",
       "\t 100009 & 노상수 & 전북 군산시     & 547-2984 & 1981-01-30 & 741025-1441282 & 공무원 & 0 & 1\\\\\n",
       "\t 100010 & 이민석 & 경기도 수원시   & 354-2723 & 1972-08-02 & 720802-1481395 & 회사원 & 0 & 1\\\\\n",
       "\t 100011 & 정영미 & 서울시 관악구   & 272-6745 & 1974-09-21 & 740921-2782216 & 주부   & 1 & 1\\\\\n",
       "\\end{tabular}\n"
      ],
      "text/markdown": [
       "\n",
       "A data.frame: 11 × 9\n",
       "\n",
       "| CID &lt;int&gt; | Name &lt;chr&gt; | Address &lt;chr&gt; | Tel &lt;chr&gt; | Bday &lt;chr&gt; | SID &lt;chr&gt; | Job &lt;chr&gt; | Sex &lt;int&gt; | Married &lt;int&gt; |\n",
       "|---|---|---|---|---|---|---|---|---|\n",
       "| 100001 | 김민주 | 서울시 광진구   | 423-8627 | 1975-07-01 | 750701-2534218 | 공무원 | 1 | 0 |\n",
       "| 100002 | 정영미 | 경기도 수원시   | 321-4568 | 1977-02-01 | 770201-2834721 | 회사원 | 1 | 1 |\n",
       "| 100003 | 최소영 | 제주도 서귀포시 | 624-2172 | 1980-01-25 | 800125-2432712 | 학생   | 1 | 0 |\n",
       "| 100004 | 박진재 | 강원도 속초시   | 543-9467 | 1960-05-02 | 600502-1645394 | 공무원 | 0 | 1 |\n",
       "| 100005 | 이순석 | 충남 보령시     | 254-9124 | 1982-06-01 | 820601-1543714 | 회사원 | 0 | 0 |\n",
       "| 100006 | 박선희 | 서울시 강남구   | 459-2187 | 1975-04-05 | 801220-2487416 | 회사원 | 1 | 0 |\n",
       "| 100007 | 김화연 | 경남 경주시     | 284-8147 | 1980-01-04 | 790221-2482217 | 학생   | 1 | 0 |\n",
       "| 100008 | 박민선 | 부산시 해운대구 | 347-9124 | 1985-04-04 | 850527-2123827 | 학생   | 1 | 0 |\n",
       "| 100009 | 노상수 | 전북 군산시     | 547-2984 | 1981-01-30 | 741025-1441282 | 공무원 | 0 | 1 |\n",
       "| 100010 | 이민석 | 경기도 수원시   | 354-2723 | 1972-08-02 | 720802-1481395 | 회사원 | 0 | 1 |\n",
       "| 100011 | 정영미 | 서울시 관악구   | 272-6745 | 1974-09-21 | 740921-2782216 | 주부   | 1 | 1 |\n",
       "\n"
      ],
      "text/plain": [
       "   CID    Name   Address         Tel      Bday       SID            Job    Sex\n",
       "1  100001 김민주 서울시 광진구   423-8627 1975-07-01 750701-2534218 공무원 1  \n",
       "2  100002 정영미 경기도 수원시   321-4568 1977-02-01 770201-2834721 회사원 1  \n",
       "3  100003 최소영 제주도 서귀포시 624-2172 1980-01-25 800125-2432712 학생   1  \n",
       "4  100004 박진재 강원도 속초시   543-9467 1960-05-02 600502-1645394 공무원 0  \n",
       "5  100005 이순석 충남 보령시     254-9124 1982-06-01 820601-1543714 회사원 0  \n",
       "6  100006 박선희 서울시 강남구   459-2187 1975-04-05 801220-2487416 회사원 1  \n",
       "7  100007 김화연 경남 경주시     284-8147 1980-01-04 790221-2482217 학생   1  \n",
       "8  100008 박민선 부산시 해운대구 347-9124 1985-04-04 850527-2123827 학생   1  \n",
       "9  100009 노상수 전북 군산시     547-2984 1981-01-30 741025-1441282 공무원 0  \n",
       "10 100010 이민석 경기도 수원시   354-2723 1972-08-02 720802-1481395 회사원 0  \n",
       "11 100011 정영미 서울시 관악구   272-6745 1974-09-21 740921-2782216 주부   1  \n",
       "   Married\n",
       "1  0      \n",
       "2  1      \n",
       "3  0      \n",
       "4  1      \n",
       "5  0      \n",
       "6  0      \n",
       "7  0      \n",
       "8  0      \n",
       "9  1      \n",
       "10 1      \n",
       "11 1      "
      ]
     },
     "metadata": {},
     "output_type": "display_data"
    }
   ],
   "source": [
    "# Customer_Info 테이블에서 주소(Address)가 널 값이 아닌 레코드를 검색해 보아라.\n",
    "\n",
    "sql = \"SELECT *\n",
    "FROM Customer_Info\n",
    "WHERE Address IS NOT NULL \"\n",
    "dbGetQuery(conn, sql)"
   ]
  },
  {
   "cell_type": "code",
   "execution_count": 14,
   "id": "f257d196-0cc2-40a3-992a-990ae786f075",
   "metadata": {},
   "outputs": [
    {
     "data": {
      "text/html": [
       "<table class=\"dataframe\">\n",
       "<caption>A data.frame: 5 × 4</caption>\n",
       "<thead>\n",
       "\t<tr><th scope=col>CID</th><th scope=col>Name</th><th scope=col>Bday</th><th scope=col>Job</th></tr>\n",
       "\t<tr><th scope=col>&lt;int&gt;</th><th scope=col>&lt;chr&gt;</th><th scope=col>&lt;chr&gt;</th><th scope=col>&lt;chr&gt;</th></tr>\n",
       "</thead>\n",
       "<tbody>\n",
       "\t<tr><td>100001</td><td>김민주</td><td>1975-07-01</td><td>공무원</td></tr>\n",
       "\t<tr><td>100002</td><td>정영미</td><td>1977-02-01</td><td>회사원</td></tr>\n",
       "\t<tr><td>100006</td><td>박선희</td><td>1975-04-05</td><td>회사원</td></tr>\n",
       "\t<tr><td>100010</td><td>이민석</td><td>1972-08-02</td><td>회사원</td></tr>\n",
       "\t<tr><td>100011</td><td>정영미</td><td>1974-09-21</td><td>주부  </td></tr>\n",
       "</tbody>\n",
       "</table>\n"
      ],
      "text/latex": [
       "A data.frame: 5 × 4\n",
       "\\begin{tabular}{llll}\n",
       " CID & Name & Bday & Job\\\\\n",
       " <int> & <chr> & <chr> & <chr>\\\\\n",
       "\\hline\n",
       "\t 100001 & 김민주 & 1975-07-01 & 공무원\\\\\n",
       "\t 100002 & 정영미 & 1977-02-01 & 회사원\\\\\n",
       "\t 100006 & 박선희 & 1975-04-05 & 회사원\\\\\n",
       "\t 100010 & 이민석 & 1972-08-02 & 회사원\\\\\n",
       "\t 100011 & 정영미 & 1974-09-21 & 주부  \\\\\n",
       "\\end{tabular}\n"
      ],
      "text/markdown": [
       "\n",
       "A data.frame: 5 × 4\n",
       "\n",
       "| CID &lt;int&gt; | Name &lt;chr&gt; | Bday &lt;chr&gt; | Job &lt;chr&gt; |\n",
       "|---|---|---|---|\n",
       "| 100001 | 김민주 | 1975-07-01 | 공무원 |\n",
       "| 100002 | 정영미 | 1977-02-01 | 회사원 |\n",
       "| 100006 | 박선희 | 1975-04-05 | 회사원 |\n",
       "| 100010 | 이민석 | 1972-08-02 | 회사원 |\n",
       "| 100011 | 정영미 | 1974-09-21 | 주부   |\n",
       "\n"
      ],
      "text/plain": [
       "  CID    Name   Bday       Job   \n",
       "1 100001 김민주 1975-07-01 공무원\n",
       "2 100002 정영미 1977-02-01 회사원\n",
       "3 100006 박선희 1975-04-05 회사원\n",
       "4 100010 이민석 1972-08-02 회사원\n",
       "5 100011 정영미 1974-09-21 주부  "
      ]
     },
     "metadata": {},
     "output_type": "display_data"
    }
   ],
   "source": [
    "# Customer_Info 테이블에서 생년월일이 1970년 1월 1일부터 1970년 12월 31일 사이에 있는 고객들을 검색해 보아라.\n",
    "\n",
    "sql = \"SELECT CID, Name, BDay, Job\n",
    "FROM Customer_Info\n",
    "WHERE BDay between '1970-01-01' and '1979-12-31' \"\n",
    "dbGetQuery(conn, sql)"
   ]
  },
  {
   "cell_type": "code",
   "execution_count": 15,
   "id": "e7295559-b9bf-4954-bfc4-e212adf75141",
   "metadata": {},
   "outputs": [
    {
     "data": {
      "text/html": [
       "<table class=\"dataframe\">\n",
       "<caption>A data.frame: 4 × 3</caption>\n",
       "<thead>\n",
       "\t<tr><th scope=col>CID</th><th scope=col>Year</th><th scope=col>TotalScore</th></tr>\n",
       "\t<tr><th scope=col>&lt;int&gt;</th><th scope=col>&lt;int&gt;</th><th scope=col>&lt;int&gt;</th></tr>\n",
       "</thead>\n",
       "<tbody>\n",
       "\t<tr><td>100001</td><td>2013</td><td>147</td></tr>\n",
       "\t<tr><td>100002</td><td>2013</td><td>138</td></tr>\n",
       "\t<tr><td>100005</td><td>2013</td><td>488</td></tr>\n",
       "\t<tr><td>100008</td><td>2013</td><td>142</td></tr>\n",
       "</tbody>\n",
       "</table>\n"
      ],
      "text/latex": [
       "A data.frame: 4 × 3\n",
       "\\begin{tabular}{lll}\n",
       " CID & Year & TotalScore\\\\\n",
       " <int> & <int> & <int>\\\\\n",
       "\\hline\n",
       "\t 100001 & 2013 & 147\\\\\n",
       "\t 100002 & 2013 & 138\\\\\n",
       "\t 100005 & 2013 & 488\\\\\n",
       "\t 100008 & 2013 & 142\\\\\n",
       "\\end{tabular}\n"
      ],
      "text/markdown": [
       "\n",
       "A data.frame: 4 × 3\n",
       "\n",
       "| CID &lt;int&gt; | Year &lt;int&gt; | TotalScore &lt;int&gt; |\n",
       "|---|---|---|\n",
       "| 100001 | 2013 | 147 |\n",
       "| 100002 | 2013 | 138 |\n",
       "| 100005 | 2013 | 488 |\n",
       "| 100008 | 2013 | 142 |\n",
       "\n"
      ],
      "text/plain": [
       "  CID    Year TotalScore\n",
       "1 100001 2013 147       \n",
       "2 100002 2013 138       \n",
       "3 100005 2013 488       \n",
       "4 100008 2013 142       "
      ]
     },
     "metadata": {},
     "output_type": "display_data"
    }
   ],
   "source": [
    "# Customer_Score 테이블에서 2013년의 온라인 고객점수와 오프라인 고객점수의 합(TotalScore)이 \n",
    "# 100 이상, 500이하인 고객을 검색해 보아라.\n",
    "\n",
    "sql = \"SELECT CID, Year, On_Score+Off_Score TotalScore\n",
    "FROM Customer_Score\n",
    "WHERE Year=2013 and \n",
    "TotalScore BETWEEN 100 AND 500 \"\n",
    "dbGetQuery(conn, sql)"
   ]
  },
  {
   "cell_type": "code",
   "execution_count": 16,
   "id": "77689cdb-5bc2-4e2e-9961-074d398951ea",
   "metadata": {},
   "outputs": [
    {
     "data": {
      "text/html": [
       "<table class=\"dataframe\">\n",
       "<caption>A data.frame: 2 × 3</caption>\n",
       "<thead>\n",
       "\t<tr><th scope=col>CID</th><th scope=col>Name</th><th scope=col>Address</th></tr>\n",
       "\t<tr><th scope=col>&lt;int&gt;</th><th scope=col>&lt;chr&gt;</th><th scope=col>&lt;chr&gt;</th></tr>\n",
       "</thead>\n",
       "<tbody>\n",
       "\t<tr><td>100001</td><td>김민주</td><td>서울시 광진구</td></tr>\n",
       "\t<tr><td>100007</td><td>김화연</td><td>경남 경주시  </td></tr>\n",
       "</tbody>\n",
       "</table>\n"
      ],
      "text/latex": [
       "A data.frame: 2 × 3\n",
       "\\begin{tabular}{lll}\n",
       " CID & Name & Address\\\\\n",
       " <int> & <chr> & <chr>\\\\\n",
       "\\hline\n",
       "\t 100001 & 김민주 & 서울시 광진구\\\\\n",
       "\t 100007 & 김화연 & 경남 경주시  \\\\\n",
       "\\end{tabular}\n"
      ],
      "text/markdown": [
       "\n",
       "A data.frame: 2 × 3\n",
       "\n",
       "| CID &lt;int&gt; | Name &lt;chr&gt; | Address &lt;chr&gt; |\n",
       "|---|---|---|\n",
       "| 100001 | 김민주 | 서울시 광진구 |\n",
       "| 100007 | 김화연 | 경남 경주시   |\n",
       "\n"
      ],
      "text/plain": [
       "  CID    Name   Address      \n",
       "1 100001 김민주 서울시 광진구\n",
       "2 100007 김화연 경남 경주시  "
      ]
     },
     "metadata": {},
     "output_type": "display_data"
    }
   ],
   "source": [
    "# Customer_Info 테이블에서 ‘김’씨 성을 가진 고객의 고객번호, 이름, 주소를 검색해 보아라.\n",
    "\n",
    "sql = \"SELECT CID, Name, Address\n",
    "FROM Customer_Info\n",
    "WHERE Name LIKE '김%' \"\n",
    "dbGetQuery(conn, sql)\n"
   ]
  },
  {
   "cell_type": "code",
   "execution_count": 17,
   "id": "a7aa70bc-26a0-486c-bc3b-5c9a079b258f",
   "metadata": {},
   "outputs": [
    {
     "data": {
      "text/html": [
       "<table class=\"dataframe\">\n",
       "<caption>A data.frame: 1 × 9</caption>\n",
       "<thead>\n",
       "\t<tr><th scope=col>CID</th><th scope=col>Name</th><th scope=col>Address</th><th scope=col>Tel</th><th scope=col>Bday</th><th scope=col>SID</th><th scope=col>Job</th><th scope=col>Sex</th><th scope=col>Married</th></tr>\n",
       "\t<tr><th scope=col>&lt;int&gt;</th><th scope=col>&lt;chr&gt;</th><th scope=col>&lt;chr&gt;</th><th scope=col>&lt;chr&gt;</th><th scope=col>&lt;chr&gt;</th><th scope=col>&lt;chr&gt;</th><th scope=col>&lt;chr&gt;</th><th scope=col>&lt;int&gt;</th><th scope=col>&lt;int&gt;</th></tr>\n",
       "</thead>\n",
       "<tbody>\n",
       "\t<tr><td>100003</td><td>최소영</td><td>제주도 서귀포시</td><td>624-2172</td><td>1980-01-25</td><td>800125-2432712</td><td>학생</td><td>1</td><td>0</td></tr>\n",
       "</tbody>\n",
       "</table>\n"
      ],
      "text/latex": [
       "A data.frame: 1 × 9\n",
       "\\begin{tabular}{lllllllll}\n",
       " CID & Name & Address & Tel & Bday & SID & Job & Sex & Married\\\\\n",
       " <int> & <chr> & <chr> & <chr> & <chr> & <chr> & <chr> & <int> & <int>\\\\\n",
       "\\hline\n",
       "\t 100003 & 최소영 & 제주도 서귀포시 & 624-2172 & 1980-01-25 & 800125-2432712 & 학생 & 1 & 0\\\\\n",
       "\\end{tabular}\n"
      ],
      "text/markdown": [
       "\n",
       "A data.frame: 1 × 9\n",
       "\n",
       "| CID &lt;int&gt; | Name &lt;chr&gt; | Address &lt;chr&gt; | Tel &lt;chr&gt; | Bday &lt;chr&gt; | SID &lt;chr&gt; | Job &lt;chr&gt; | Sex &lt;int&gt; | Married &lt;int&gt; |\n",
       "|---|---|---|---|---|---|---|---|---|\n",
       "| 100003 | 최소영 | 제주도 서귀포시 | 624-2172 | 1980-01-25 | 800125-2432712 | 학생 | 1 | 0 |\n",
       "\n"
      ],
      "text/plain": [
       "  CID    Name   Address         Tel      Bday       SID            Job  Sex\n",
       "1 100003 최소영 제주도 서귀포시 624-2172 1980-01-25 800125-2432712 학생 1  \n",
       "  Married\n",
       "1 0      "
      ]
     },
     "metadata": {},
     "output_type": "display_data"
    }
   ],
   "source": [
    "# Customer_Info 테이블에서 주소가 제주도 ‘서귀포’인 고객을 검색해 보아라.\n",
    "\n",
    "sql = \"SELECT *\n",
    "FROM Customer_Info\n",
    "WHERE Address LIKE '%서귀포%' \"\n",
    "dbGetQuery(conn, sql)"
   ]
  },
  {
   "cell_type": "code",
   "execution_count": 18,
   "id": "be763aea-3111-4db1-8e01-7423dc877991",
   "metadata": {},
   "outputs": [
    {
     "data": {
      "text/html": [
       "<table class=\"dataframe\">\n",
       "<caption>A data.frame: 7 × 3</caption>\n",
       "<thead>\n",
       "\t<tr><th scope=col>CID</th><th scope=col>Name</th><th scope=col>Job</th></tr>\n",
       "\t<tr><th scope=col>&lt;int&gt;</th><th scope=col>&lt;chr&gt;</th><th scope=col>&lt;chr&gt;</th></tr>\n",
       "</thead>\n",
       "<tbody>\n",
       "\t<tr><td>100001</td><td>김민주</td><td>공무원</td></tr>\n",
       "\t<tr><td>100002</td><td>정영미</td><td>회사원</td></tr>\n",
       "\t<tr><td>100004</td><td>박진재</td><td>공무원</td></tr>\n",
       "\t<tr><td>100005</td><td>이순석</td><td>회사원</td></tr>\n",
       "\t<tr><td>100006</td><td>박선희</td><td>회사원</td></tr>\n",
       "\t<tr><td>100009</td><td>노상수</td><td>공무원</td></tr>\n",
       "\t<tr><td>100010</td><td>이민석</td><td>회사원</td></tr>\n",
       "</tbody>\n",
       "</table>\n"
      ],
      "text/latex": [
       "A data.frame: 7 × 3\n",
       "\\begin{tabular}{lll}\n",
       " CID & Name & Job\\\\\n",
       " <int> & <chr> & <chr>\\\\\n",
       "\\hline\n",
       "\t 100001 & 김민주 & 공무원\\\\\n",
       "\t 100002 & 정영미 & 회사원\\\\\n",
       "\t 100004 & 박진재 & 공무원\\\\\n",
       "\t 100005 & 이순석 & 회사원\\\\\n",
       "\t 100006 & 박선희 & 회사원\\\\\n",
       "\t 100009 & 노상수 & 공무원\\\\\n",
       "\t 100010 & 이민석 & 회사원\\\\\n",
       "\\end{tabular}\n"
      ],
      "text/markdown": [
       "\n",
       "A data.frame: 7 × 3\n",
       "\n",
       "| CID &lt;int&gt; | Name &lt;chr&gt; | Job &lt;chr&gt; |\n",
       "|---|---|---|\n",
       "| 100001 | 김민주 | 공무원 |\n",
       "| 100002 | 정영미 | 회사원 |\n",
       "| 100004 | 박진재 | 공무원 |\n",
       "| 100005 | 이순석 | 회사원 |\n",
       "| 100006 | 박선희 | 회사원 |\n",
       "| 100009 | 노상수 | 공무원 |\n",
       "| 100010 | 이민석 | 회사원 |\n",
       "\n"
      ],
      "text/plain": [
       "  CID    Name   Job   \n",
       "1 100001 김민주 공무원\n",
       "2 100002 정영미 회사원\n",
       "3 100004 박진재 공무원\n",
       "4 100005 이순석 회사원\n",
       "5 100006 박선희 회사원\n",
       "6 100009 노상수 공무원\n",
       "7 100010 이민석 회사원"
      ]
     },
     "metadata": {},
     "output_type": "display_data"
    }
   ],
   "source": [
    "# Customer_Info 테이블에서 직업이 ‘회사원’, ‘공무원’인 고객을 검색해 보아라.\n",
    "\n",
    "sql = \"SELECT CID, Name, Job\n",
    "FROM Customer_Info\n",
    "WHERE Job IN ('회사원', '공무원') \"\n",
    "dbGetQuery(conn, sql)"
   ]
  },
  {
   "cell_type": "markdown",
   "id": "38956a8d-771a-4ea9-9829-57abb067cf61",
   "metadata": {},
   "source": [
    "- 데이터의 그룹화 GROUP BY"
   ]
  },
  {
   "cell_type": "code",
   "execution_count": 19,
   "id": "404cec61-33b1-4c18-b625-d18c5ebcfa42",
   "metadata": {},
   "outputs": [
    {
     "data": {
      "text/html": [
       "<table class=\"dataframe\">\n",
       "<caption>A data.frame: 4 × 2</caption>\n",
       "<thead>\n",
       "\t<tr><th scope=col>Job</th><th scope=col>freq</th></tr>\n",
       "\t<tr><th scope=col>&lt;chr&gt;</th><th scope=col>&lt;int&gt;</th></tr>\n",
       "</thead>\n",
       "<tbody>\n",
       "\t<tr><td>공무원</td><td>3</td></tr>\n",
       "\t<tr><td>주부  </td><td>1</td></tr>\n",
       "\t<tr><td>학생  </td><td>3</td></tr>\n",
       "\t<tr><td>회사원</td><td>4</td></tr>\n",
       "</tbody>\n",
       "</table>\n"
      ],
      "text/latex": [
       "A data.frame: 4 × 2\n",
       "\\begin{tabular}{ll}\n",
       " Job & freq\\\\\n",
       " <chr> & <int>\\\\\n",
       "\\hline\n",
       "\t 공무원 & 3\\\\\n",
       "\t 주부   & 1\\\\\n",
       "\t 학생   & 3\\\\\n",
       "\t 회사원 & 4\\\\\n",
       "\\end{tabular}\n"
      ],
      "text/markdown": [
       "\n",
       "A data.frame: 4 × 2\n",
       "\n",
       "| Job &lt;chr&gt; | freq &lt;int&gt; |\n",
       "|---|---|\n",
       "| 공무원 | 3 |\n",
       "| 주부   | 1 |\n",
       "| 학생   | 3 |\n",
       "| 회사원 | 4 |\n",
       "\n"
      ],
      "text/plain": [
       "  Job    freq\n",
       "1 공무원 3   \n",
       "2 주부   1   \n",
       "3 학생   3   \n",
       "4 회사원 4   "
      ]
     },
     "metadata": {},
     "output_type": "display_data"
    }
   ],
   "source": [
    "# Customer_Info 테이블에서 직업별 고객 빈도를 파악해 보아라. \n",
    "\n",
    "sql = \"SELECT Job, COUNT(*) freq\n",
    "FROM Customer_Info\n",
    "GROUP BY Job \"\n",
    "dbGetQuery(conn, sql)"
   ]
  },
  {
   "cell_type": "code",
   "execution_count": 20,
   "id": "d87abfa2-01fd-4568-b006-2b497e1ab9ca",
   "metadata": {},
   "outputs": [
    {
     "data": {
      "text/html": [
       "<table class=\"dataframe\">\n",
       "<caption>A data.frame: 7 × 2</caption>\n",
       "<thead>\n",
       "\t<tr><th scope=col>CID</th><th scope=col>sum(On_Score)</th></tr>\n",
       "\t<tr><th scope=col>&lt;int&gt;</th><th scope=col>&lt;int&gt;</th></tr>\n",
       "</thead>\n",
       "<tbody>\n",
       "\t<tr><td>100001</td><td>100</td></tr>\n",
       "\t<tr><td>100002</td><td>110</td></tr>\n",
       "\t<tr><td>100003</td><td>488</td></tr>\n",
       "\t<tr><td>100005</td><td>478</td></tr>\n",
       "\t<tr><td>100006</td><td>164</td></tr>\n",
       "\t<tr><td>100008</td><td>100</td></tr>\n",
       "\t<tr><td>100009</td><td> 26</td></tr>\n",
       "</tbody>\n",
       "</table>\n"
      ],
      "text/latex": [
       "A data.frame: 7 × 2\n",
       "\\begin{tabular}{ll}\n",
       " CID & sum(On\\_Score)\\\\\n",
       " <int> & <int>\\\\\n",
       "\\hline\n",
       "\t 100001 & 100\\\\\n",
       "\t 100002 & 110\\\\\n",
       "\t 100003 & 488\\\\\n",
       "\t 100005 & 478\\\\\n",
       "\t 100006 & 164\\\\\n",
       "\t 100008 & 100\\\\\n",
       "\t 100009 &  26\\\\\n",
       "\\end{tabular}\n"
      ],
      "text/markdown": [
       "\n",
       "A data.frame: 7 × 2\n",
       "\n",
       "| CID &lt;int&gt; | sum(On_Score) &lt;int&gt; |\n",
       "|---|---|\n",
       "| 100001 | 100 |\n",
       "| 100002 | 110 |\n",
       "| 100003 | 488 |\n",
       "| 100005 | 478 |\n",
       "| 100006 | 164 |\n",
       "| 100008 | 100 |\n",
       "| 100009 |  26 |\n",
       "\n"
      ],
      "text/plain": [
       "  CID    sum(On_Score)\n",
       "1 100001 100          \n",
       "2 100002 110          \n",
       "3 100003 488          \n",
       "4 100005 478          \n",
       "5 100006 164          \n",
       "6 100008 100          \n",
       "7 100009  26          "
      ]
     },
     "metadata": {},
     "output_type": "display_data"
    }
   ],
   "source": [
    "# Customer_Score 테이블에는 고객들의 2012년과 2013년 점수가 들어있다. \n",
    "# On_Score가 모두 0보다 큰 고객들의 On_Score의 합을 구해 보아라.\n",
    "\n",
    "sql = \"SELECT CID, sum(On_Score) \n",
    "FROM Customer_Score\n",
    "WHERE On_Score > 0 \n",
    "GROUP BY CID \"\n",
    "dbGetQuery(conn, sql)"
   ]
  },
  {
   "cell_type": "code",
   "execution_count": 21,
   "id": "6dc76092-41cd-492b-a7b6-a4c09e32e53f",
   "metadata": {},
   "outputs": [
    {
     "data": {
      "text/html": [
       "<table class=\"dataframe\">\n",
       "<caption>A data.frame: 11 × 2</caption>\n",
       "<thead>\n",
       "\t<tr><th scope=col>CID</th><th scope=col>avg(Off_Score)</th></tr>\n",
       "\t<tr><th scope=col>&lt;int&gt;</th><th scope=col>&lt;dbl&gt;</th></tr>\n",
       "</thead>\n",
       "<tbody>\n",
       "\t<tr><td>100001</td><td>100.0</td></tr>\n",
       "\t<tr><td>100002</td><td> 35.0</td></tr>\n",
       "\t<tr><td>100003</td><td>128.0</td></tr>\n",
       "\t<tr><td>100004</td><td> 80.5</td></tr>\n",
       "\t<tr><td>100005</td><td> 94.0</td></tr>\n",
       "\t<tr><td>100006</td><td> 14.5</td></tr>\n",
       "\t<tr><td>100007</td><td>  2.5</td></tr>\n",
       "\t<tr><td>100008</td><td>135.0</td></tr>\n",
       "\t<tr><td>100009</td><td> 25.5</td></tr>\n",
       "\t<tr><td>100010</td><td> 10.5</td></tr>\n",
       "\t<tr><td>100011</td><td> 43.5</td></tr>\n",
       "</tbody>\n",
       "</table>\n"
      ],
      "text/latex": [
       "A data.frame: 11 × 2\n",
       "\\begin{tabular}{ll}\n",
       " CID & avg(Off\\_Score)\\\\\n",
       " <int> & <dbl>\\\\\n",
       "\\hline\n",
       "\t 100001 & 100.0\\\\\n",
       "\t 100002 &  35.0\\\\\n",
       "\t 100003 & 128.0\\\\\n",
       "\t 100004 &  80.5\\\\\n",
       "\t 100005 &  94.0\\\\\n",
       "\t 100006 &  14.5\\\\\n",
       "\t 100007 &   2.5\\\\\n",
       "\t 100008 & 135.0\\\\\n",
       "\t 100009 &  25.5\\\\\n",
       "\t 100010 &  10.5\\\\\n",
       "\t 100011 &  43.5\\\\\n",
       "\\end{tabular}\n"
      ],
      "text/markdown": [
       "\n",
       "A data.frame: 11 × 2\n",
       "\n",
       "| CID &lt;int&gt; | avg(Off_Score) &lt;dbl&gt; |\n",
       "|---|---|\n",
       "| 100001 | 100.0 |\n",
       "| 100002 |  35.0 |\n",
       "| 100003 | 128.0 |\n",
       "| 100004 |  80.5 |\n",
       "| 100005 |  94.0 |\n",
       "| 100006 |  14.5 |\n",
       "| 100007 |   2.5 |\n",
       "| 100008 | 135.0 |\n",
       "| 100009 |  25.5 |\n",
       "| 100010 |  10.5 |\n",
       "| 100011 |  43.5 |\n",
       "\n"
      ],
      "text/plain": [
       "   CID    avg(Off_Score)\n",
       "1  100001 100.0         \n",
       "2  100002  35.0         \n",
       "3  100003 128.0         \n",
       "4  100004  80.5         \n",
       "5  100005  94.0         \n",
       "6  100006  14.5         \n",
       "7  100007   2.5         \n",
       "8  100008 135.0         \n",
       "9  100009  25.5         \n",
       "10 100010  10.5         \n",
       "11 100011  43.5         "
      ]
     },
     "metadata": {},
     "output_type": "display_data"
    }
   ],
   "source": [
    "# Customer_Score 테이블에서 2012년과 2013년 자료의 고객별 Off_Score 평균 점수를 구해 보아라.\n",
    "\n",
    "sql = \"SELECT CID, avg(Off_Score) \n",
    "FROM Customer_Score\n",
    "GROUP BY CID \"\n",
    "dbGetQuery(conn, sql)"
   ]
  },
  {
   "cell_type": "markdown",
   "id": "83691656-08e0-40a6-b341-58f8dfb933d2",
   "metadata": {},
   "source": [
    "- 데이터 그룹화의 조건 검색 : HAVING\n",
    "  - GROUP BY 절에서 명시된 그룹에 대한 검색 조건을 주고자 할 때 HAVING 절을 이용\n",
    "  - GROUP BY에 대한 조건이라고 생각하면 됨"
   ]
  },
  {
   "cell_type": "code",
   "execution_count": 22,
   "id": "3c31a992-ad8b-43a2-b45a-c0dc83f9065d",
   "metadata": {},
   "outputs": [
    {
     "data": {
      "text/html": [
       "<table class=\"dataframe\">\n",
       "<caption>A data.frame: 3 × 2</caption>\n",
       "<thead>\n",
       "\t<tr><th scope=col>Job</th><th scope=col>freq</th></tr>\n",
       "\t<tr><th scope=col>&lt;chr&gt;</th><th scope=col>&lt;int&gt;</th></tr>\n",
       "</thead>\n",
       "<tbody>\n",
       "\t<tr><td>공무원</td><td>3</td></tr>\n",
       "\t<tr><td>학생  </td><td>3</td></tr>\n",
       "\t<tr><td>회사원</td><td>4</td></tr>\n",
       "</tbody>\n",
       "</table>\n"
      ],
      "text/latex": [
       "A data.frame: 3 × 2\n",
       "\\begin{tabular}{ll}\n",
       " Job & freq\\\\\n",
       " <chr> & <int>\\\\\n",
       "\\hline\n",
       "\t 공무원 & 3\\\\\n",
       "\t 학생   & 3\\\\\n",
       "\t 회사원 & 4\\\\\n",
       "\\end{tabular}\n"
      ],
      "text/markdown": [
       "\n",
       "A data.frame: 3 × 2\n",
       "\n",
       "| Job &lt;chr&gt; | freq &lt;int&gt; |\n",
       "|---|---|\n",
       "| 공무원 | 3 |\n",
       "| 학생   | 3 |\n",
       "| 회사원 | 4 |\n",
       "\n"
      ],
      "text/plain": [
       "  Job    freq\n",
       "1 공무원 3   \n",
       "2 학생   3   \n",
       "3 회사원 4   "
      ]
     },
     "metadata": {},
     "output_type": "display_data"
    }
   ],
   "source": [
    "# Customer_Info 테이블에서 직업별 고객 빈도가 3이상인 직업을 파악해 보아라. \n",
    "\n",
    "sql = \"SELECT Job, COUNT(*) freq\n",
    "FROM Customer_Info\n",
    "GROUP BY Job \n",
    "HAVING freq >= 3 \"\n",
    "dbGetQuery(conn, sql)"
   ]
  },
  {
   "cell_type": "code",
   "execution_count": 24,
   "id": "fcd0c99c-7593-4086-a1eb-550d8397a3eb",
   "metadata": {},
   "outputs": [
    {
     "data": {
      "text/html": [
       "<table class=\"dataframe\">\n",
       "<caption>A data.frame: 4 × 2</caption>\n",
       "<thead>\n",
       "\t<tr><th scope=col>CID</th><th scope=col>totalScore</th></tr>\n",
       "\t<tr><th scope=col>&lt;int&gt;</th><th scope=col>&lt;int&gt;</th></tr>\n",
       "</thead>\n",
       "<tbody>\n",
       "\t<tr><td>100002</td><td>110</td></tr>\n",
       "\t<tr><td>100003</td><td>488</td></tr>\n",
       "\t<tr><td>100005</td><td>478</td></tr>\n",
       "\t<tr><td>100006</td><td>164</td></tr>\n",
       "</tbody>\n",
       "</table>\n"
      ],
      "text/latex": [
       "A data.frame: 4 × 2\n",
       "\\begin{tabular}{ll}\n",
       " CID & totalScore\\\\\n",
       " <int> & <int>\\\\\n",
       "\\hline\n",
       "\t 100002 & 110\\\\\n",
       "\t 100003 & 488\\\\\n",
       "\t 100005 & 478\\\\\n",
       "\t 100006 & 164\\\\\n",
       "\\end{tabular}\n"
      ],
      "text/markdown": [
       "\n",
       "A data.frame: 4 × 2\n",
       "\n",
       "| CID &lt;int&gt; | totalScore &lt;int&gt; |\n",
       "|---|---|\n",
       "| 100002 | 110 |\n",
       "| 100003 | 488 |\n",
       "| 100005 | 478 |\n",
       "| 100006 | 164 |\n",
       "\n"
      ],
      "text/plain": [
       "  CID    totalScore\n",
       "1 100002 110       \n",
       "2 100003 488       \n",
       "3 100005 478       \n",
       "4 100006 164       "
      ]
     },
     "metadata": {},
     "output_type": "display_data"
    }
   ],
   "source": [
    "# Customer_Score 테이블에는 고객들의 2012년과 2013년 점수가 들어있다. \n",
    "# 2012년과 2013년 On_Score의 합이 100보다 큰 고객들의 명단을 구해 보아라.\n",
    "\n",
    "sql = \"SELECT CID, sum(On_Score) totalScore\n",
    "FROM Customer_Score\n",
    "GROUP BY CID \n",
    "HAVING totalScore > 100 \"\n",
    "dbGetQuery(conn, sql)"
   ]
  },
  {
   "cell_type": "markdown",
   "id": "81015915-f21c-4b1a-aa1a-e7a67e2cf177",
   "metadata": {},
   "source": [
    "- 출력 순서를 명시하는 검색 : ORDER BY"
   ]
  },
  {
   "cell_type": "code",
   "execution_count": 25,
   "id": "70bb5063-00cb-4369-9bc9-65a4e82c785b",
   "metadata": {},
   "outputs": [
    {
     "data": {
      "text/html": [
       "<table class=\"dataframe\">\n",
       "<caption>A data.frame: 11 × 9</caption>\n",
       "<thead>\n",
       "\t<tr><th scope=col>CID</th><th scope=col>Name</th><th scope=col>Address</th><th scope=col>Tel</th><th scope=col>Bday</th><th scope=col>SID</th><th scope=col>Job</th><th scope=col>Sex</th><th scope=col>Married</th></tr>\n",
       "\t<tr><th scope=col>&lt;int&gt;</th><th scope=col>&lt;chr&gt;</th><th scope=col>&lt;chr&gt;</th><th scope=col>&lt;chr&gt;</th><th scope=col>&lt;chr&gt;</th><th scope=col>&lt;chr&gt;</th><th scope=col>&lt;chr&gt;</th><th scope=col>&lt;int&gt;</th><th scope=col>&lt;int&gt;</th></tr>\n",
       "</thead>\n",
       "<tbody>\n",
       "\t<tr><td>100001</td><td>김민주</td><td>서울시 광진구  </td><td>423-8627</td><td>1975-07-01</td><td>750701-2534218</td><td>공무원</td><td>1</td><td>0</td></tr>\n",
       "\t<tr><td>100004</td><td>박진재</td><td>강원도 속초시  </td><td>543-9467</td><td>1960-05-02</td><td>600502-1645394</td><td>공무원</td><td>0</td><td>1</td></tr>\n",
       "\t<tr><td>100009</td><td>노상수</td><td>전북 군산시    </td><td>547-2984</td><td>1981-01-30</td><td>741025-1441282</td><td>공무원</td><td>0</td><td>1</td></tr>\n",
       "\t<tr><td>100011</td><td>정영미</td><td>서울시 관악구  </td><td>272-6745</td><td>1974-09-21</td><td>740921-2782216</td><td>주부  </td><td>1</td><td>1</td></tr>\n",
       "\t<tr><td>100003</td><td>최소영</td><td>제주도 서귀포시</td><td>624-2172</td><td>1980-01-25</td><td>800125-2432712</td><td>학생  </td><td>1</td><td>0</td></tr>\n",
       "\t<tr><td>100007</td><td>김화연</td><td>경남 경주시    </td><td>284-8147</td><td>1980-01-04</td><td>790221-2482217</td><td>학생  </td><td>1</td><td>0</td></tr>\n",
       "\t<tr><td>100008</td><td>박민선</td><td>부산시 해운대구</td><td>347-9124</td><td>1985-04-04</td><td>850527-2123827</td><td>학생  </td><td>1</td><td>0</td></tr>\n",
       "\t<tr><td>100002</td><td>정영미</td><td>경기도 수원시  </td><td>321-4568</td><td>1977-02-01</td><td>770201-2834721</td><td>회사원</td><td>1</td><td>1</td></tr>\n",
       "\t<tr><td>100005</td><td>이순석</td><td>충남 보령시    </td><td>254-9124</td><td>1982-06-01</td><td>820601-1543714</td><td>회사원</td><td>0</td><td>0</td></tr>\n",
       "\t<tr><td>100006</td><td>박선희</td><td>서울시 강남구  </td><td>459-2187</td><td>1975-04-05</td><td>801220-2487416</td><td>회사원</td><td>1</td><td>0</td></tr>\n",
       "\t<tr><td>100010</td><td>이민석</td><td>경기도 수원시  </td><td>354-2723</td><td>1972-08-02</td><td>720802-1481395</td><td>회사원</td><td>0</td><td>1</td></tr>\n",
       "</tbody>\n",
       "</table>\n"
      ],
      "text/latex": [
       "A data.frame: 11 × 9\n",
       "\\begin{tabular}{lllllllll}\n",
       " CID & Name & Address & Tel & Bday & SID & Job & Sex & Married\\\\\n",
       " <int> & <chr> & <chr> & <chr> & <chr> & <chr> & <chr> & <int> & <int>\\\\\n",
       "\\hline\n",
       "\t 100001 & 김민주 & 서울시 광진구   & 423-8627 & 1975-07-01 & 750701-2534218 & 공무원 & 1 & 0\\\\\n",
       "\t 100004 & 박진재 & 강원도 속초시   & 543-9467 & 1960-05-02 & 600502-1645394 & 공무원 & 0 & 1\\\\\n",
       "\t 100009 & 노상수 & 전북 군산시     & 547-2984 & 1981-01-30 & 741025-1441282 & 공무원 & 0 & 1\\\\\n",
       "\t 100011 & 정영미 & 서울시 관악구   & 272-6745 & 1974-09-21 & 740921-2782216 & 주부   & 1 & 1\\\\\n",
       "\t 100003 & 최소영 & 제주도 서귀포시 & 624-2172 & 1980-01-25 & 800125-2432712 & 학생   & 1 & 0\\\\\n",
       "\t 100007 & 김화연 & 경남 경주시     & 284-8147 & 1980-01-04 & 790221-2482217 & 학생   & 1 & 0\\\\\n",
       "\t 100008 & 박민선 & 부산시 해운대구 & 347-9124 & 1985-04-04 & 850527-2123827 & 학생   & 1 & 0\\\\\n",
       "\t 100002 & 정영미 & 경기도 수원시   & 321-4568 & 1977-02-01 & 770201-2834721 & 회사원 & 1 & 1\\\\\n",
       "\t 100005 & 이순석 & 충남 보령시     & 254-9124 & 1982-06-01 & 820601-1543714 & 회사원 & 0 & 0\\\\\n",
       "\t 100006 & 박선희 & 서울시 강남구   & 459-2187 & 1975-04-05 & 801220-2487416 & 회사원 & 1 & 0\\\\\n",
       "\t 100010 & 이민석 & 경기도 수원시   & 354-2723 & 1972-08-02 & 720802-1481395 & 회사원 & 0 & 1\\\\\n",
       "\\end{tabular}\n"
      ],
      "text/markdown": [
       "\n",
       "A data.frame: 11 × 9\n",
       "\n",
       "| CID &lt;int&gt; | Name &lt;chr&gt; | Address &lt;chr&gt; | Tel &lt;chr&gt; | Bday &lt;chr&gt; | SID &lt;chr&gt; | Job &lt;chr&gt; | Sex &lt;int&gt; | Married &lt;int&gt; |\n",
       "|---|---|---|---|---|---|---|---|---|\n",
       "| 100001 | 김민주 | 서울시 광진구   | 423-8627 | 1975-07-01 | 750701-2534218 | 공무원 | 1 | 0 |\n",
       "| 100004 | 박진재 | 강원도 속초시   | 543-9467 | 1960-05-02 | 600502-1645394 | 공무원 | 0 | 1 |\n",
       "| 100009 | 노상수 | 전북 군산시     | 547-2984 | 1981-01-30 | 741025-1441282 | 공무원 | 0 | 1 |\n",
       "| 100011 | 정영미 | 서울시 관악구   | 272-6745 | 1974-09-21 | 740921-2782216 | 주부   | 1 | 1 |\n",
       "| 100003 | 최소영 | 제주도 서귀포시 | 624-2172 | 1980-01-25 | 800125-2432712 | 학생   | 1 | 0 |\n",
       "| 100007 | 김화연 | 경남 경주시     | 284-8147 | 1980-01-04 | 790221-2482217 | 학생   | 1 | 0 |\n",
       "| 100008 | 박민선 | 부산시 해운대구 | 347-9124 | 1985-04-04 | 850527-2123827 | 학생   | 1 | 0 |\n",
       "| 100002 | 정영미 | 경기도 수원시   | 321-4568 | 1977-02-01 | 770201-2834721 | 회사원 | 1 | 1 |\n",
       "| 100005 | 이순석 | 충남 보령시     | 254-9124 | 1982-06-01 | 820601-1543714 | 회사원 | 0 | 0 |\n",
       "| 100006 | 박선희 | 서울시 강남구   | 459-2187 | 1975-04-05 | 801220-2487416 | 회사원 | 1 | 0 |\n",
       "| 100010 | 이민석 | 경기도 수원시   | 354-2723 | 1972-08-02 | 720802-1481395 | 회사원 | 0 | 1 |\n",
       "\n"
      ],
      "text/plain": [
       "   CID    Name   Address         Tel      Bday       SID            Job    Sex\n",
       "1  100001 김민주 서울시 광진구   423-8627 1975-07-01 750701-2534218 공무원 1  \n",
       "2  100004 박진재 강원도 속초시   543-9467 1960-05-02 600502-1645394 공무원 0  \n",
       "3  100009 노상수 전북 군산시     547-2984 1981-01-30 741025-1441282 공무원 0  \n",
       "4  100011 정영미 서울시 관악구   272-6745 1974-09-21 740921-2782216 주부   1  \n",
       "5  100003 최소영 제주도 서귀포시 624-2172 1980-01-25 800125-2432712 학생   1  \n",
       "6  100007 김화연 경남 경주시     284-8147 1980-01-04 790221-2482217 학생   1  \n",
       "7  100008 박민선 부산시 해운대구 347-9124 1985-04-04 850527-2123827 학생   1  \n",
       "8  100002 정영미 경기도 수원시   321-4568 1977-02-01 770201-2834721 회사원 1  \n",
       "9  100005 이순석 충남 보령시     254-9124 1982-06-01 820601-1543714 회사원 0  \n",
       "10 100006 박선희 서울시 강남구   459-2187 1975-04-05 801220-2487416 회사원 1  \n",
       "11 100010 이민석 경기도 수원시   354-2723 1972-08-02 720802-1481395 회사원 0  \n",
       "   Married\n",
       "1  0      \n",
       "2  1      \n",
       "3  1      \n",
       "4  1      \n",
       "5  0      \n",
       "6  0      \n",
       "7  0      \n",
       "8  1      \n",
       "9  0      \n",
       "10 0      \n",
       "11 1      "
      ]
     },
     "metadata": {},
     "output_type": "display_data"
    }
   ],
   "source": [
    "# Customer_Info 테이블에서 고객들의 직업을 정렬하여 출력해 보아라.\n",
    "sql = \"SELECT * \n",
    "FROM Customer_Info\n",
    "ORDER BY Job \"\n",
    "dbGetQuery(conn, sql)\n"
   ]
  },
  {
   "cell_type": "code",
   "execution_count": 26,
   "id": "873368de-02cf-4da5-8a20-e910f48116a7",
   "metadata": {},
   "outputs": [
    {
     "data": {
      "text/html": [
       "<table class=\"dataframe\">\n",
       "<caption>A data.frame: 5 × 2</caption>\n",
       "<thead>\n",
       "\t<tr><th scope=col>CID</th><th scope=col>mean</th></tr>\n",
       "\t<tr><th scope=col>&lt;int&gt;</th><th scope=col>&lt;dbl&gt;</th></tr>\n",
       "</thead>\n",
       "<tbody>\n",
       "\t<tr><td>100004</td><td> 80.5</td></tr>\n",
       "\t<tr><td>100005</td><td> 94.0</td></tr>\n",
       "\t<tr><td>100001</td><td>100.0</td></tr>\n",
       "\t<tr><td>100003</td><td>128.0</td></tr>\n",
       "\t<tr><td>100008</td><td>135.0</td></tr>\n",
       "</tbody>\n",
       "</table>\n"
      ],
      "text/latex": [
       "A data.frame: 5 × 2\n",
       "\\begin{tabular}{ll}\n",
       " CID & mean\\\\\n",
       " <int> & <dbl>\\\\\n",
       "\\hline\n",
       "\t 100004 &  80.5\\\\\n",
       "\t 100005 &  94.0\\\\\n",
       "\t 100001 & 100.0\\\\\n",
       "\t 100003 & 128.0\\\\\n",
       "\t 100008 & 135.0\\\\\n",
       "\\end{tabular}\n"
      ],
      "text/markdown": [
       "\n",
       "A data.frame: 5 × 2\n",
       "\n",
       "| CID &lt;int&gt; | mean &lt;dbl&gt; |\n",
       "|---|---|\n",
       "| 100004 |  80.5 |\n",
       "| 100005 |  94.0 |\n",
       "| 100001 | 100.0 |\n",
       "| 100003 | 128.0 |\n",
       "| 100008 | 135.0 |\n",
       "\n"
      ],
      "text/plain": [
       "  CID    mean \n",
       "1 100004  80.5\n",
       "2 100005  94.0\n",
       "3 100001 100.0\n",
       "4 100003 128.0\n",
       "5 100008 135.0"
      ]
     },
     "metadata": {},
     "output_type": "display_data"
    }
   ],
   "source": [
    "# Customer_Score 테이블에서 2012년과 2013년 자료의 고객별 Off_Score 평균이 50보다 큰 점수들을 내림차순으로 출력해 보아라.\n",
    "\n",
    "sql = \"SELECT CID, avg(Off_Score) mean\n",
    "FROM Customer_Score\n",
    "GROUP BY CID \n",
    "HAVING mean > 50 \n",
    "ORDER BY mean \"\n",
    "dbGetQuery(conn, sql)\n"
   ]
  },
  {
   "cell_type": "markdown",
   "id": "6f4d803c-ac42-4426-af53-77c3a104f925",
   "metadata": {},
   "source": [
    "---"
   ]
  },
  {
   "cell_type": "markdown",
   "id": "986e7e6d-cf3a-4a1e-82ba-bd15eb87a1f8",
   "metadata": {},
   "source": [
    "> 출력 순서들 명시하는 검색 :  ORDER BY\n",
    "\n",
    "    질의 결과로 나오는 레코드들을 정렬시키고자 할 때 ORDER BY 절을 이용한다.\n",
    "    ORDER BY 절에서 레코드를 정렬할 때 기준을 삼고자 하는 필드 이름을 지정하면 기본적으로 해당 필드의 값에 따라 레코드가 오름차순으로 정렬된다."
   ]
  },
  {
   "cell_type": "code",
   "execution_count": 13,
   "id": "d232c488-87af-4320-812a-ae4d3048449c",
   "metadata": {},
   "outputs": [
    {
     "data": {
      "text/html": [
       "<table class=\"dataframe\">\n",
       "<caption>A data.frame: 11 × 9</caption>\n",
       "<thead>\n",
       "\t<tr><th scope=col>CID</th><th scope=col>Name</th><th scope=col>Address</th><th scope=col>Tel</th><th scope=col>Bday</th><th scope=col>SID</th><th scope=col>Job</th><th scope=col>Sex</th><th scope=col>Married</th></tr>\n",
       "\t<tr><th scope=col>&lt;int&gt;</th><th scope=col>&lt;chr&gt;</th><th scope=col>&lt;chr&gt;</th><th scope=col>&lt;chr&gt;</th><th scope=col>&lt;chr&gt;</th><th scope=col>&lt;chr&gt;</th><th scope=col>&lt;chr&gt;</th><th scope=col>&lt;int&gt;</th><th scope=col>&lt;int&gt;</th></tr>\n",
       "</thead>\n",
       "<tbody>\n",
       "\t<tr><td>100001</td><td>김민주</td><td>서울시 광진구  </td><td>423-8627</td><td>1975-07-01</td><td>750701-2534218</td><td>공무원</td><td>1</td><td>0</td></tr>\n",
       "\t<tr><td>100004</td><td>박진재</td><td>강원도 속초시  </td><td>543-9467</td><td>1960-05-02</td><td>600502-1645394</td><td>공무원</td><td>0</td><td>1</td></tr>\n",
       "\t<tr><td>100009</td><td>노상수</td><td>전북 군산시    </td><td>547-2984</td><td>1981-01-30</td><td>741025-1441282</td><td>공무원</td><td>0</td><td>1</td></tr>\n",
       "\t<tr><td>100011</td><td>정영미</td><td>서울시 관악구  </td><td>272-6745</td><td>1974-09-21</td><td>740921-2782216</td><td>주부  </td><td>1</td><td>1</td></tr>\n",
       "\t<tr><td>100003</td><td>최소영</td><td>제주도 서귀포시</td><td>624-2172</td><td>1980-01-25</td><td>800125-2432712</td><td>학생  </td><td>1</td><td>0</td></tr>\n",
       "\t<tr><td>100007</td><td>김화연</td><td>경남 경주시    </td><td>284-8147</td><td>1980-01-04</td><td>790221-2482217</td><td>학생  </td><td>1</td><td>0</td></tr>\n",
       "\t<tr><td>100008</td><td>박민선</td><td>부산시 해운대구</td><td>347-9124</td><td>1985-04-04</td><td>850527-2123827</td><td>학생  </td><td>1</td><td>0</td></tr>\n",
       "\t<tr><td>100002</td><td>정영미</td><td>경기도 수원시  </td><td>321-4568</td><td>1977-02-01</td><td>770201-2834721</td><td>회사원</td><td>1</td><td>1</td></tr>\n",
       "\t<tr><td>100005</td><td>이순석</td><td>충남 보령시    </td><td>254-9124</td><td>1982-06-01</td><td>820601-1543714</td><td>회사원</td><td>0</td><td>0</td></tr>\n",
       "\t<tr><td>100006</td><td>박선희</td><td>서울시 강남구  </td><td>459-2187</td><td>1975-04-05</td><td>801220-2487416</td><td>회사원</td><td>1</td><td>0</td></tr>\n",
       "\t<tr><td>100010</td><td>이민석</td><td>경기도 수원시  </td><td>354-2723</td><td>1972-08-02</td><td>720802-1481395</td><td>회사원</td><td>0</td><td>1</td></tr>\n",
       "</tbody>\n",
       "</table>\n"
      ],
      "text/latex": [
       "A data.frame: 11 × 9\n",
       "\\begin{tabular}{lllllllll}\n",
       " CID & Name & Address & Tel & Bday & SID & Job & Sex & Married\\\\\n",
       " <int> & <chr> & <chr> & <chr> & <chr> & <chr> & <chr> & <int> & <int>\\\\\n",
       "\\hline\n",
       "\t 100001 & 김민주 & 서울시 광진구   & 423-8627 & 1975-07-01 & 750701-2534218 & 공무원 & 1 & 0\\\\\n",
       "\t 100004 & 박진재 & 강원도 속초시   & 543-9467 & 1960-05-02 & 600502-1645394 & 공무원 & 0 & 1\\\\\n",
       "\t 100009 & 노상수 & 전북 군산시     & 547-2984 & 1981-01-30 & 741025-1441282 & 공무원 & 0 & 1\\\\\n",
       "\t 100011 & 정영미 & 서울시 관악구   & 272-6745 & 1974-09-21 & 740921-2782216 & 주부   & 1 & 1\\\\\n",
       "\t 100003 & 최소영 & 제주도 서귀포시 & 624-2172 & 1980-01-25 & 800125-2432712 & 학생   & 1 & 0\\\\\n",
       "\t 100007 & 김화연 & 경남 경주시     & 284-8147 & 1980-01-04 & 790221-2482217 & 학생   & 1 & 0\\\\\n",
       "\t 100008 & 박민선 & 부산시 해운대구 & 347-9124 & 1985-04-04 & 850527-2123827 & 학생   & 1 & 0\\\\\n",
       "\t 100002 & 정영미 & 경기도 수원시   & 321-4568 & 1977-02-01 & 770201-2834721 & 회사원 & 1 & 1\\\\\n",
       "\t 100005 & 이순석 & 충남 보령시     & 254-9124 & 1982-06-01 & 820601-1543714 & 회사원 & 0 & 0\\\\\n",
       "\t 100006 & 박선희 & 서울시 강남구   & 459-2187 & 1975-04-05 & 801220-2487416 & 회사원 & 1 & 0\\\\\n",
       "\t 100010 & 이민석 & 경기도 수원시   & 354-2723 & 1972-08-02 & 720802-1481395 & 회사원 & 0 & 1\\\\\n",
       "\\end{tabular}\n"
      ],
      "text/markdown": [
       "\n",
       "A data.frame: 11 × 9\n",
       "\n",
       "| CID &lt;int&gt; | Name &lt;chr&gt; | Address &lt;chr&gt; | Tel &lt;chr&gt; | Bday &lt;chr&gt; | SID &lt;chr&gt; | Job &lt;chr&gt; | Sex &lt;int&gt; | Married &lt;int&gt; |\n",
       "|---|---|---|---|---|---|---|---|---|\n",
       "| 100001 | 김민주 | 서울시 광진구   | 423-8627 | 1975-07-01 | 750701-2534218 | 공무원 | 1 | 0 |\n",
       "| 100004 | 박진재 | 강원도 속초시   | 543-9467 | 1960-05-02 | 600502-1645394 | 공무원 | 0 | 1 |\n",
       "| 100009 | 노상수 | 전북 군산시     | 547-2984 | 1981-01-30 | 741025-1441282 | 공무원 | 0 | 1 |\n",
       "| 100011 | 정영미 | 서울시 관악구   | 272-6745 | 1974-09-21 | 740921-2782216 | 주부   | 1 | 1 |\n",
       "| 100003 | 최소영 | 제주도 서귀포시 | 624-2172 | 1980-01-25 | 800125-2432712 | 학생   | 1 | 0 |\n",
       "| 100007 | 김화연 | 경남 경주시     | 284-8147 | 1980-01-04 | 790221-2482217 | 학생   | 1 | 0 |\n",
       "| 100008 | 박민선 | 부산시 해운대구 | 347-9124 | 1985-04-04 | 850527-2123827 | 학생   | 1 | 0 |\n",
       "| 100002 | 정영미 | 경기도 수원시   | 321-4568 | 1977-02-01 | 770201-2834721 | 회사원 | 1 | 1 |\n",
       "| 100005 | 이순석 | 충남 보령시     | 254-9124 | 1982-06-01 | 820601-1543714 | 회사원 | 0 | 0 |\n",
       "| 100006 | 박선희 | 서울시 강남구   | 459-2187 | 1975-04-05 | 801220-2487416 | 회사원 | 1 | 0 |\n",
       "| 100010 | 이민석 | 경기도 수원시   | 354-2723 | 1972-08-02 | 720802-1481395 | 회사원 | 0 | 1 |\n",
       "\n"
      ],
      "text/plain": [
       "   CID    Name   Address         Tel      Bday       SID            Job    Sex\n",
       "1  100001 김민주 서울시 광진구   423-8627 1975-07-01 750701-2534218 공무원 1  \n",
       "2  100004 박진재 강원도 속초시   543-9467 1960-05-02 600502-1645394 공무원 0  \n",
       "3  100009 노상수 전북 군산시     547-2984 1981-01-30 741025-1441282 공무원 0  \n",
       "4  100011 정영미 서울시 관악구   272-6745 1974-09-21 740921-2782216 주부   1  \n",
       "5  100003 최소영 제주도 서귀포시 624-2172 1980-01-25 800125-2432712 학생   1  \n",
       "6  100007 김화연 경남 경주시     284-8147 1980-01-04 790221-2482217 학생   1  \n",
       "7  100008 박민선 부산시 해운대구 347-9124 1985-04-04 850527-2123827 학생   1  \n",
       "8  100002 정영미 경기도 수원시   321-4568 1977-02-01 770201-2834721 회사원 1  \n",
       "9  100005 이순석 충남 보령시     254-9124 1982-06-01 820601-1543714 회사원 0  \n",
       "10 100006 박선희 서울시 강남구   459-2187 1975-04-05 801220-2487416 회사원 1  \n",
       "11 100010 이민석 경기도 수원시   354-2723 1972-08-02 720802-1481395 회사원 0  \n",
       "   Married\n",
       "1  0      \n",
       "2  1      \n",
       "3  1      \n",
       "4  1      \n",
       "5  0      \n",
       "6  0      \n",
       "7  0      \n",
       "8  1      \n",
       "9  0      \n",
       "10 0      \n",
       "11 1      "
      ]
     },
     "metadata": {},
     "output_type": "display_data"
    }
   ],
   "source": [
    "# Customer_Info 테이블에서 고객들의 직업을 정렬하여 출력\n",
    "sql = \"SELECT * FROM Customer_Info ORDER BY Job\"\n",
    "dbGetQuery(conn, sql)\n",
    "# default는 ASC, 따라서 써도 그만 안 써도 그만\n",
    "# 내림차순으로 정렬하려면 DESC"
   ]
  },
  {
   "cell_type": "code",
   "execution_count": 14,
   "id": "55c1a249-efe5-4ef8-8ebb-70a84b0b3335",
   "metadata": {},
   "outputs": [
    {
     "data": {
      "text/html": [
       "<table class=\"dataframe\">\n",
       "<caption>A data.frame: 5 × 2</caption>\n",
       "<thead>\n",
       "\t<tr><th scope=col>CID</th><th scope=col>mean</th></tr>\n",
       "\t<tr><th scope=col>&lt;int&gt;</th><th scope=col>&lt;dbl&gt;</th></tr>\n",
       "</thead>\n",
       "<tbody>\n",
       "\t<tr><td>100008</td><td>135.0</td></tr>\n",
       "\t<tr><td>100003</td><td>128.0</td></tr>\n",
       "\t<tr><td>100001</td><td>100.0</td></tr>\n",
       "\t<tr><td>100005</td><td> 94.0</td></tr>\n",
       "\t<tr><td>100004</td><td> 80.5</td></tr>\n",
       "</tbody>\n",
       "</table>\n"
      ],
      "text/latex": [
       "A data.frame: 5 × 2\n",
       "\\begin{tabular}{ll}\n",
       " CID & mean\\\\\n",
       " <int> & <dbl>\\\\\n",
       "\\hline\n",
       "\t 100008 & 135.0\\\\\n",
       "\t 100003 & 128.0\\\\\n",
       "\t 100001 & 100.0\\\\\n",
       "\t 100005 &  94.0\\\\\n",
       "\t 100004 &  80.5\\\\\n",
       "\\end{tabular}\n"
      ],
      "text/markdown": [
       "\n",
       "A data.frame: 5 × 2\n",
       "\n",
       "| CID &lt;int&gt; | mean &lt;dbl&gt; |\n",
       "|---|---|\n",
       "| 100008 | 135.0 |\n",
       "| 100003 | 128.0 |\n",
       "| 100001 | 100.0 |\n",
       "| 100005 |  94.0 |\n",
       "| 100004 |  80.5 |\n",
       "\n"
      ],
      "text/plain": [
       "  CID    mean \n",
       "1 100008 135.0\n",
       "2 100003 128.0\n",
       "3 100001 100.0\n",
       "4 100005  94.0\n",
       "5 100004  80.5"
      ]
     },
     "metadata": {},
     "output_type": "display_data"
    }
   ],
   "source": [
    "# Customer_Score 테이블에서 2012년과 2013년 자료의 고객별 Off_Score 평균이 \n",
    "# 50보다 큰 점수들을 내림차순으로 출력해 보아라.\n",
    "sql = \"SELECT CID, avg(Off_Score) mean\n",
    "FROM Customer_Score\n",
    "GROUP BY CID \n",
    "HAVING mean > 50 \n",
    "ORDER BY mean DESC\"\n",
    "dbGetQuery(conn, sql)"
   ]
  },
  {
   "cell_type": "markdown",
   "id": "e066c4e6-ff86-4593-9e84-b01a68bc0e3b",
   "metadata": {},
   "source": [
    "---"
   ]
  },
  {
   "cell_type": "markdown",
   "id": "c90890b1-7769-412b-b2ab-9a7623e9757a",
   "metadata": {},
   "source": [
    "> 둘 이상의 테이블에서 검색 : JOIN\n",
    "\n",
    "     둘 이상의 테이블에서 원하는 데이터를 검색하고자 할 때는 조인(JOIN) 문장을 이용한다.\n",
    "    "
   ]
  },
  {
   "cell_type": "code",
   "execution_count": 15,
   "id": "290bd5ac-9760-4ec0-b263-fe9b783683a7",
   "metadata": {},
   "outputs": [
    {
     "data": {
      "text/html": [
       "<table class=\"dataframe\">\n",
       "<caption>A data.frame: 11 × 3</caption>\n",
       "<thead>\n",
       "\t<tr><th scope=col>CID</th><th scope=col>Name</th><th scope=col>On_Score</th></tr>\n",
       "\t<tr><th scope=col>&lt;int&gt;</th><th scope=col>&lt;chr&gt;</th><th scope=col>&lt;int&gt;</th></tr>\n",
       "</thead>\n",
       "<tbody>\n",
       "\t<tr><td>100001</td><td>김민주</td><td> 58</td></tr>\n",
       "\t<tr><td>100002</td><td>정영미</td><td> 98</td></tr>\n",
       "\t<tr><td>100003</td><td>최소영</td><td>402</td></tr>\n",
       "\t<tr><td>100004</td><td>박진재</td><td>  0</td></tr>\n",
       "\t<tr><td>100005</td><td>이순석</td><td>356</td></tr>\n",
       "\t<tr><td>100006</td><td>박선희</td><td> 66</td></tr>\n",
       "\t<tr><td>100007</td><td>김화연</td><td>  0</td></tr>\n",
       "\t<tr><td>100008</td><td>박민선</td><td> 44</td></tr>\n",
       "\t<tr><td>100009</td><td>노상수</td><td>  2</td></tr>\n",
       "\t<tr><td>100010</td><td>이민석</td><td>  0</td></tr>\n",
       "\t<tr><td>100011</td><td>정영미</td><td>  0</td></tr>\n",
       "</tbody>\n",
       "</table>\n"
      ],
      "text/latex": [
       "A data.frame: 11 × 3\n",
       "\\begin{tabular}{lll}\n",
       " CID & Name & On\\_Score\\\\\n",
       " <int> & <chr> & <int>\\\\\n",
       "\\hline\n",
       "\t 100001 & 김민주 &  58\\\\\n",
       "\t 100002 & 정영미 &  98\\\\\n",
       "\t 100003 & 최소영 & 402\\\\\n",
       "\t 100004 & 박진재 &   0\\\\\n",
       "\t 100005 & 이순석 & 356\\\\\n",
       "\t 100006 & 박선희 &  66\\\\\n",
       "\t 100007 & 김화연 &   0\\\\\n",
       "\t 100008 & 박민선 &  44\\\\\n",
       "\t 100009 & 노상수 &   2\\\\\n",
       "\t 100010 & 이민석 &   0\\\\\n",
       "\t 100011 & 정영미 &   0\\\\\n",
       "\\end{tabular}\n"
      ],
      "text/markdown": [
       "\n",
       "A data.frame: 11 × 3\n",
       "\n",
       "| CID &lt;int&gt; | Name &lt;chr&gt; | On_Score &lt;int&gt; |\n",
       "|---|---|---|\n",
       "| 100001 | 김민주 |  58 |\n",
       "| 100002 | 정영미 |  98 |\n",
       "| 100003 | 최소영 | 402 |\n",
       "| 100004 | 박진재 |   0 |\n",
       "| 100005 | 이순석 | 356 |\n",
       "| 100006 | 박선희 |  66 |\n",
       "| 100007 | 김화연 |   0 |\n",
       "| 100008 | 박민선 |  44 |\n",
       "| 100009 | 노상수 |   2 |\n",
       "| 100010 | 이민석 |   0 |\n",
       "| 100011 | 정영미 |   0 |\n",
       "\n"
      ],
      "text/plain": [
       "   CID    Name   On_Score\n",
       "1  100001 김민주  58     \n",
       "2  100002 정영미  98     \n",
       "3  100003 최소영 402     \n",
       "4  100004 박진재   0     \n",
       "5  100005 이순석 356     \n",
       "6  100006 박선희  66     \n",
       "7  100007 김화연   0     \n",
       "8  100008 박민선  44     \n",
       "9  100009 노상수   2     \n",
       "10 100010 이민석   0     \n",
       "11 100011 정영미   0     "
      ]
     },
     "metadata": {},
     "output_type": "display_data"
    }
   ],
   "source": [
    "# 테이블 Customer_Info와 Customer_Score에서 \n",
    "# 고객번호(CID)와 이름(Name), 2013년 온라인 점수(On_Score)를 고객번호 순으로 검색해 보아라.\n",
    "\n",
    "sql = \"SELECT C.CID, C.Name, CS.On_Score \n",
    "FROM Customer_Info C\n",
    "JOIN Customer_Score CS \n",
    "ON C.CID = CS.CID\n",
    "WHERE CS.Year=2013 \"\n",
    "dbGetQuery(conn, sql)\n",
    "\n",
    "# C라는 이름으로 Customer_Info를 사용하겠다.\n",
    "# CS라는 이름으로 Customer_Score를 사용하겠다.\n",
    "\n",
    "# FROM Customer_Info C 이 TABLE을 기준으로 하여\n",
    "# JOIN Customer_Score CS을 합쳐줌\n",
    "\n",
    "# ON의 의미? \n",
    "# JOIN할 때 기준이 되어줌"
   ]
  },
  {
   "cell_type": "code",
   "execution_count": 21,
   "id": "4e4e2e72-707b-4a34-81fb-f3c03af35667",
   "metadata": {},
   "outputs": [
    {
     "data": {
      "text/html": [
       "<table class=\"dataframe\">\n",
       "<caption>A data.frame: 11 × 3</caption>\n",
       "<thead>\n",
       "\t<tr><th scope=col>CID</th><th scope=col>Name</th><th scope=col>total</th></tr>\n",
       "\t<tr><th scope=col>&lt;int&gt;</th><th scope=col>&lt;chr&gt;</th><th scope=col>&lt;int&gt;</th></tr>\n",
       "</thead>\n",
       "<tbody>\n",
       "\t<tr><td>100003</td><td>최소영</td><td>744</td></tr>\n",
       "\t<tr><td>100005</td><td>이순석</td><td>666</td></tr>\n",
       "\t<tr><td>100008</td><td>박민선</td><td>370</td></tr>\n",
       "\t<tr><td>100001</td><td>김민주</td><td>300</td></tr>\n",
       "\t<tr><td>100006</td><td>박선희</td><td>193</td></tr>\n",
       "\t<tr><td>100002</td><td>정영미</td><td>180</td></tr>\n",
       "\t<tr><td>100004</td><td>박진재</td><td>161</td></tr>\n",
       "\t<tr><td>100011</td><td>정영미</td><td> 87</td></tr>\n",
       "\t<tr><td>100009</td><td>노상수</td><td> 77</td></tr>\n",
       "\t<tr><td>100010</td><td>이민석</td><td> 21</td></tr>\n",
       "\t<tr><td>100007</td><td>김화연</td><td>  5</td></tr>\n",
       "</tbody>\n",
       "</table>\n"
      ],
      "text/latex": [
       "A data.frame: 11 × 3\n",
       "\\begin{tabular}{lll}\n",
       " CID & Name & total\\\\\n",
       " <int> & <chr> & <int>\\\\\n",
       "\\hline\n",
       "\t 100003 & 최소영 & 744\\\\\n",
       "\t 100005 & 이순석 & 666\\\\\n",
       "\t 100008 & 박민선 & 370\\\\\n",
       "\t 100001 & 김민주 & 300\\\\\n",
       "\t 100006 & 박선희 & 193\\\\\n",
       "\t 100002 & 정영미 & 180\\\\\n",
       "\t 100004 & 박진재 & 161\\\\\n",
       "\t 100011 & 정영미 &  87\\\\\n",
       "\t 100009 & 노상수 &  77\\\\\n",
       "\t 100010 & 이민석 &  21\\\\\n",
       "\t 100007 & 김화연 &   5\\\\\n",
       "\\end{tabular}\n"
      ],
      "text/markdown": [
       "\n",
       "A data.frame: 11 × 3\n",
       "\n",
       "| CID &lt;int&gt; | Name &lt;chr&gt; | total &lt;int&gt; |\n",
       "|---|---|---|\n",
       "| 100003 | 최소영 | 744 |\n",
       "| 100005 | 이순석 | 666 |\n",
       "| 100008 | 박민선 | 370 |\n",
       "| 100001 | 김민주 | 300 |\n",
       "| 100006 | 박선희 | 193 |\n",
       "| 100002 | 정영미 | 180 |\n",
       "| 100004 | 박진재 | 161 |\n",
       "| 100011 | 정영미 |  87 |\n",
       "| 100009 | 노상수 |  77 |\n",
       "| 100010 | 이민석 |  21 |\n",
       "| 100007 | 김화연 |   5 |\n",
       "\n"
      ],
      "text/plain": [
       "   CID    Name   total\n",
       "1  100003 최소영 744  \n",
       "2  100005 이순석 666  \n",
       "3  100008 박민선 370  \n",
       "4  100001 김민주 300  \n",
       "5  100006 박선희 193  \n",
       "6  100002 정영미 180  \n",
       "7  100004 박진재 161  \n",
       "8  100011 정영미  87  \n",
       "9  100009 노상수  77  \n",
       "10 100010 이민석  21  \n",
       "11 100007 김화연   5  "
      ]
     },
     "metadata": {},
     "output_type": "display_data"
    }
   ],
   "source": [
    "# 테이블 Customer_Score와 Customer_Info에서 고객번호(CID), 이름(Name), 2012년과 2013년 자료의 고객별 온라인 점수(On_Score)와 오프라인 점수(Off_Score)의 합을 점수의 합 순으로 검색해 보아라.\n",
    "\n",
    "sql = \"SELECT CS.CID, C.Name, sum(On_Score+Off_Score) total \n",
    "FROM Customer_Score CS\n",
    "JOIN Customer_Info C \n",
    "ON CS.CID = C.CID\n",
    "GROUP BY CS.CID, C.Name\n",
    "ORDER BY total DESC \"\n",
    "dbGetQuery(conn, sql)\n",
    "# 두개 JOIN말고 3개 ,4개 하고 싶으면 ON CS.CID = C.CID\n",
    "# 이 밑에다가\n",
    "# JOIN Customer_OnlineInfo co\n",
    "# ON CS.CID = CO.CID\n",
    "# 이렇게 입력하여 3번째 TABLE을 JOIN할 수 있다. \n",
    "\n",
    "# ON CS.CID = CO.CID 이것만 잘 입력하면 된다\n",
    "# 입력 순서는 지켜줘야하는 것 같다.\n",
    "\n",
    "# 그 후에 ORDER BY나 HAVING이나 GROUP BY 사용 가능함"
   ]
  },
  {
   "cell_type": "markdown",
   "id": "35384b94-76c5-489f-bbc8-5221f93363bf",
   "metadata": {},
   "source": [
    "> ### INNER JOIN, OUTER JOIN 알아보기 (필요하면...)"
   ]
  },
  {
   "cell_type": "code",
   "execution_count": 18,
   "id": "12e621db-07be-43a1-8f0e-7c4d140f0359",
   "metadata": {},
   "outputs": [
    {
     "data": {
      "text/html": [
       "<table class=\"dataframe\">\n",
       "<caption>A data.frame: 22 × 2</caption>\n",
       "<thead>\n",
       "\t<tr><th scope=col>CID</th><th scope=col>Name</th></tr>\n",
       "\t<tr><th scope=col>&lt;int&gt;</th><th scope=col>&lt;chr&gt;</th></tr>\n",
       "</thead>\n",
       "<tbody>\n",
       "\t<tr><td>100001</td><td>김민주</td></tr>\n",
       "\t<tr><td>100002</td><td>정영미</td></tr>\n",
       "\t<tr><td>100003</td><td>최소영</td></tr>\n",
       "\t<tr><td>100004</td><td>박진재</td></tr>\n",
       "\t<tr><td>100005</td><td>이순석</td></tr>\n",
       "\t<tr><td>100006</td><td>박선희</td></tr>\n",
       "\t<tr><td>100007</td><td>김화연</td></tr>\n",
       "\t<tr><td>100008</td><td>박민선</td></tr>\n",
       "\t<tr><td>100009</td><td>노상수</td></tr>\n",
       "\t<tr><td>100010</td><td>이민석</td></tr>\n",
       "\t<tr><td>100011</td><td>정영미</td></tr>\n",
       "\t<tr><td>100001</td><td>김민주</td></tr>\n",
       "\t<tr><td>100002</td><td>정영미</td></tr>\n",
       "\t<tr><td>100003</td><td>최소영</td></tr>\n",
       "\t<tr><td>100004</td><td>박진재</td></tr>\n",
       "\t<tr><td>100005</td><td>이순석</td></tr>\n",
       "\t<tr><td>100006</td><td>박선희</td></tr>\n",
       "\t<tr><td>100007</td><td>김화연</td></tr>\n",
       "\t<tr><td>100008</td><td>박민선</td></tr>\n",
       "\t<tr><td>100009</td><td>노상수</td></tr>\n",
       "\t<tr><td>100010</td><td>이민석</td></tr>\n",
       "\t<tr><td>100011</td><td>정영미</td></tr>\n",
       "</tbody>\n",
       "</table>\n"
      ],
      "text/latex": [
       "A data.frame: 22 × 2\n",
       "\\begin{tabular}{ll}\n",
       " CID & Name\\\\\n",
       " <int> & <chr>\\\\\n",
       "\\hline\n",
       "\t 100001 & 김민주\\\\\n",
       "\t 100002 & 정영미\\\\\n",
       "\t 100003 & 최소영\\\\\n",
       "\t 100004 & 박진재\\\\\n",
       "\t 100005 & 이순석\\\\\n",
       "\t 100006 & 박선희\\\\\n",
       "\t 100007 & 김화연\\\\\n",
       "\t 100008 & 박민선\\\\\n",
       "\t 100009 & 노상수\\\\\n",
       "\t 100010 & 이민석\\\\\n",
       "\t 100011 & 정영미\\\\\n",
       "\t 100001 & 김민주\\\\\n",
       "\t 100002 & 정영미\\\\\n",
       "\t 100003 & 최소영\\\\\n",
       "\t 100004 & 박진재\\\\\n",
       "\t 100005 & 이순석\\\\\n",
       "\t 100006 & 박선희\\\\\n",
       "\t 100007 & 김화연\\\\\n",
       "\t 100008 & 박민선\\\\\n",
       "\t 100009 & 노상수\\\\\n",
       "\t 100010 & 이민석\\\\\n",
       "\t 100011 & 정영미\\\\\n",
       "\\end{tabular}\n"
      ],
      "text/markdown": [
       "\n",
       "A data.frame: 22 × 2\n",
       "\n",
       "| CID &lt;int&gt; | Name &lt;chr&gt; |\n",
       "|---|---|\n",
       "| 100001 | 김민주 |\n",
       "| 100002 | 정영미 |\n",
       "| 100003 | 최소영 |\n",
       "| 100004 | 박진재 |\n",
       "| 100005 | 이순석 |\n",
       "| 100006 | 박선희 |\n",
       "| 100007 | 김화연 |\n",
       "| 100008 | 박민선 |\n",
       "| 100009 | 노상수 |\n",
       "| 100010 | 이민석 |\n",
       "| 100011 | 정영미 |\n",
       "| 100001 | 김민주 |\n",
       "| 100002 | 정영미 |\n",
       "| 100003 | 최소영 |\n",
       "| 100004 | 박진재 |\n",
       "| 100005 | 이순석 |\n",
       "| 100006 | 박선희 |\n",
       "| 100007 | 김화연 |\n",
       "| 100008 | 박민선 |\n",
       "| 100009 | 노상수 |\n",
       "| 100010 | 이민석 |\n",
       "| 100011 | 정영미 |\n",
       "\n"
      ],
      "text/plain": [
       "   CID    Name  \n",
       "1  100001 김민주\n",
       "2  100002 정영미\n",
       "3  100003 최소영\n",
       "4  100004 박진재\n",
       "5  100005 이순석\n",
       "6  100006 박선희\n",
       "7  100007 김화연\n",
       "8  100008 박민선\n",
       "9  100009 노상수\n",
       "10 100010 이민석\n",
       "11 100011 정영미\n",
       "12 100001 김민주\n",
       "13 100002 정영미\n",
       "14 100003 최소영\n",
       "15 100004 박진재\n",
       "16 100005 이순석\n",
       "17 100006 박선희\n",
       "18 100007 김화연\n",
       "19 100008 박민선\n",
       "20 100009 노상수\n",
       "21 100010 이민석\n",
       "22 100011 정영미"
      ]
     },
     "metadata": {},
     "output_type": "display_data"
    }
   ],
   "source": [
    "# 테이블 Customer_Score와 Customer_Info에서 고객번호(CID), 이름(Name), 2012년과 2013년 자료의 고객별 온라인 점수(On_Score)와 오프라인 점수(Off_Score)의 합을 점수의 합 순으로 검색해 보아라.\n",
    "\n",
    "sql = \"SELECT CS.CID, C.Name \n",
    "FROM Customer_Score CS\n",
    "LEFT OUTER JOIN Customer_Info C \n",
    "ON CS.CID = C.CID\n",
    "\"\n",
    "dbGetQuery(conn, sql)"
   ]
  },
  {
   "cell_type": "markdown",
   "id": "796eea11-a54d-4131-8fbd-a56250d1c803",
   "metadata": {},
   "source": [
    "> 중첩 질의 : IN\n",
    "\n",
    "    일부 질의들은 데이터베이스 내에 존재하는 값들을 검색한 다음 이를 비교 조건에서 사용한다.\n",
    "    이러한 질의들은 중첩 질의를 사용해서 편리하게 나타낼 수가 있다.\n",
    "    중첩 질의는 어떤 질의의 WHERE 문에 완전한 하나의 SELECT 질의가 포함되어 있는 형태의 질의이다.\n",
    "    \n",
    "    하나의 sql문장 안에 두개의 sql문장 중첨 시키는 형식\n",
    "    if문 중첩과 유사\n",
    "    \n",
    "    중첩된 괄호 안부터 확인한다."
   ]
  },
  {
   "cell_type": "code",
   "execution_count": 23,
   "id": "f8196604-366e-42b0-bed9-9225f980adc3",
   "metadata": {},
   "outputs": [
    {
     "data": {
      "text/html": [
       "<table class=\"dataframe\">\n",
       "<caption>A data.frame: 7 × 2</caption>\n",
       "<thead>\n",
       "\t<tr><th scope=col>CID</th><th scope=col>Name</th></tr>\n",
       "\t<tr><th scope=col>&lt;int&gt;</th><th scope=col>&lt;chr&gt;</th></tr>\n",
       "</thead>\n",
       "<tbody>\n",
       "\t<tr><td>100001</td><td>김민주</td></tr>\n",
       "\t<tr><td>100002</td><td>정영미</td></tr>\n",
       "\t<tr><td>100003</td><td>최소영</td></tr>\n",
       "\t<tr><td>100005</td><td>이순석</td></tr>\n",
       "\t<tr><td>100006</td><td>박선희</td></tr>\n",
       "\t<tr><td>100008</td><td>박민선</td></tr>\n",
       "\t<tr><td>100009</td><td>노상수</td></tr>\n",
       "</tbody>\n",
       "</table>\n"
      ],
      "text/latex": [
       "A data.frame: 7 × 2\n",
       "\\begin{tabular}{ll}\n",
       " CID & Name\\\\\n",
       " <int> & <chr>\\\\\n",
       "\\hline\n",
       "\t 100001 & 김민주\\\\\n",
       "\t 100002 & 정영미\\\\\n",
       "\t 100003 & 최소영\\\\\n",
       "\t 100005 & 이순석\\\\\n",
       "\t 100006 & 박선희\\\\\n",
       "\t 100008 & 박민선\\\\\n",
       "\t 100009 & 노상수\\\\\n",
       "\\end{tabular}\n"
      ],
      "text/markdown": [
       "\n",
       "A data.frame: 7 × 2\n",
       "\n",
       "| CID &lt;int&gt; | Name &lt;chr&gt; |\n",
       "|---|---|\n",
       "| 100001 | 김민주 |\n",
       "| 100002 | 정영미 |\n",
       "| 100003 | 최소영 |\n",
       "| 100005 | 이순석 |\n",
       "| 100006 | 박선희 |\n",
       "| 100008 | 박민선 |\n",
       "| 100009 | 노상수 |\n",
       "\n"
      ],
      "text/plain": [
       "  CID    Name  \n",
       "1 100001 김민주\n",
       "2 100002 정영미\n",
       "3 100003 최소영\n",
       "4 100005 이순석\n",
       "5 100006 박선희\n",
       "6 100008 박민선\n",
       "7 100009 노상수"
      ]
     },
     "metadata": {},
     "output_type": "display_data"
    }
   ],
   "source": [
    "# Customer_Score 테이블에 있는 고객들 중에서 2013년 On_Score가 0보다 큰 고객의 명단을 Customer_Info에서 검색해 보아라.\n",
    "\n",
    "sql = \"SELECT CID, Name\n",
    "FROM Customer_Info\n",
    "WHERE CID IN ( \tSELECT CID\n",
    "FROM Customer_Score\n",
    "WHERE Year=2013 and On_Score > 0 )  \"\n",
    "dbGetQuery(conn, sql)"
   ]
  },
  {
   "cell_type": "code",
   "execution_count": 25,
   "id": "25bf7e15-5bce-4d79-8551-07a795791713",
   "metadata": {},
   "outputs": [
    {
     "data": {
      "text/html": [
       "<table class=\"dataframe\">\n",
       "<caption>A data.frame: 7 × 2</caption>\n",
       "<thead>\n",
       "\t<tr><th scope=col>CID</th><th scope=col>On_Score</th></tr>\n",
       "\t<tr><th scope=col>&lt;int&gt;</th><th scope=col>&lt;int&gt;</th></tr>\n",
       "</thead>\n",
       "<tbody>\n",
       "\t<tr><td>100001</td><td> 58</td></tr>\n",
       "\t<tr><td>100002</td><td> 98</td></tr>\n",
       "\t<tr><td>100003</td><td>402</td></tr>\n",
       "\t<tr><td>100005</td><td>356</td></tr>\n",
       "\t<tr><td>100006</td><td> 66</td></tr>\n",
       "\t<tr><td>100008</td><td> 44</td></tr>\n",
       "\t<tr><td>100009</td><td>  2</td></tr>\n",
       "</tbody>\n",
       "</table>\n"
      ],
      "text/latex": [
       "A data.frame: 7 × 2\n",
       "\\begin{tabular}{ll}\n",
       " CID & On\\_Score\\\\\n",
       " <int> & <int>\\\\\n",
       "\\hline\n",
       "\t 100001 &  58\\\\\n",
       "\t 100002 &  98\\\\\n",
       "\t 100003 & 402\\\\\n",
       "\t 100005 & 356\\\\\n",
       "\t 100006 &  66\\\\\n",
       "\t 100008 &  44\\\\\n",
       "\t 100009 &   2\\\\\n",
       "\\end{tabular}\n"
      ],
      "text/markdown": [
       "\n",
       "A data.frame: 7 × 2\n",
       "\n",
       "| CID &lt;int&gt; | On_Score &lt;int&gt; |\n",
       "|---|---|\n",
       "| 100001 |  58 |\n",
       "| 100002 |  98 |\n",
       "| 100003 | 402 |\n",
       "| 100005 | 356 |\n",
       "| 100006 |  66 |\n",
       "| 100008 |  44 |\n",
       "| 100009 |   2 |\n",
       "\n"
      ],
      "text/plain": [
       "  CID    On_Score\n",
       "1 100001  58     \n",
       "2 100002  98     \n",
       "3 100003 402     \n",
       "4 100005 356     \n",
       "5 100006  66     \n",
       "6 100008  44     \n",
       "7 100009   2     "
      ]
     },
     "metadata": {},
     "output_type": "display_data"
    }
   ],
   "source": [
    "# Customer_Info 테이블에 있는 고객들 중에서 Customer_Score 테이블의 2013년 On_Score가 0보다 큰 고객번호와 점수를 검색해 보아라.\n",
    "\n",
    "sql = \"SELECT CID, On_Score\n",
    "FROM Customer_Score\n",
    "WHERE CID IN ( \tSELECT CID\n",
    "FROM Customer_Info  ) \n",
    "and Year=2013 and On_Score > 0  \"\n",
    "dbGetQuery(conn, sql)"
   ]
  },
  {
   "cell_type": "code",
   "execution_count": null,
   "id": "2a13ef2e-cd80-4ccd-9edd-8aa5e6054a0a",
   "metadata": {},
   "outputs": [],
   "source": []
  }
 ],
 "metadata": {
  "kernelspec": {
   "display_name": "R",
   "language": "R",
   "name": "ir"
  },
  "language_info": {
   "codemirror_mode": "r",
   "file_extension": ".r",
   "mimetype": "text/x-r-source",
   "name": "R",
   "pygments_lexer": "r",
   "version": "4.0.5"
  }
 },
 "nbformat": 4,
 "nbformat_minor": 5
}
