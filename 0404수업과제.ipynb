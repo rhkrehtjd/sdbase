{
 "cells": [
  {
   "cell_type": "markdown",
   "id": "c967b5e2-c38c-4af1-a2f3-365bef1a5b19",
   "metadata": {},
   "source": [
    "# 1"
   ]
  },
  {
   "cell_type": "code",
   "execution_count": 105,
   "id": "d3bf1426-0dcd-416f-8259-0c6d620ea194",
   "metadata": {},
   "outputs": [],
   "source": [
    "makingdf = function(x){\n",
    "    x1 = rbinom(x, size=2, prob=0.5)\n",
    "    x2 = runif(x, min=0, max=1)\n",
    "    x3 = rnorm(x, mean=0, sd=1)\n",
    "    x4 = rnorm(x, mean=2, sd=2) * rnorm(x, mean=3, sd=5)\n",
    "    x5 = rt(x, df=3) + rt(x, df=5)\n",
    "    \n",
    "  return (data.frame(x1, x2, x3, x4, x5))  \n",
    "}\n",
    "\n",
    "n = 10000\n",
    "df1 = makingdf(n)"
   ]
  },
  {
   "cell_type": "markdown",
   "id": "5e0ad529-3a32-419b-81e5-ba5153827ac4",
   "metadata": {},
   "source": [
    "# 2"
   ]
  },
  {
   "cell_type": "code",
   "execution_count": 106,
   "id": "8d28cb25-6681-4831-9f1e-de536acacb63",
   "metadata": {},
   "outputs": [],
   "source": [
    "makingdf2 = function(x){\n",
    "    df2 = subset(x, x1 != 0, select=c(x1,x2,x3,x5))\n",
    "    \n",
    "    return(df2)}\n",
    "\n",
    "df2 = makingdf2(df1)"
   ]
  },
  {
   "cell_type": "markdown",
   "id": "7d3f669e-13e6-4bff-a422-6bbee4c10e77",
   "metadata": {},
   "source": [
    "# 3"
   ]
  },
  {
   "cell_type": "markdown",
   "id": "d04df4b0-61a9-4365-b972-0816ec1a811f",
   "metadata": {},
   "source": [
    "- 교수님 풀이와 내 풀이가 다른 점\n",
    "  - 나는 x2열을 빼오려고 x=x[2]라고 해주었음. 그리고 for문 돌리기 위해서 x2열의 각 원소들을 하나씩 불러와야 하는데, x=x[2] 이 방법으로 하면, 새로운 df이 만들어짐. 그런데 교수님이 사용하신 방법인 df2$x2는 데이터프레임을 만드는 게 아니라 모든 원소들을 그냥 vector형식으로 뽑아오는 게 됨\n",
    "  - 내 방법을 사용하려면 x=x[2]인 상태에서, x[,]이렇게 하던지, 혹은 x[,1]이렇게 해야함."
   ]
  },
  {
   "cell_type": "code",
   "execution_count": 107,
   "id": "2b0436b7-223e-41d2-b444-04c6f01dcb9d",
   "metadata": {},
   "outputs": [
    {
     "data": {
      "text/html": [
       "0.0847973258992431"
      ],
      "text/latex": [
       "0.0847973258992431"
      ],
      "text/markdown": [
       "0.0847973258992431"
      ],
      "text/plain": [
       "[1] 0.08479733"
      ]
     },
     "metadata": {},
     "output_type": "display_data"
    },
    {
     "data": {
      "text/html": [
       "<strong>x2:</strong> 0.0847973258992431"
      ],
      "text/latex": [
       "\\textbf{x2:} 0.0847973258992431"
      ],
      "text/markdown": [
       "**x2:** 0.0847973258992431"
      ],
      "text/plain": [
       "        x2 \n",
       "0.08479733 "
      ]
     },
     "metadata": {},
     "output_type": "display_data"
    },
    {
     "data": {
      "text/html": [
       "0.0847973258992432"
      ],
      "text/latex": [
       "0.0847973258992432"
      ],
      "text/markdown": [
       "0.0847973258992432"
      ],
      "text/plain": [
       "[1] 0.08479733"
      ]
     },
     "metadata": {},
     "output_type": "display_data"
    }
   ],
   "source": [
    "getvar = function (x) {\n",
    "    x = x[2]\n",
    "    mean = mean(x[,])\n",
    "    ss = 0\n",
    "    for(i in 1:nrow(x)){\n",
    "        ss = ss + x[i,]^2}\n",
    "    var = (ss - nrow(x)*mean^2)/(nrow(x) -1)\n",
    "    return(var)}\n",
    "getvar(df2)\n",
    "\n",
    "getvar = function (x) {\n",
    "    x = x[2]\n",
    "    mean = apply(x,2,mean)\n",
    "    ss = 0\n",
    "    for(i in 1:nrow(x)){\n",
    "        ss = ss + x[i,]^2}\n",
    "    var = (ss - nrow(x)*mean^2)/(nrow(x) -1)\n",
    "    return(var)}\n",
    "getvar(df2)\n",
    "\n",
    "\n",
    "# 교수님 풀이\n",
    "getvar = function(x){\n",
    "    n = length(x)\n",
    "    ssum = 0\n",
    "    for(i in 1:n){\n",
    "        ssum = ssum + x[i]*x[i]}\n",
    "    m = mean(x)\n",
    "    var = (ssum-n*m*m)/(n-1)\n",
    "    return(var)}\n",
    "\n",
    "var = getvar(df2$x2)\n",
    "var"
   ]
  },
  {
   "cell_type": "markdown",
   "id": "10ecb6b2-e632-4187-bf21-bcd33d63b03e",
   "metadata": {},
   "source": [
    "# 4"
   ]
  },
  {
   "cell_type": "markdown",
   "id": "36474384-9d04-4a88-9012-764d08212d21",
   "metadata": {},
   "source": [
    "- list에 data.frame을 담아줄 수도 있다!!!!!"
   ]
  },
  {
   "cell_type": "code",
   "execution_count": 108,
   "id": "d459df00-9fb5-4ad3-892a-f8dedf82db56",
   "metadata": {},
   "outputs": [],
   "source": [
    "split_Data = function(x){\n",
    "    n = nrow(x)\n",
    "    out = list() # 담아줄 list 생성\n",
    "    \n",
    "    # 참고하자면 runif는 0에서부터 1까지 균등하게 뽑음\n",
    "    # 그래서 뽑아진 값들을 평균내면 0.5에 수렴함\n",
    "    x$gp = runif(dim(x)[1]) # 원래 전에는 x라는 df에 gp라는 칼럼은 없었지만 이런 방식으로 만들어줄 수 있음\n",
    "    out$trd = subset(x, gp<0.9) # list에 df 담아주기\n",
    "    out$ted = subset(x, gp>0.8) # list에 df 담아주기\n",
    "  return(out)\n",
    "}\n",
    "\n",
    "sp_data = split_Data(df2)\n",
    "\n",
    "trd = sp_data[[1]]\n",
    "# trd = as.data.frame(trd)\n",
    "# 어차피 list에 data.frame을 담았기 때문에 굳이 as.data.frame을 해줄 필요는 없다. \n",
    "# 주의 : sp_data[1] 이렇게 하면 안 됨\n",
    "\n",
    "ted = sp_data[[2]]"
   ]
  },
  {
   "cell_type": "markdown",
   "id": "28602c4f-ba59-4ed4-976d-732df206d0d0",
   "metadata": {},
   "source": [
    "# 5"
   ]
  },
  {
   "cell_type": "code",
   "execution_count": 109,
   "id": "10f57a93-2a0e-42e1-b6f7-3e0ce9f5aa3f",
   "metadata": {},
   "outputs": [
    {
     "data": {
      "text/html": [
       "<strong>1:</strong> 0.499955709957327"
      ],
      "text/latex": [
       "\\textbf{1:} 0.499955709957327"
      ],
      "text/markdown": [
       "**1:** 0.499955709957327"
      ],
      "text/plain": [
       "        1 \n",
       "0.4999557 "
      ]
     },
     "metadata": {},
     "output_type": "display_data"
    }
   ],
   "source": [
    "reg_Pred = function(x){\n",
    "    model = lm(x2 ~ x3+x5, data=x)\n",
    "    nd = data.frame(x3=2, x5=3)\n",
    "    predict(model, nd)\n",
    "}\n",
    "\n",
    "reg_Pred(trd)\n",
    "# nd에서 data 줄때, model에서 사용한 독립변수 칼럼명을 꼭 맞추어줘야 함\n",
    "# 임의로 지정하면 안 됨"
   ]
  }
 ],
 "metadata": {
  "kernelspec": {
   "display_name": "R",
   "language": "R",
   "name": "ir"
  },
  "language_info": {
   "codemirror_mode": "r",
   "file_extension": ".r",
   "mimetype": "text/x-r-source",
   "name": "R",
   "pygments_lexer": "r",
   "version": "4.0.5"
  }
 },
 "nbformat": 4,
 "nbformat_minor": 5
}
