{
 "cells": [
  {
   "cell_type": "code",
   "execution_count": 13,
   "id": "4ca9d6ed-ac85-4e5f-82c1-0d805769c495",
   "metadata": {},
   "outputs": [],
   "source": [
    "library(DBI)\n",
    "library(RSQLite)"
   ]
  },
  {
   "cell_type": "code",
   "execution_count": 14,
   "id": "484c5ed8-9563-4eec-8cc3-a5917aa59e01",
   "metadata": {},
   "outputs": [],
   "source": [
    "conn = dbConnect(SQLite(), dbname = \"c:/RSQL/Customer.sqlite\")\n",
    "# 데이터 베이스를 하나 만들고 싶을 때,\n",
    "# DBMS는 SQLite()를 이용해\n",
    "# 어디에? c:/RSQL 폴더 아래에 Customer.sqlite라는 이름으로\n",
    "\n",
    "# dbConnect(SQLite(), dbname = \"c:/RSQL/Customer.sqlite\")라는 connector를 conn이라고 저장해준 것"
   ]
  },
  {
   "cell_type": "markdown",
   "id": "59c5ae00-5b3a-4c95-bffd-d932a663e88f",
   "metadata": {},
   "source": [
    "- 만들어 놓기만 한 거고 내용은 아무것도 없다."
   ]
  },
  {
   "cell_type": "code",
   "execution_count": 15,
   "id": "842ecafa-e421-4835-8c17-0c1b80780fbd",
   "metadata": {},
   "outputs": [],
   "source": [
    "# 데이터 베이스와의 연결 해제\n",
    "# dbDisconnect(conn)"
   ]
  },
  {
   "cell_type": "code",
   "execution_count": 16,
   "id": "d76c2dbd-c9c6-48ad-893d-279364b9989f",
   "metadata": {},
   "outputs": [
    {
     "data": {
      "text/html": [
       "0"
      ],
      "text/latex": [
       "0"
      ],
      "text/markdown": [
       "0"
      ],
      "text/plain": [
       "[1] 0"
      ]
     },
     "metadata": {},
     "output_type": "display_data"
    },
    {
     "data": {
      "text/html": [
       "TRUE"
      ],
      "text/latex": [
       "TRUE"
      ],
      "text/markdown": [
       "TRUE"
      ],
      "text/plain": [
       "[1] TRUE"
      ]
     },
     "metadata": {},
     "output_type": "display_data"
    }
   ],
   "source": [
    "##### PRAGMA statement : SQLite에 특정된 SQL 확장\n",
    "\n",
    "###  sqlite에서 외래 키를 설정하기 위해서는 다음 문장을 실행해야 함\n",
    "dbExecute(conn, \"PRAGMA foreign_keys=ON\")\n",
    "\n",
    "# Customer_Info 테이블 생성하기\n",
    "sql = \"CREATE TABLE IF NOT EXISTS Customer_Info\n",
    "\t\t\t\t\t( \tCID TEXT PRIMARY KEY, \n",
    "\t\t\t\t\t\tName TEXT,\n",
    "\t\t\t\t\t\tAddress TEXT,\n",
    "\t\t\t\t\t\tTel TEXT,\n",
    "\t\t\t\t\t\tBDay TEXT,\n",
    "\t\t\t\t\t\tSID TEXT,\n",
    "\t\t\t\t\t\tJob TEXT,\n",
    "\t\t\t\t\t\tSex TEXT,\n",
    "\t\t\t\t\t\tMarried TEXT )\"\n",
    "#   ( \tCID TEXT PRIMARY KEY, \n",
    "# \t\t\t\t\t\tName TEXT,\n",
    "# \t\t\t\t\t\tAddress TEXT,\n",
    "# \t\t\t\t\t\tTel TEXT,\n",
    "# \t\t\t\t\t\tBDay TEXT,\n",
    "# \t\t\t\t\t\tSID TEXT,\n",
    "# \t\t\t\t\t\tJob TEXT,\n",
    "# \t\t\t\t\t\tSex TEXT,\n",
    "# \t\t\t\t\t\tMarried TEXT )\n",
    "\n",
    "# CREATE TABLE IF NOT EXISTS Customer_Info \n",
    "# -> Customer_Info라는 TABLE이 없으면 만들어라,있으면 만들지 말고\n",
    "# 이런 이름(CID, Name, Address, Tel, BDay, SID, ...)들의 필드를 가진, type은 TEXT인.\n",
    "\n",
    "# 위에서 정의했던 conn이라는 connector이용해서 sqp라는 문장을 실행\n",
    "rs = dbSendQuery(conn, sql)\n",
    "# dbSendQuerry라는 함수를 불러서 반환되는 값을\n",
    "# 굳이 rs라는 변수에 저장하고\n",
    "# 왜 아래에서 또 rs를 굳이 제거?\n",
    "# 사실 dbSendQuery(conn, sql) 이것만 실행해도 되긴 함\n",
    "# 매뉴얼에서 dbSendQuery라는 함수를 보면\n",
    "# dbSendQuery라는 함수는 S4 object를 반환하는데,,\n",
    "# 만약 이 반환되는 값을 임의의 변수에 저장하지 않으면\n",
    "# error는 아니고 warning이 출력됨\n",
    "# 왜?\n",
    "# dbSendQuery가 안 닫혀서..\n",
    "# 그냥 예전에 최귭 교수님이 파일 열었으면 닫아야된다고 했던 거랑\n",
    "# 같은 원리인 것 같음\n",
    "# 이것도 dbSendQuery사용했으면 제거해주는 게 그냥 .. 깔끔하다고 생각하면 될 듯\n",
    "\n",
    "# rs 제거\n",
    "dbClearResult(rs)\n",
    "\n",
    "# 테이블이 생성되었는지(존재하는지) 확인\n",
    "dbExistsTable(conn, \"Customer_Info\")"
   ]
  },
  {
   "cell_type": "markdown",
   "id": "9f1817c0-ae26-4d8d-9ddc-a2132101f046",
   "metadata": {},
   "source": [
    "- TRUE라고 반환됨\n",
    "  - 만들어졌음을 알 수 있음\n",
    "  - 내용은 없고 table만 생성된 것임\n",
    "  - table안에 data 넣고 빼고 혹은 추가 table 생성 등의 작업을 할 수 있음"
   ]
  },
  {
   "cell_type": "code",
   "execution_count": 17,
   "id": "efea9cb7-dd00-48b6-a9f3-2dc1e84d0085",
   "metadata": {},
   "outputs": [
    {
     "data": {
      "text/html": [
       "TRUE"
      ],
      "text/latex": [
       "TRUE"
      ],
      "text/markdown": [
       "TRUE"
      ],
      "text/plain": [
       "[1] TRUE"
      ]
     },
     "metadata": {},
     "output_type": "display_data"
    }
   ],
   "source": [
    "sql = \"CREATE TABLE IF NOT EXISTS Customer_Score  \n",
    "\t\t\t\t( \tCID TEXT, \n",
    "\t\t\t\t\tYear TEXT not null,\n",
    "\t\t\t\t\tOn_Score INTEGER default 0,\n",
    "\t\t\t\t\tOff_Score INTEGER default 0,\n",
    "\t\t\t\t\tPRIMARY KEY (CID, Year),\n",
    "\t\t\t\t\tFOREIGN KEY(CID) REFERENCES Customer_Info(CID) )\"\n",
    "\n",
    "rs = dbSendQuery(conn, sql)\n",
    "\n",
    "# rs 제거\n",
    "dbClearResult(rs)\n",
    "\n",
    "# 테이블이 생성되었는지(존재하는지) 확인\n",
    "dbExistsTable(conn, \"Customer_Score\")"
   ]
  },
  {
   "cell_type": "markdown",
   "id": "f9c82329-b908-4237-8a06-e8a0688701cb",
   "metadata": {},
   "source": [
    "- 2개의 table을 만듦"
   ]
  },
  {
   "cell_type": "code",
   "execution_count": 18,
   "id": "6c741ccc-6067-4bee-9c85-26558e5d87ca",
   "metadata": {},
   "outputs": [
    {
     "data": {
      "text/html": [
       "<style>\n",
       ".list-inline {list-style: none; margin:0; padding: 0}\n",
       ".list-inline>li {display: inline-block}\n",
       ".list-inline>li:not(:last-child)::after {content: \"\\00b7\"; padding: 0 .5ex}\n",
       "</style>\n",
       "<ol class=list-inline><li>'Customer_Info'</li><li>'Customer_Score'</li></ol>\n"
      ],
      "text/latex": [
       "\\begin{enumerate*}\n",
       "\\item 'Customer\\_Info'\n",
       "\\item 'Customer\\_Score'\n",
       "\\end{enumerate*}\n"
      ],
      "text/markdown": [
       "1. 'Customer_Info'\n",
       "2. 'Customer_Score'\n",
       "\n",
       "\n"
      ],
      "text/plain": [
       "[1] \"Customer_Info\"  \"Customer_Score\""
      ]
     },
     "metadata": {},
     "output_type": "display_data"
    }
   ],
   "source": [
    "dbListTables(conn)"
   ]
  },
  {
   "cell_type": "code",
   "execution_count": 19,
   "id": "23a6a5f0-da44-407f-8c41-a9242cc3c4c6",
   "metadata": {},
   "outputs": [],
   "source": [
    "# # Customer_Score 테이블 삭제하기\n",
    "# rs = dbSendQuery(conn, \"DROP TABLE Customer_Score\")\n",
    "\n",
    "# # rs 제거\n",
    "# dbClearResult(rs)\n",
    "\n",
    "# # 테이블이 존재하는지(삭제되었는지) 확인\n",
    "# dbExistsTable(conn, \"Customer_Score\")"
   ]
  },
  {
   "cell_type": "markdown",
   "id": "3a83b696-06a5-411b-bb0f-394307b7db5b",
   "metadata": {},
   "source": [
    "---"
   ]
  },
  {
   "cell_type": "markdown",
   "id": "b6e65784-e075-4aec-87ad-250b09899a6b",
   "metadata": {},
   "source": [
    "> 데이터 삽입, 갱신, 삭제"
   ]
  },
  {
   "cell_type": "code",
   "execution_count": 20,
   "id": "6d0daa6f-6858-4605-aa88-f5f1ad25e7ba",
   "metadata": {},
   "outputs": [
    {
     "ename": "ERROR",
     "evalue": "Error: UNIQUE constraint failed: Customer_Info.CID\n",
     "output_type": "error",
     "traceback": [
      "Error: UNIQUE constraint failed: Customer_Info.CID\nTraceback:\n",
      "1. dbSendQuery(conn, sql)",
      "2. dbSendQuery(conn, sql)",
      "3. .local(conn, statement, ...)",
      "4. new(\"SQLiteResult\", sql = statement, ptr = result_create(conn@ptr, \n .     statement), conn = conn, bigint = conn@bigint)",
      "5. initialize(value, ...)",
      "6. initialize(value, ...)",
      "7. result_create(conn@ptr, statement)"
     ]
    }
   ],
   "source": [
    "# Customer_Info 테이블에 데이터 insert\n",
    "sql = \" INSERT INTO Customer_Info \n",
    "VALUES ('100001', '김민지', '서울시 광진구', '423-8627', \n",
    "'1975-07-01', '750701-2534218', '공무원', '1', '0') \"\n",
    "\n",
    "rs = dbSendQuery(conn, sql)\n",
    "dbClearResult(rs)"
   ]
  },
  {
   "cell_type": "code",
   "execution_count": 21,
   "id": "dcde0d5b-b64e-4c9b-9688-162cbd950269",
   "metadata": {},
   "outputs": [
    {
     "data": {
      "text/html": [
       "<table class=\"dataframe\">\n",
       "<caption>A data.frame: 1 × 9</caption>\n",
       "<thead>\n",
       "\t<tr><th scope=col>CID</th><th scope=col>Name</th><th scope=col>Address</th><th scope=col>Tel</th><th scope=col>BDay</th><th scope=col>SID</th><th scope=col>Job</th><th scope=col>Sex</th><th scope=col>Married</th></tr>\n",
       "\t<tr><th scope=col>&lt;chr&gt;</th><th scope=col>&lt;chr&gt;</th><th scope=col>&lt;chr&gt;</th><th scope=col>&lt;chr&gt;</th><th scope=col>&lt;chr&gt;</th><th scope=col>&lt;chr&gt;</th><th scope=col>&lt;chr&gt;</th><th scope=col>&lt;chr&gt;</th><th scope=col>&lt;chr&gt;</th></tr>\n",
       "</thead>\n",
       "<tbody>\n",
       "\t<tr><td>100001</td><td>김민지</td><td>서울시 광진구</td><td>423-8627</td><td>1975-07-01</td><td>750701-2534218</td><td>공무원</td><td>1</td><td>0</td></tr>\n",
       "</tbody>\n",
       "</table>\n"
      ],
      "text/latex": [
       "A data.frame: 1 × 9\n",
       "\\begin{tabular}{lllllllll}\n",
       " CID & Name & Address & Tel & BDay & SID & Job & Sex & Married\\\\\n",
       " <chr> & <chr> & <chr> & <chr> & <chr> & <chr> & <chr> & <chr> & <chr>\\\\\n",
       "\\hline\n",
       "\t 100001 & 김민지 & 서울시 광진구 & 423-8627 & 1975-07-01 & 750701-2534218 & 공무원 & 1 & 0\\\\\n",
       "\\end{tabular}\n"
      ],
      "text/markdown": [
       "\n",
       "A data.frame: 1 × 9\n",
       "\n",
       "| CID &lt;chr&gt; | Name &lt;chr&gt; | Address &lt;chr&gt; | Tel &lt;chr&gt; | BDay &lt;chr&gt; | SID &lt;chr&gt; | Job &lt;chr&gt; | Sex &lt;chr&gt; | Married &lt;chr&gt; |\n",
       "|---|---|---|---|---|---|---|---|---|\n",
       "| 100001 | 김민지 | 서울시 광진구 | 423-8627 | 1975-07-01 | 750701-2534218 | 공무원 | 1 | 0 |\n",
       "\n"
      ],
      "text/plain": [
       "  CID    Name   Address       Tel      BDay       SID            Job    Sex\n",
       "1 100001 김민지 서울시 광진구 423-8627 1975-07-01 750701-2534218 공무원 1  \n",
       "  Married\n",
       "1 0      "
      ]
     },
     "metadata": {},
     "output_type": "display_data"
    }
   ],
   "source": [
    "# Customer_Info 테이블에 데이터 삽입 결과 확인\n",
    "dbGetQuery(conn, \"SELECT * FROM Customer_Info\")\n",
    "# * => 해당 table에서 모든 field를 불러와라"
   ]
  },
  {
   "cell_type": "code",
   "execution_count": 22,
   "id": "21246082-12c1-487c-b2bc-ad3ef59a9f18",
   "metadata": {},
   "outputs": [
    {
     "data": {
      "text/html": [
       "<table class=\"dataframe\">\n",
       "<caption>A data.frame: 2 × 4</caption>\n",
       "<thead>\n",
       "\t<tr><th scope=col>CID</th><th scope=col>Year</th><th scope=col>On_Score</th><th scope=col>Off_Score</th></tr>\n",
       "\t<tr><th scope=col>&lt;chr&gt;</th><th scope=col>&lt;chr&gt;</th><th scope=col>&lt;int&gt;</th><th scope=col>&lt;int&gt;</th></tr>\n",
       "</thead>\n",
       "<tbody>\n",
       "\t<tr><td>100001</td><td>2012</td><td>42</td><td>111</td></tr>\n",
       "\t<tr><td>100001</td><td>2013</td><td>58</td><td> 89</td></tr>\n",
       "</tbody>\n",
       "</table>\n"
      ],
      "text/latex": [
       "A data.frame: 2 × 4\n",
       "\\begin{tabular}{llll}\n",
       " CID & Year & On\\_Score & Off\\_Score\\\\\n",
       " <chr> & <chr> & <int> & <int>\\\\\n",
       "\\hline\n",
       "\t 100001 & 2012 & 42 & 111\\\\\n",
       "\t 100001 & 2013 & 58 &  89\\\\\n",
       "\\end{tabular}\n"
      ],
      "text/markdown": [
       "\n",
       "A data.frame: 2 × 4\n",
       "\n",
       "| CID &lt;chr&gt; | Year &lt;chr&gt; | On_Score &lt;int&gt; | Off_Score &lt;int&gt; |\n",
       "|---|---|---|---|\n",
       "| 100001 | 2012 | 42 | 111 |\n",
       "| 100001 | 2013 | 58 |  89 |\n",
       "\n"
      ],
      "text/plain": [
       "  CID    Year On_Score Off_Score\n",
       "1 100001 2012 42       111      \n",
       "2 100001 2013 58        89      "
      ]
     },
     "metadata": {},
     "output_type": "display_data"
    }
   ],
   "source": [
    "sql = \" INSERT INTO Customer_Score \n",
    "VALUES ('100001', '2012', 42, 111) \"\n",
    "\n",
    "rs = dbSendQuery(conn, sql)\n",
    "dbClearResult(rs)\n",
    "\n",
    "sql = \" INSERT INTO Customer_Score \n",
    "VALUES ('100001', '2013', 58, 89) \"\n",
    "\n",
    "rs = dbSendQuery(conn, sql)\n",
    "dbClearResult(rs)\n",
    "\n",
    "# Customer_Score 테이블에 데이터 삽입 결과 확인\n",
    "dbGetQuery(conn, \"SELECT * FROM Customer_Score \")"
   ]
  },
  {
   "cell_type": "markdown",
   "id": "3ae29b8a-648b-45f3-be2b-dfe66f2a3351",
   "metadata": {},
   "source": [
    "- Customer_Info 테이블에 있는 데이터 update"
   ]
  },
  {
   "cell_type": "code",
   "execution_count": 25,
   "id": "076f1839-7794-4dae-bf3b-43b4c9fab531",
   "metadata": {},
   "outputs": [],
   "source": [
    "sql = \"UPDATE Customer_Info SET Address = '서울시 영등포구' \n",
    "\t\t\t\t\tWHERE CID = '100001' \"\n",
    "# CID = '100001'을 만족하는 고객만 update한다.\n",
    "\n",
    "rs = dbSendQuery(conn, sql)\n",
    "dbClearResult(rs)"
   ]
  },
  {
   "cell_type": "code",
   "execution_count": 26,
   "id": "8cee68f0-9006-44f7-9647-05a7f1c5c56b",
   "metadata": {},
   "outputs": [
    {
     "data": {
      "text/html": [
       "<table class=\"dataframe\">\n",
       "<caption>A data.frame: 1 × 9</caption>\n",
       "<thead>\n",
       "\t<tr><th scope=col>CID</th><th scope=col>Name</th><th scope=col>Address</th><th scope=col>Tel</th><th scope=col>BDay</th><th scope=col>SID</th><th scope=col>Job</th><th scope=col>Sex</th><th scope=col>Married</th></tr>\n",
       "\t<tr><th scope=col>&lt;chr&gt;</th><th scope=col>&lt;chr&gt;</th><th scope=col>&lt;chr&gt;</th><th scope=col>&lt;chr&gt;</th><th scope=col>&lt;chr&gt;</th><th scope=col>&lt;chr&gt;</th><th scope=col>&lt;chr&gt;</th><th scope=col>&lt;chr&gt;</th><th scope=col>&lt;chr&gt;</th></tr>\n",
       "</thead>\n",
       "<tbody>\n",
       "\t<tr><td>100001</td><td>김민지</td><td>서울시 영등포구</td><td>423-8627</td><td>1975-07-01</td><td>750701-2534218</td><td>공무원</td><td>1</td><td>0</td></tr>\n",
       "</tbody>\n",
       "</table>\n"
      ],
      "text/latex": [
       "A data.frame: 1 × 9\n",
       "\\begin{tabular}{lllllllll}\n",
       " CID & Name & Address & Tel & BDay & SID & Job & Sex & Married\\\\\n",
       " <chr> & <chr> & <chr> & <chr> & <chr> & <chr> & <chr> & <chr> & <chr>\\\\\n",
       "\\hline\n",
       "\t 100001 & 김민지 & 서울시 영등포구 & 423-8627 & 1975-07-01 & 750701-2534218 & 공무원 & 1 & 0\\\\\n",
       "\\end{tabular}\n"
      ],
      "text/markdown": [
       "\n",
       "A data.frame: 1 × 9\n",
       "\n",
       "| CID &lt;chr&gt; | Name &lt;chr&gt; | Address &lt;chr&gt; | Tel &lt;chr&gt; | BDay &lt;chr&gt; | SID &lt;chr&gt; | Job &lt;chr&gt; | Sex &lt;chr&gt; | Married &lt;chr&gt; |\n",
       "|---|---|---|---|---|---|---|---|---|\n",
       "| 100001 | 김민지 | 서울시 영등포구 | 423-8627 | 1975-07-01 | 750701-2534218 | 공무원 | 1 | 0 |\n",
       "\n"
      ],
      "text/plain": [
       "  CID    Name   Address         Tel      BDay       SID            Job    Sex\n",
       "1 100001 김민지 서울시 영등포구 423-8627 1975-07-01 750701-2534218 공무원 1  \n",
       "  Married\n",
       "1 0      "
      ]
     },
     "metadata": {},
     "output_type": "display_data"
    }
   ],
   "source": [
    "dbGetQuery(conn, \"SELECT * FROM Customer_Info\")"
   ]
  },
  {
   "cell_type": "markdown",
   "id": "cd418031-7559-48c7-a942-56ae077f56e6",
   "metadata": {},
   "source": [
    "---"
   ]
  },
  {
   "cell_type": "code",
   "execution_count": 28,
   "id": "4f371e95-725c-4f86-9904-9f878c7b5894",
   "metadata": {},
   "outputs": [
    {
     "data": {
      "text/html": [
       "<table class=\"dataframe\">\n",
       "<caption>A data.frame: 2 × 4</caption>\n",
       "<thead>\n",
       "\t<tr><th scope=col>CID</th><th scope=col>Year</th><th scope=col>On_Score</th><th scope=col>Off_Score</th></tr>\n",
       "\t<tr><th scope=col>&lt;chr&gt;</th><th scope=col>&lt;chr&gt;</th><th scope=col>&lt;int&gt;</th><th scope=col>&lt;int&gt;</th></tr>\n",
       "</thead>\n",
       "<tbody>\n",
       "\t<tr><td>100001</td><td>2012</td><td>42</td><td>111</td></tr>\n",
       "\t<tr><td>100001</td><td>2013</td><td>58</td><td> 98</td></tr>\n",
       "</tbody>\n",
       "</table>\n"
      ],
      "text/latex": [
       "A data.frame: 2 × 4\n",
       "\\begin{tabular}{llll}\n",
       " CID & Year & On\\_Score & Off\\_Score\\\\\n",
       " <chr> & <chr> & <int> & <int>\\\\\n",
       "\\hline\n",
       "\t 100001 & 2012 & 42 & 111\\\\\n",
       "\t 100001 & 2013 & 58 &  98\\\\\n",
       "\\end{tabular}\n"
      ],
      "text/markdown": [
       "\n",
       "A data.frame: 2 × 4\n",
       "\n",
       "| CID &lt;chr&gt; | Year &lt;chr&gt; | On_Score &lt;int&gt; | Off_Score &lt;int&gt; |\n",
       "|---|---|---|---|\n",
       "| 100001 | 2012 | 42 | 111 |\n",
       "| 100001 | 2013 | 58 |  98 |\n",
       "\n"
      ],
      "text/plain": [
       "  CID    Year On_Score Off_Score\n",
       "1 100001 2012 42       111      \n",
       "2 100001 2013 58        98      "
      ]
     },
     "metadata": {},
     "output_type": "display_data"
    }
   ],
   "source": [
    "# Customer_Score 테이블에 있는 데이터 update\n",
    "sql = \"UPDATE Customer_Score SET Off_Score = 98 \n",
    "WHERE CID = '100001' and Year='2013' \"\n",
    "\n",
    "rs = dbSendQuery(conn, sql)\n",
    "dbClearResult(rs)\n",
    "\n",
    "# Customer_Score 테이블에 있는 데이터 갱신 결과 확인\n",
    "dbGetQuery(conn, \"SELECT * FROM Customer_Score \")"
   ]
  },
  {
   "cell_type": "code",
   "execution_count": 29,
   "id": "3ad54d13-4583-4900-b543-006ed9f1fe9b",
   "metadata": {},
   "outputs": [
    {
     "data": {
      "text/html": [
       "<table class=\"dataframe\">\n",
       "<caption>A data.frame: 1 × 4</caption>\n",
       "<thead>\n",
       "\t<tr><th scope=col>CID</th><th scope=col>Year</th><th scope=col>On_Score</th><th scope=col>Off_Score</th></tr>\n",
       "\t<tr><th scope=col>&lt;chr&gt;</th><th scope=col>&lt;chr&gt;</th><th scope=col>&lt;int&gt;</th><th scope=col>&lt;int&gt;</th></tr>\n",
       "</thead>\n",
       "<tbody>\n",
       "\t<tr><td>100001</td><td>2012</td><td>42</td><td>111</td></tr>\n",
       "</tbody>\n",
       "</table>\n"
      ],
      "text/latex": [
       "A data.frame: 1 × 4\n",
       "\\begin{tabular}{llll}\n",
       " CID & Year & On\\_Score & Off\\_Score\\\\\n",
       " <chr> & <chr> & <int> & <int>\\\\\n",
       "\\hline\n",
       "\t 100001 & 2012 & 42 & 111\\\\\n",
       "\\end{tabular}\n"
      ],
      "text/markdown": [
       "\n",
       "A data.frame: 1 × 4\n",
       "\n",
       "| CID &lt;chr&gt; | Year &lt;chr&gt; | On_Score &lt;int&gt; | Off_Score &lt;int&gt; |\n",
       "|---|---|---|---|\n",
       "| 100001 | 2012 | 42 | 111 |\n",
       "\n"
      ],
      "text/plain": [
       "  CID    Year On_Score Off_Score\n",
       "1 100001 2012 42       111      "
      ]
     },
     "metadata": {},
     "output_type": "display_data"
    }
   ],
   "source": [
    "# Customer_Score 테이블에 있는 특정 데이터 delete\n",
    "sql = \"DELETE FROM Customer_Score \n",
    "WHERE CID = '100001' and Year='2013' \"\n",
    "\n",
    "rs = dbSendQuery(conn, sql)\n",
    "dbClearResult(rs)\n",
    "\n",
    "# Customer_Score 테이블에 있는 특정 데이터 삭제 결과 확인\n",
    "dbGetQuery(conn, \"SELECT * FROM Customer_Score\")"
   ]
  },
  {
   "cell_type": "code",
   "execution_count": 30,
   "id": "a9c221ae-6970-415e-8572-6b5328838478",
   "metadata": {},
   "outputs": [
    {
     "data": {
      "text/html": [
       "<table class=\"dataframe\">\n",
       "<caption>A data.frame: 0 × 4</caption>\n",
       "<thead>\n",
       "\t<tr><th scope=col>CID</th><th scope=col>Year</th><th scope=col>On_Score</th><th scope=col>Off_Score</th></tr>\n",
       "\t<tr><th scope=col>&lt;chr&gt;</th><th scope=col>&lt;chr&gt;</th><th scope=col>&lt;int&gt;</th><th scope=col>&lt;int&gt;</th></tr>\n",
       "</thead>\n",
       "<tbody>\n",
       "</tbody>\n",
       "</table>\n"
      ],
      "text/latex": [
       "A data.frame: 0 × 4\n",
       "\\begin{tabular}{llll}\n",
       " CID & Year & On\\_Score & Off\\_Score\\\\\n",
       " <chr> & <chr> & <int> & <int>\\\\\n",
       "\\hline\n",
       "\\end{tabular}\n"
      ],
      "text/markdown": [
       "\n",
       "A data.frame: 0 × 4\n",
       "\n",
       "| CID &lt;chr&gt; | Year &lt;chr&gt; | On_Score &lt;int&gt; | Off_Score &lt;int&gt; |\n",
       "|---|---|---|---|\n",
       "\n"
      ],
      "text/plain": [
       "     CID Year On_Score Off_Score"
      ]
     },
     "metadata": {},
     "output_type": "display_data"
    }
   ],
   "source": [
    "# Customer_Score 테이블에 있는 전체 데이터 delete\n",
    "sql = \"DELETE FROM Customer_Score \"\n",
    "rs = dbSendQuery(conn, sql)\n",
    "dbClearResult(rs)\n",
    "\n",
    "# Customer_Score 테이블에 있는 전체 데이터 삭제 결과 확인\n",
    "dbGetQuery(conn, \"SELECT * FROM Customer_Score \")"
   ]
  },
  {
   "cell_type": "markdown",
   "id": "c1273b6b-3e59-4305-8821-60f243abb3d3",
   "metadata": {},
   "source": [
    "---"
   ]
  },
  {
   "cell_type": "markdown",
   "id": "ab21d81e-5832-4056-81a1-6628ebe73fd2",
   "metadata": {},
   "source": [
    "> dbWriteTable()를 이용하여 데이터를 한 번에 삽입해보자"
   ]
  },
  {
   "cell_type": "code",
   "execution_count": 32,
   "id": "dacd1d68-9eab-415c-b0bb-846ed999e478",
   "metadata": {},
   "outputs": [
    {
     "data": {
      "text/html": [
       "<style>\n",
       ".list-inline {list-style: none; margin:0; padding: 0}\n",
       ".list-inline>li {display: inline-block}\n",
       ".list-inline>li:not(:last-child)::after {content: \"\\00b7\"; padding: 0 .5ex}\n",
       "</style>\n",
       "<ol class=list-inline><li>'Customer_Info'</li><li>'Customer_Score'</li></ol>\n"
      ],
      "text/latex": [
       "\\begin{enumerate*}\n",
       "\\item 'Customer\\_Info'\n",
       "\\item 'Customer\\_Score'\n",
       "\\end{enumerate*}\n"
      ],
      "text/markdown": [
       "1. 'Customer_Info'\n",
       "2. 'Customer_Score'\n",
       "\n",
       "\n"
      ],
      "text/plain": [
       "[1] \"Customer_Info\"  \"Customer_Score\""
      ]
     },
     "metadata": {},
     "output_type": "display_data"
    },
    {
     "data": {
      "text/html": [
       "<table class=\"dataframe\">\n",
       "<caption>A data.frame: 11 × 9</caption>\n",
       "<thead>\n",
       "\t<tr><th scope=col>CID</th><th scope=col>Name</th><th scope=col>Address</th><th scope=col>Tel</th><th scope=col>Bday</th><th scope=col>SID</th><th scope=col>Job</th><th scope=col>Sex</th><th scope=col>Married</th></tr>\n",
       "\t<tr><th scope=col>&lt;int&gt;</th><th scope=col>&lt;chr&gt;</th><th scope=col>&lt;chr&gt;</th><th scope=col>&lt;chr&gt;</th><th scope=col>&lt;chr&gt;</th><th scope=col>&lt;chr&gt;</th><th scope=col>&lt;chr&gt;</th><th scope=col>&lt;int&gt;</th><th scope=col>&lt;int&gt;</th></tr>\n",
       "</thead>\n",
       "<tbody>\n",
       "\t<tr><td>100001</td><td>김민주</td><td>서울시 광진구  </td><td>423-8627</td><td>1975-07-01</td><td>750701-2534218</td><td>공무원</td><td>1</td><td>0</td></tr>\n",
       "\t<tr><td>100002</td><td>정영미</td><td>경기도 수원시  </td><td>321-4568</td><td>1977-02-01</td><td>770201-2834721</td><td>회사원</td><td>1</td><td>1</td></tr>\n",
       "\t<tr><td>100003</td><td>최소영</td><td>제주도 서귀포시</td><td>624-2172</td><td>1980-01-25</td><td>800125-2432712</td><td>학생  </td><td>1</td><td>0</td></tr>\n",
       "\t<tr><td>100004</td><td>박진재</td><td>강원도 속초시  </td><td>543-9467</td><td>1960-05-02</td><td>600502-1645394</td><td>공무원</td><td>0</td><td>1</td></tr>\n",
       "\t<tr><td>100005</td><td>이순석</td><td>충남 보령시    </td><td>254-9124</td><td>1982-06-01</td><td>820601-1543714</td><td>회사원</td><td>0</td><td>0</td></tr>\n",
       "\t<tr><td>100006</td><td>박선희</td><td>서울시 강남구  </td><td>459-2187</td><td>1975-04-05</td><td>801220-2487416</td><td>회사원</td><td>1</td><td>0</td></tr>\n",
       "\t<tr><td>100007</td><td>김화연</td><td>경남 경주시    </td><td>284-8147</td><td>1980-01-04</td><td>790221-2482217</td><td>학생  </td><td>1</td><td>0</td></tr>\n",
       "\t<tr><td>100008</td><td>박민선</td><td>부산시 해운대구</td><td>347-9124</td><td>1985-04-04</td><td>850527-2123827</td><td>학생  </td><td>1</td><td>0</td></tr>\n",
       "\t<tr><td>100009</td><td>노상수</td><td>전북 군산시    </td><td>547-2984</td><td>1981-01-30</td><td>741025-1441282</td><td>공무원</td><td>0</td><td>1</td></tr>\n",
       "\t<tr><td>100010</td><td>이민석</td><td>경기도 수원시  </td><td>354-2723</td><td>1972-08-02</td><td>720802-1481395</td><td>회사원</td><td>0</td><td>1</td></tr>\n",
       "\t<tr><td>100011</td><td>정영미</td><td>서울시 관악구  </td><td>272-6745</td><td>1974-09-21</td><td>740921-2782216</td><td>주부  </td><td>1</td><td>1</td></tr>\n",
       "</tbody>\n",
       "</table>\n"
      ],
      "text/latex": [
       "A data.frame: 11 × 9\n",
       "\\begin{tabular}{lllllllll}\n",
       " CID & Name & Address & Tel & Bday & SID & Job & Sex & Married\\\\\n",
       " <int> & <chr> & <chr> & <chr> & <chr> & <chr> & <chr> & <int> & <int>\\\\\n",
       "\\hline\n",
       "\t 100001 & 김민주 & 서울시 광진구   & 423-8627 & 1975-07-01 & 750701-2534218 & 공무원 & 1 & 0\\\\\n",
       "\t 100002 & 정영미 & 경기도 수원시   & 321-4568 & 1977-02-01 & 770201-2834721 & 회사원 & 1 & 1\\\\\n",
       "\t 100003 & 최소영 & 제주도 서귀포시 & 624-2172 & 1980-01-25 & 800125-2432712 & 학생   & 1 & 0\\\\\n",
       "\t 100004 & 박진재 & 강원도 속초시   & 543-9467 & 1960-05-02 & 600502-1645394 & 공무원 & 0 & 1\\\\\n",
       "\t 100005 & 이순석 & 충남 보령시     & 254-9124 & 1982-06-01 & 820601-1543714 & 회사원 & 0 & 0\\\\\n",
       "\t 100006 & 박선희 & 서울시 강남구   & 459-2187 & 1975-04-05 & 801220-2487416 & 회사원 & 1 & 0\\\\\n",
       "\t 100007 & 김화연 & 경남 경주시     & 284-8147 & 1980-01-04 & 790221-2482217 & 학생   & 1 & 0\\\\\n",
       "\t 100008 & 박민선 & 부산시 해운대구 & 347-9124 & 1985-04-04 & 850527-2123827 & 학생   & 1 & 0\\\\\n",
       "\t 100009 & 노상수 & 전북 군산시     & 547-2984 & 1981-01-30 & 741025-1441282 & 공무원 & 0 & 1\\\\\n",
       "\t 100010 & 이민석 & 경기도 수원시   & 354-2723 & 1972-08-02 & 720802-1481395 & 회사원 & 0 & 1\\\\\n",
       "\t 100011 & 정영미 & 서울시 관악구   & 272-6745 & 1974-09-21 & 740921-2782216 & 주부   & 1 & 1\\\\\n",
       "\\end{tabular}\n"
      ],
      "text/markdown": [
       "\n",
       "A data.frame: 11 × 9\n",
       "\n",
       "| CID &lt;int&gt; | Name &lt;chr&gt; | Address &lt;chr&gt; | Tel &lt;chr&gt; | Bday &lt;chr&gt; | SID &lt;chr&gt; | Job &lt;chr&gt; | Sex &lt;int&gt; | Married &lt;int&gt; |\n",
       "|---|---|---|---|---|---|---|---|---|\n",
       "| 100001 | 김민주 | 서울시 광진구   | 423-8627 | 1975-07-01 | 750701-2534218 | 공무원 | 1 | 0 |\n",
       "| 100002 | 정영미 | 경기도 수원시   | 321-4568 | 1977-02-01 | 770201-2834721 | 회사원 | 1 | 1 |\n",
       "| 100003 | 최소영 | 제주도 서귀포시 | 624-2172 | 1980-01-25 | 800125-2432712 | 학생   | 1 | 0 |\n",
       "| 100004 | 박진재 | 강원도 속초시   | 543-9467 | 1960-05-02 | 600502-1645394 | 공무원 | 0 | 1 |\n",
       "| 100005 | 이순석 | 충남 보령시     | 254-9124 | 1982-06-01 | 820601-1543714 | 회사원 | 0 | 0 |\n",
       "| 100006 | 박선희 | 서울시 강남구   | 459-2187 | 1975-04-05 | 801220-2487416 | 회사원 | 1 | 0 |\n",
       "| 100007 | 김화연 | 경남 경주시     | 284-8147 | 1980-01-04 | 790221-2482217 | 학생   | 1 | 0 |\n",
       "| 100008 | 박민선 | 부산시 해운대구 | 347-9124 | 1985-04-04 | 850527-2123827 | 학생   | 1 | 0 |\n",
       "| 100009 | 노상수 | 전북 군산시     | 547-2984 | 1981-01-30 | 741025-1441282 | 공무원 | 0 | 1 |\n",
       "| 100010 | 이민석 | 경기도 수원시   | 354-2723 | 1972-08-02 | 720802-1481395 | 회사원 | 0 | 1 |\n",
       "| 100011 | 정영미 | 서울시 관악구   | 272-6745 | 1974-09-21 | 740921-2782216 | 주부   | 1 | 1 |\n",
       "\n"
      ],
      "text/plain": [
       "   CID    Name   Address         Tel      Bday       SID            Job    Sex\n",
       "1  100001 김민주 서울시 광진구   423-8627 1975-07-01 750701-2534218 공무원 1  \n",
       "2  100002 정영미 경기도 수원시   321-4568 1977-02-01 770201-2834721 회사원 1  \n",
       "3  100003 최소영 제주도 서귀포시 624-2172 1980-01-25 800125-2432712 학생   1  \n",
       "4  100004 박진재 강원도 속초시   543-9467 1960-05-02 600502-1645394 공무원 0  \n",
       "5  100005 이순석 충남 보령시     254-9124 1982-06-01 820601-1543714 회사원 0  \n",
       "6  100006 박선희 서울시 강남구   459-2187 1975-04-05 801220-2487416 회사원 1  \n",
       "7  100007 김화연 경남 경주시     284-8147 1980-01-04 790221-2482217 학생   1  \n",
       "8  100008 박민선 부산시 해운대구 347-9124 1985-04-04 850527-2123827 학생   1  \n",
       "9  100009 노상수 전북 군산시     547-2984 1981-01-30 741025-1441282 공무원 0  \n",
       "10 100010 이민석 경기도 수원시   354-2723 1972-08-02 720802-1481395 회사원 0  \n",
       "11 100011 정영미 서울시 관악구   272-6745 1974-09-21 740921-2782216 주부   1  \n",
       "   Married\n",
       "1  0      \n",
       "2  1      \n",
       "3  0      \n",
       "4  1      \n",
       "5  0      \n",
       "6  0      \n",
       "7  0      \n",
       "8  0      \n",
       "9  1      \n",
       "10 1      \n",
       "11 1      "
      ]
     },
     "metadata": {},
     "output_type": "display_data"
    }
   ],
   "source": [
    "# Customer 데이터베이스 연결\n",
    "conn = dbConnect(SQLite(), dbname = \"c:/RSQL/Customer.sqlite\")\n",
    "\n",
    "# Customer 데이터베이스 안에 있는 테이블 리스트 확인하기\n",
    "dbListTables(conn)\n",
    "\n",
    "# CSV 화일의 데이터를 Customer_Info 테이블에 삽입하기\n",
    "customer_data = read.csv('customer_data.csv')\n",
    "dbWriteTable(conn = conn, name = \"Customer_Info\", customer_data, overwrite=T, row.names=FALSE)\n",
    "\n",
    "# Customer_Info 테이블에 있는 데이터 확인하기\n",
    "dbReadTable(conn, \"Customer_Info\")"
   ]
  },
  {
   "cell_type": "markdown",
   "id": "8c4371b0-de47-49ad-8119-a5a0991a329e",
   "metadata": {},
   "source": [
    "- 혹은 아래와 같이 확인할 수 있다. "
   ]
  },
  {
   "cell_type": "code",
   "execution_count": 35,
   "id": "ee7c7090-20cb-4321-a62d-d93a9809d0cd",
   "metadata": {},
   "outputs": [
    {
     "data": {
      "text/html": [
       "<table class=\"dataframe\">\n",
       "<caption>A data.frame: 11 × 9</caption>\n",
       "<thead>\n",
       "\t<tr><th scope=col>CID</th><th scope=col>Name</th><th scope=col>Address</th><th scope=col>Tel</th><th scope=col>Bday</th><th scope=col>SID</th><th scope=col>Job</th><th scope=col>Sex</th><th scope=col>Married</th></tr>\n",
       "\t<tr><th scope=col>&lt;int&gt;</th><th scope=col>&lt;chr&gt;</th><th scope=col>&lt;chr&gt;</th><th scope=col>&lt;chr&gt;</th><th scope=col>&lt;chr&gt;</th><th scope=col>&lt;chr&gt;</th><th scope=col>&lt;chr&gt;</th><th scope=col>&lt;int&gt;</th><th scope=col>&lt;int&gt;</th></tr>\n",
       "</thead>\n",
       "<tbody>\n",
       "\t<tr><td>100001</td><td>김민주</td><td>서울시 광진구  </td><td>423-8627</td><td>1975-07-01</td><td>750701-2534218</td><td>공무원</td><td>1</td><td>0</td></tr>\n",
       "\t<tr><td>100002</td><td>정영미</td><td>경기도 수원시  </td><td>321-4568</td><td>1977-02-01</td><td>770201-2834721</td><td>회사원</td><td>1</td><td>1</td></tr>\n",
       "\t<tr><td>100003</td><td>최소영</td><td>제주도 서귀포시</td><td>624-2172</td><td>1980-01-25</td><td>800125-2432712</td><td>학생  </td><td>1</td><td>0</td></tr>\n",
       "\t<tr><td>100004</td><td>박진재</td><td>강원도 속초시  </td><td>543-9467</td><td>1960-05-02</td><td>600502-1645394</td><td>공무원</td><td>0</td><td>1</td></tr>\n",
       "\t<tr><td>100005</td><td>이순석</td><td>충남 보령시    </td><td>254-9124</td><td>1982-06-01</td><td>820601-1543714</td><td>회사원</td><td>0</td><td>0</td></tr>\n",
       "\t<tr><td>100006</td><td>박선희</td><td>서울시 강남구  </td><td>459-2187</td><td>1975-04-05</td><td>801220-2487416</td><td>회사원</td><td>1</td><td>0</td></tr>\n",
       "\t<tr><td>100007</td><td>김화연</td><td>경남 경주시    </td><td>284-8147</td><td>1980-01-04</td><td>790221-2482217</td><td>학생  </td><td>1</td><td>0</td></tr>\n",
       "\t<tr><td>100008</td><td>박민선</td><td>부산시 해운대구</td><td>347-9124</td><td>1985-04-04</td><td>850527-2123827</td><td>학생  </td><td>1</td><td>0</td></tr>\n",
       "\t<tr><td>100009</td><td>노상수</td><td>전북 군산시    </td><td>547-2984</td><td>1981-01-30</td><td>741025-1441282</td><td>공무원</td><td>0</td><td>1</td></tr>\n",
       "\t<tr><td>100010</td><td>이민석</td><td>경기도 수원시  </td><td>354-2723</td><td>1972-08-02</td><td>720802-1481395</td><td>회사원</td><td>0</td><td>1</td></tr>\n",
       "\t<tr><td>100011</td><td>정영미</td><td>서울시 관악구  </td><td>272-6745</td><td>1974-09-21</td><td>740921-2782216</td><td>주부  </td><td>1</td><td>1</td></tr>\n",
       "</tbody>\n",
       "</table>\n"
      ],
      "text/latex": [
       "A data.frame: 11 × 9\n",
       "\\begin{tabular}{lllllllll}\n",
       " CID & Name & Address & Tel & Bday & SID & Job & Sex & Married\\\\\n",
       " <int> & <chr> & <chr> & <chr> & <chr> & <chr> & <chr> & <int> & <int>\\\\\n",
       "\\hline\n",
       "\t 100001 & 김민주 & 서울시 광진구   & 423-8627 & 1975-07-01 & 750701-2534218 & 공무원 & 1 & 0\\\\\n",
       "\t 100002 & 정영미 & 경기도 수원시   & 321-4568 & 1977-02-01 & 770201-2834721 & 회사원 & 1 & 1\\\\\n",
       "\t 100003 & 최소영 & 제주도 서귀포시 & 624-2172 & 1980-01-25 & 800125-2432712 & 학생   & 1 & 0\\\\\n",
       "\t 100004 & 박진재 & 강원도 속초시   & 543-9467 & 1960-05-02 & 600502-1645394 & 공무원 & 0 & 1\\\\\n",
       "\t 100005 & 이순석 & 충남 보령시     & 254-9124 & 1982-06-01 & 820601-1543714 & 회사원 & 0 & 0\\\\\n",
       "\t 100006 & 박선희 & 서울시 강남구   & 459-2187 & 1975-04-05 & 801220-2487416 & 회사원 & 1 & 0\\\\\n",
       "\t 100007 & 김화연 & 경남 경주시     & 284-8147 & 1980-01-04 & 790221-2482217 & 학생   & 1 & 0\\\\\n",
       "\t 100008 & 박민선 & 부산시 해운대구 & 347-9124 & 1985-04-04 & 850527-2123827 & 학생   & 1 & 0\\\\\n",
       "\t 100009 & 노상수 & 전북 군산시     & 547-2984 & 1981-01-30 & 741025-1441282 & 공무원 & 0 & 1\\\\\n",
       "\t 100010 & 이민석 & 경기도 수원시   & 354-2723 & 1972-08-02 & 720802-1481395 & 회사원 & 0 & 1\\\\\n",
       "\t 100011 & 정영미 & 서울시 관악구   & 272-6745 & 1974-09-21 & 740921-2782216 & 주부   & 1 & 1\\\\\n",
       "\\end{tabular}\n"
      ],
      "text/markdown": [
       "\n",
       "A data.frame: 11 × 9\n",
       "\n",
       "| CID &lt;int&gt; | Name &lt;chr&gt; | Address &lt;chr&gt; | Tel &lt;chr&gt; | Bday &lt;chr&gt; | SID &lt;chr&gt; | Job &lt;chr&gt; | Sex &lt;int&gt; | Married &lt;int&gt; |\n",
       "|---|---|---|---|---|---|---|---|---|\n",
       "| 100001 | 김민주 | 서울시 광진구   | 423-8627 | 1975-07-01 | 750701-2534218 | 공무원 | 1 | 0 |\n",
       "| 100002 | 정영미 | 경기도 수원시   | 321-4568 | 1977-02-01 | 770201-2834721 | 회사원 | 1 | 1 |\n",
       "| 100003 | 최소영 | 제주도 서귀포시 | 624-2172 | 1980-01-25 | 800125-2432712 | 학생   | 1 | 0 |\n",
       "| 100004 | 박진재 | 강원도 속초시   | 543-9467 | 1960-05-02 | 600502-1645394 | 공무원 | 0 | 1 |\n",
       "| 100005 | 이순석 | 충남 보령시     | 254-9124 | 1982-06-01 | 820601-1543714 | 회사원 | 0 | 0 |\n",
       "| 100006 | 박선희 | 서울시 강남구   | 459-2187 | 1975-04-05 | 801220-2487416 | 회사원 | 1 | 0 |\n",
       "| 100007 | 김화연 | 경남 경주시     | 284-8147 | 1980-01-04 | 790221-2482217 | 학생   | 1 | 0 |\n",
       "| 100008 | 박민선 | 부산시 해운대구 | 347-9124 | 1985-04-04 | 850527-2123827 | 학생   | 1 | 0 |\n",
       "| 100009 | 노상수 | 전북 군산시     | 547-2984 | 1981-01-30 | 741025-1441282 | 공무원 | 0 | 1 |\n",
       "| 100010 | 이민석 | 경기도 수원시   | 354-2723 | 1972-08-02 | 720802-1481395 | 회사원 | 0 | 1 |\n",
       "| 100011 | 정영미 | 서울시 관악구   | 272-6745 | 1974-09-21 | 740921-2782216 | 주부   | 1 | 1 |\n",
       "\n"
      ],
      "text/plain": [
       "   CID    Name   Address         Tel      Bday       SID            Job    Sex\n",
       "1  100001 김민주 서울시 광진구   423-8627 1975-07-01 750701-2534218 공무원 1  \n",
       "2  100002 정영미 경기도 수원시   321-4568 1977-02-01 770201-2834721 회사원 1  \n",
       "3  100003 최소영 제주도 서귀포시 624-2172 1980-01-25 800125-2432712 학생   1  \n",
       "4  100004 박진재 강원도 속초시   543-9467 1960-05-02 600502-1645394 공무원 0  \n",
       "5  100005 이순석 충남 보령시     254-9124 1982-06-01 820601-1543714 회사원 0  \n",
       "6  100006 박선희 서울시 강남구   459-2187 1975-04-05 801220-2487416 회사원 1  \n",
       "7  100007 김화연 경남 경주시     284-8147 1980-01-04 790221-2482217 학생   1  \n",
       "8  100008 박민선 부산시 해운대구 347-9124 1985-04-04 850527-2123827 학생   1  \n",
       "9  100009 노상수 전북 군산시     547-2984 1981-01-30 741025-1441282 공무원 0  \n",
       "10 100010 이민석 경기도 수원시   354-2723 1972-08-02 720802-1481395 회사원 0  \n",
       "11 100011 정영미 서울시 관악구   272-6745 1974-09-21 740921-2782216 주부   1  \n",
       "   Married\n",
       "1  0      \n",
       "2  1      \n",
       "3  0      \n",
       "4  1      \n",
       "5  0      \n",
       "6  0      \n",
       "7  0      \n",
       "8  0      \n",
       "9  1      \n",
       "10 1      \n",
       "11 1      "
      ]
     },
     "metadata": {},
     "output_type": "display_data"
    }
   ],
   "source": [
    "dbGetQuery(conn, \"SELECT * FROM Customer_Info \")\n",
    "# 귀찮으니 dbReadTable로 처리하자"
   ]
  },
  {
   "cell_type": "code",
   "execution_count": 36,
   "id": "12439a01-a4ba-4c17-8eca-a6de766e611f",
   "metadata": {},
   "outputs": [
    {
     "data": {
      "text/html": [
       "<table class=\"dataframe\">\n",
       "<caption>A data.frame: 22 × 4</caption>\n",
       "<thead>\n",
       "\t<tr><th scope=col>CID</th><th scope=col>Year</th><th scope=col>On_Score</th><th scope=col>Off_Score</th></tr>\n",
       "\t<tr><th scope=col>&lt;int&gt;</th><th scope=col>&lt;int&gt;</th><th scope=col>&lt;int&gt;</th><th scope=col>&lt;int&gt;</th></tr>\n",
       "</thead>\n",
       "<tbody>\n",
       "\t<tr><td>100001</td><td>2012</td><td> 42</td><td>111</td></tr>\n",
       "\t<tr><td>100002</td><td>2012</td><td> 12</td><td> 30</td></tr>\n",
       "\t<tr><td>100003</td><td>2012</td><td> 86</td><td>128</td></tr>\n",
       "\t<tr><td>100004</td><td>2012</td><td>  0</td><td> 87</td></tr>\n",
       "\t<tr><td>100005</td><td>2012</td><td>122</td><td> 56</td></tr>\n",
       "\t<tr><td>100006</td><td>2012</td><td> 98</td><td> 17</td></tr>\n",
       "\t<tr><td>100007</td><td>2012</td><td>  0</td><td>  0</td></tr>\n",
       "\t<tr><td>100008</td><td>2012</td><td> 56</td><td>172</td></tr>\n",
       "\t<tr><td>100009</td><td>2012</td><td> 24</td><td> 45</td></tr>\n",
       "\t<tr><td>100010</td><td>2012</td><td>  0</td><td> 21</td></tr>\n",
       "\t<tr><td>100011</td><td>2012</td><td>  0</td><td> 39</td></tr>\n",
       "\t<tr><td>100001</td><td>2013</td><td> 58</td><td> 89</td></tr>\n",
       "\t<tr><td>100002</td><td>2013</td><td> 98</td><td> 40</td></tr>\n",
       "\t<tr><td>100003</td><td>2013</td><td>402</td><td>128</td></tr>\n",
       "\t<tr><td>100004</td><td>2013</td><td>  0</td><td> 74</td></tr>\n",
       "\t<tr><td>100005</td><td>2013</td><td>356</td><td>132</td></tr>\n",
       "\t<tr><td>100006</td><td>2013</td><td> 66</td><td> 12</td></tr>\n",
       "\t<tr><td>100007</td><td>2013</td><td>  0</td><td>  5</td></tr>\n",
       "\t<tr><td>100008</td><td>2013</td><td> 44</td><td> 98</td></tr>\n",
       "\t<tr><td>100009</td><td>2013</td><td>  2</td><td>  6</td></tr>\n",
       "\t<tr><td>100010</td><td>2013</td><td>  0</td><td>  0</td></tr>\n",
       "\t<tr><td>100011</td><td>2013</td><td>  0</td><td> 48</td></tr>\n",
       "</tbody>\n",
       "</table>\n"
      ],
      "text/latex": [
       "A data.frame: 22 × 4\n",
       "\\begin{tabular}{llll}\n",
       " CID & Year & On\\_Score & Off\\_Score\\\\\n",
       " <int> & <int> & <int> & <int>\\\\\n",
       "\\hline\n",
       "\t 100001 & 2012 &  42 & 111\\\\\n",
       "\t 100002 & 2012 &  12 &  30\\\\\n",
       "\t 100003 & 2012 &  86 & 128\\\\\n",
       "\t 100004 & 2012 &   0 &  87\\\\\n",
       "\t 100005 & 2012 & 122 &  56\\\\\n",
       "\t 100006 & 2012 &  98 &  17\\\\\n",
       "\t 100007 & 2012 &   0 &   0\\\\\n",
       "\t 100008 & 2012 &  56 & 172\\\\\n",
       "\t 100009 & 2012 &  24 &  45\\\\\n",
       "\t 100010 & 2012 &   0 &  21\\\\\n",
       "\t 100011 & 2012 &   0 &  39\\\\\n",
       "\t 100001 & 2013 &  58 &  89\\\\\n",
       "\t 100002 & 2013 &  98 &  40\\\\\n",
       "\t 100003 & 2013 & 402 & 128\\\\\n",
       "\t 100004 & 2013 &   0 &  74\\\\\n",
       "\t 100005 & 2013 & 356 & 132\\\\\n",
       "\t 100006 & 2013 &  66 &  12\\\\\n",
       "\t 100007 & 2013 &   0 &   5\\\\\n",
       "\t 100008 & 2013 &  44 &  98\\\\\n",
       "\t 100009 & 2013 &   2 &   6\\\\\n",
       "\t 100010 & 2013 &   0 &   0\\\\\n",
       "\t 100011 & 2013 &   0 &  48\\\\\n",
       "\\end{tabular}\n"
      ],
      "text/markdown": [
       "\n",
       "A data.frame: 22 × 4\n",
       "\n",
       "| CID &lt;int&gt; | Year &lt;int&gt; | On_Score &lt;int&gt; | Off_Score &lt;int&gt; |\n",
       "|---|---|---|---|\n",
       "| 100001 | 2012 |  42 | 111 |\n",
       "| 100002 | 2012 |  12 |  30 |\n",
       "| 100003 | 2012 |  86 | 128 |\n",
       "| 100004 | 2012 |   0 |  87 |\n",
       "| 100005 | 2012 | 122 |  56 |\n",
       "| 100006 | 2012 |  98 |  17 |\n",
       "| 100007 | 2012 |   0 |   0 |\n",
       "| 100008 | 2012 |  56 | 172 |\n",
       "| 100009 | 2012 |  24 |  45 |\n",
       "| 100010 | 2012 |   0 |  21 |\n",
       "| 100011 | 2012 |   0 |  39 |\n",
       "| 100001 | 2013 |  58 |  89 |\n",
       "| 100002 | 2013 |  98 |  40 |\n",
       "| 100003 | 2013 | 402 | 128 |\n",
       "| 100004 | 2013 |   0 |  74 |\n",
       "| 100005 | 2013 | 356 | 132 |\n",
       "| 100006 | 2013 |  66 |  12 |\n",
       "| 100007 | 2013 |   0 |   5 |\n",
       "| 100008 | 2013 |  44 |  98 |\n",
       "| 100009 | 2013 |   2 |   6 |\n",
       "| 100010 | 2013 |   0 |   0 |\n",
       "| 100011 | 2013 |   0 |  48 |\n",
       "\n"
      ],
      "text/plain": [
       "   CID    Year On_Score Off_Score\n",
       "1  100001 2012  42      111      \n",
       "2  100002 2012  12       30      \n",
       "3  100003 2012  86      128      \n",
       "4  100004 2012   0       87      \n",
       "5  100005 2012 122       56      \n",
       "6  100006 2012  98       17      \n",
       "7  100007 2012   0        0      \n",
       "8  100008 2012  56      172      \n",
       "9  100009 2012  24       45      \n",
       "10 100010 2012   0       21      \n",
       "11 100011 2012   0       39      \n",
       "12 100001 2013  58       89      \n",
       "13 100002 2013  98       40      \n",
       "14 100003 2013 402      128      \n",
       "15 100004 2013   0       74      \n",
       "16 100005 2013 356      132      \n",
       "17 100006 2013  66       12      \n",
       "18 100007 2013   0        5      \n",
       "19 100008 2013  44       98      \n",
       "20 100009 2013   2        6      \n",
       "21 100010 2013   0        0      \n",
       "22 100011 2013   0       48      "
      ]
     },
     "metadata": {},
     "output_type": "display_data"
    }
   ],
   "source": [
    "customer_score = read.csv('customer_score.csv')\n",
    "dbWriteTable(conn = conn, name = \"Customer_Score\", customer_score,overwrite=T, row.names=FALSE)\n",
    "\n",
    "# Customer_Score 테이블에 있는 데이터 확인하기\n",
    "dbReadTable(conn, \"Customer_Score\")"
   ]
  },
  {
   "cell_type": "code",
   "execution_count": null,
   "id": "7bc7705c-69c6-420d-8b01-ddf7d04f5bec",
   "metadata": {},
   "outputs": [],
   "source": []
  }
 ],
 "metadata": {
  "kernelspec": {
   "display_name": "R",
   "language": "R",
   "name": "ir"
  },
  "language_info": {
   "codemirror_mode": "r",
   "file_extension": ".r",
   "mimetype": "text/x-r-source",
   "name": "R",
   "pygments_lexer": "r",
   "version": "4.0.5"
  }
 },
 "nbformat": 4,
 "nbformat_minor": 5
}
