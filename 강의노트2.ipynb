{
 "cells": [
  {
   "cell_type": "markdown",
   "id": "e7545f91-2afd-4c0e-ac4b-089d5150372b",
   "metadata": {},
   "source": [
    "- 만약 해당 변수를 바로 table 만들면 범주가 너무 많아서 원하는 결과를 얻을 수 없음\n",
    "- 따라서 묶어서 자르자\n",
    "  - 그 개념이 table 안에서 cut을 설정해주는 것."
   ]
  },
  {
   "cell_type": "code",
   "execution_count": 7,
   "id": "469c1150-d945-4542-b83e-9172e213dcf1",
   "metadata": {},
   "outputs": [
    {
     "data": {
      "text/plain": [
       "\n",
       "(0.359,8.58]  (8.58,16.8]  (16.8,24.9]  (24.9,33.1]  (33.1,41.3] \n",
       "         347          237           88           23            5 "
      ]
     },
     "metadata": {},
     "output_type": "display_data"
    }
   ],
   "source": [
    "table(cut(ds$co, breaks=5))"
   ]
  },
  {
   "cell_type": "markdown",
   "id": "e99fb492-cf1e-46de-be2c-8f5c852aa9a7",
   "metadata": {},
   "source": [
    "```r\n",
    "ds = read.csv(\"buy.csv\", header=T)\n",
    "\n",
    "### 가장 기본적인 함수\n",
    "plot(ds\\$income, ds\\$exp) \n",
    "\n",
    "### 자주 쓰는 함수\n",
    "hist(ds\\$income)\n",
    "barplot(ds\\$buy)\n",
    "#원하는 형태 아님\n",
    "#그냥 hist로 그리는 게 나을 것 같음\n",
    "#아니면 table 생성하고 그리자!\n",
    "\n",
    "pie(ds\\$co)\t\t#연속형 변수\n",
    "\n",
    "barplot(table(ds\\$buy))\n",
    "hist(ds\\$buy)\n",
    "pie(table(cut(ds\\$co, breaks=5)))\n",
    "\n",
    "\n",
    "\n",
    "\n",
    "ds\\$year = as.factor(ds\\$year) # 범주형 변수로 생성한다.\n",
    "ds\\$age = as.factor(ds\\$age)\n",
    "# 모자이크 플랏\n",
    "# 도형을 교차표의 행 빈도에 비례하는 직사각 도형으로 나누어 줍니다\n",
    "mosaicplot(table(ds\\$year, ds\\$age), color=TRUE, cex=1.2)\n",
    "# table 이용하려면 factor 변수로 변경해주어야 하나 봄\n",
    "\n",
    "\n",
    "\n",
    "\n",
    "# 산점도로 이루어진 행렬 그리기\n",
    "ds\\$year = as.factor(ds\\$year)\n",
    "pairs(ds[6:10], main = \"Income Data (3 years)\", \n",
    "   pch = 21, bg = c(\"red\", \"green3\", \n",
    "   \"blue\")[ds\\$year])\n",
    "# bg나 col이나 색 관련 인자\n",
    "pairs(ds[6:10], main = \"Income Data (3 years)\", \n",
    "   pch = 21, col = c(\"red\", \"green3\", \n",
    "   \"blue\")[ds\\$year])\n",
    "\n",
    "### 2개의 범주형 변수를 이용한 막대그래프\n",
    "### 예: 교육수준별 연령대의 분포\n",
    "ds\\$age = as.factor(ds\\$age)\n",
    "ds\\$edu = as.factor(ds\\$edu)\n",
    "bartable = table(ds\\$age, ds\\$edu)  # get cross tab\n",
    "# python에서는 pd.crosstab으로 가능\n",
    "\n",
    "barplot(bartable, legend = levels(unique(ds\\$age)))\n",
    "# legend는 범례표현\n",
    "\n",
    "barplot(bartable, beside = TRUE, \n",
    "   legend = levels(unique(ds$age)))\n",
    "# beside -> TRUE를 지정하면 각각의 값마다 막대를 그림 \n",
    "\n",
    "\n",
    "```"
   ]
  },
  {
   "cell_type": "code",
   "execution_count": 19,
   "id": "79242910-ab0b-40b3-a76e-32581bcfb970",
   "metadata": {},
   "outputs": [
    {
     "data": {
      "text/html": [
       "<style>\n",
       ".list-inline {list-style: none; margin:0; padding: 0}\n",
       ".list-inline>li {display: inline-block}\n",
       ".list-inline>li:not(:last-child)::after {content: \"\\00b7\"; padding: 0 .5ex}\n",
       "</style>\n",
       "<ol class=list-inline><li>5</li><li>4</li><li>3</li><li>2</li></ol>\n",
       "\n",
       "<details>\n",
       "\t<summary style=display:list-item;cursor:pointer>\n",
       "\t\t<strong>Levels</strong>:\n",
       "\t</summary>\n",
       "\t<style>\n",
       "\t.list-inline {list-style: none; margin:0; padding: 0}\n",
       "\t.list-inline>li {display: inline-block}\n",
       "\t.list-inline>li:not(:last-child)::after {content: \"\\00b7\"; padding: 0 .5ex}\n",
       "\t</style>\n",
       "\t<ol class=list-inline><li>'2'</li><li>'3'</li><li>'4'</li><li>'5'</li></ol>\n",
       "</details>"
      ],
      "text/latex": [
       "\\begin{enumerate*}\n",
       "\\item 5\n",
       "\\item 4\n",
       "\\item 3\n",
       "\\item 2\n",
       "\\end{enumerate*}\n",
       "\n",
       "\\emph{Levels}: \\begin{enumerate*}\n",
       "\\item '2'\n",
       "\\item '3'\n",
       "\\item '4'\n",
       "\\item '5'\n",
       "\\end{enumerate*}\n"
      ],
      "text/markdown": [
       "1. 5\n",
       "2. 4\n",
       "3. 3\n",
       "4. 2\n",
       "\n",
       "\n",
       "\n",
       "**Levels**: 1. '2'\n",
       "2. '3'\n",
       "3. '4'\n",
       "4. '5'\n",
       "\n",
       "\n"
      ],
      "text/plain": [
       "[1] 5 4 3 2\n",
       "Levels: 2 3 4 5"
      ]
     },
     "metadata": {},
     "output_type": "display_data"
    }
   ],
   "source": [
    "unique(ds$age)\n",
    "# 아래 levels 눌러보기"
   ]
  },
  {
   "cell_type": "code",
   "execution_count": 13,
   "id": "e26ef0a9-2b37-462a-bde1-fc77482059fe",
   "metadata": {},
   "outputs": [
    {
     "data": {
      "text/html": [
       "<style>\n",
       ".list-inline {list-style: none; margin:0; padding: 0}\n",
       ".list-inline>li {display: inline-block}\n",
       ".list-inline>li:not(:last-child)::after {content: \"\\00b7\"; padding: 0 .5ex}\n",
       "</style>\n",
       "<ol class=list-inline><li>'2'</li><li>'3'</li><li>'4'</li><li>'5'</li></ol>\n"
      ],
      "text/latex": [
       "\\begin{enumerate*}\n",
       "\\item '2'\n",
       "\\item '3'\n",
       "\\item '4'\n",
       "\\item '5'\n",
       "\\end{enumerate*}\n"
      ],
      "text/markdown": [
       "1. '2'\n",
       "2. '3'\n",
       "3. '4'\n",
       "4. '5'\n",
       "\n",
       "\n"
      ],
      "text/plain": [
       "[1] \"2\" \"3\" \"4\" \"5\""
      ]
     },
     "metadata": {},
     "output_type": "display_data"
    }
   ],
   "source": [
    "levels(unique(ds$age))"
   ]
  },
  {
   "cell_type": "markdown",
   "id": "bda51106-b5bb-4a17-b575-b8b9f95f8d1f",
   "metadata": {},
   "source": [
    "```python\n",
    "import matplotlib.pyplot as plt\n",
    "ds = pd.read_csv('buy.csv', header=0, sep=\",\")\n",
    "\n",
    "# 가장 기본적인 함수\n",
    "plt.scatter(ds.income, ds.exp)\n",
    "\n",
    "# 자주 쓰는 함수\n",
    "plt.hist(ds.income)\n",
    "\n",
    "x = np.arange(len(ds.income))\n",
    "plt.bar(x, ds.buy) #원하는 형태 아님\n",
    "# buy는 이진 분류라 barplot으로 사용하긴 좀 그럼\n",
    "plt.pie(ds.co)\t  #연속형 변수\n",
    "\n",
    "x = ds['buy'].value_counts()\n",
    "plt.bar(x.index, x.values)\n",
    "# 이진분류를 barplot으로 사용하려면\n",
    "# 이렇게 r에서의 table처럼 사용해야함\n",
    "\n",
    "\n",
    "# r에서의 table\n",
    "x = pd.crosstab(index=ds['buy'],columns='count')\n",
    "plt.bar(x.index, x['count'])\n",
    "\n",
    "\n",
    "\n",
    "# pd.cut(ds.co,bins=5) : Series로 반환됨\n",
    "x=pd.crosstab(index=pd.cut(ds.co,bins=5),columns='count')\n",
    "labels = ['A', 'B', 'C', 'D', 'E']\n",
    "plt.pie(x['count'], labels=labels, \n",
    "   autopct='%.1f%%')\n",
    "# autopct : 부채꼴 안에 표시될 숫자의 형식\n",
    "# 소수점 아래 한자리까지 표현\n",
    "\n",
    "from statsmodels.graphics.mosaicplot import mosaic\n",
    "ds['year'].astype('category')\n",
    "ds['age'].astype('category')\n",
    "mosaic(ds, ['year', 'age'], gap=0.01)\n",
    "# gap은 그냥 ..각 범주간의 간격임\n",
    "# 한 box안에서 연속되게 표현하려면 gap이 적은 게 좋음\n",
    "\n",
    "# 산점도로 이루어진 행렬\n",
    "import seaborn as sns\n",
    "sns.pairplot(ds.iloc[:, 5:9], diag_kind='hist')\n",
    "# diag_kind='hist' : 대각행렬은 hist로 표현\n",
    "\n",
    "ds['year'].astype('category')\n",
    "sns.pairplot(ds, diag_kind='hist', hue='year', vars=['income', 'exp', 'co', 'ad', 'prod'])   \n",
    "\n",
    "# 2개의 범주형 변수를 이용한 막대그래프\n",
    "# 예: 교육수준별 연령대의 분포\n",
    "bartable = pd.crosstab(ds.edu, ds.age)  ## get the cross tab\n",
    "bartable.plot.bar(stacked=True, rot=5)\n",
    "bartable.plot.bar(stacked=False, rot=0) \n",
    "# stacked -> 쌓아서 표현\n",
    "# rot -> x축 라벨 기울이는 정도\n",
    "\n",
    "\n",
    "\n",
    "\n",
    "```"
   ]
  },
  {
   "cell_type": "markdown",
   "id": "2905adee-8b4b-4ef1-aca5-78b306cfe2ee",
   "metadata": {},
   "source": [
    "---"
   ]
  },
  {
   "cell_type": "markdown",
   "id": "372a070c-2a90-4aa5-98a4-85d93d0635f1",
   "metadata": {},
   "source": [
    "---"
   ]
  },
  {
   "cell_type": "markdown",
   "id": "4b6f3910-359d-4c3f-b762-c1c89829e354",
   "metadata": {},
   "source": [
    "---"
   ]
  },
  {
   "cell_type": "markdown",
   "id": "a345ad3f-56b9-4111-8341-5fe9771d2821",
   "metadata": {},
   "source": [
    "---"
   ]
  },
  {
   "cell_type": "markdown",
   "id": "cdde6a80-b466-4e69-a795-4670a5adc1df",
   "metadata": {},
   "source": [
    "```r\n",
    "plot(ds\\$income, ds\\$exp, main=\"Scatter plot\", xlab=\"Income\", ylab=\"Expense\", xlim=c(0, 40000), ylim=c(0, 30000), type=\"p\", pch=20, cex=2, col=\"red\") \n",
    "\n",
    "# pch = 점의 형태\n",
    "# cex = 점의 크기\n",
    "\n",
    "```"
   ]
  },
  {
   "cell_type": "markdown",
   "id": "608bc90a-5904-4097-8d72-de6971b65c2b",
   "metadata": {},
   "source": [
    "```python\n",
    "plt.scatter(ds.income, ds.exp, alpha=0.2, \n",
    "            marker = '.', # marker\n",
    "            s=200*ds.edu, # marker size\n",
    "            # 사이즈로 edu도 표현\n",
    "            c=ds.age) # marker color\n",
    "\n",
    "# income, exp, edu, age 4차원 그래프\n",
    "plt.title(\"Scatter plot\")\n",
    "plt.xlabel(\"Income\")\n",
    "plt.ylabel(\"Expense\")\n",
    "plt.xlim(0, 40000)\n",
    "plt.ylim(0, 30000)\n",
    "\n",
    "\n",
    "```"
   ]
  },
  {
   "cell_type": "markdown",
   "id": "c2c7adbe-14c1-4a39-81f6-eac60bfc8fa4",
   "metadata": {},
   "source": [
    "---"
   ]
  },
  {
   "cell_type": "markdown",
   "id": "384d0055-e3a2-4415-8ea9-922556a7670e",
   "metadata": {},
   "source": [
    "---"
   ]
  },
  {
   "cell_type": "markdown",
   "id": "55103c46-2909-4a65-b1af-1f1adcab1319",
   "metadata": {},
   "source": [
    "---"
   ]
  },
  {
   "cell_type": "code",
   "execution_count": 37,
   "id": "e4eda773-3f8e-40e0-8b11-bd1964feb8c1",
   "metadata": {},
   "outputs": [
    {
     "data": {
      "image/png": "[encoded data removed]",
      "text/plain": [
       "Plot with title \"Scatter plot\""
      ]
     },
     "metadata": {
      "image/png": {
       "height": 420,
       "width": 420
      }
     },
     "output_type": "display_data"
    }
   ],
   "source": [
    "plot(ds$income, ds$exp, main=\"Scatter plot\", xlab=\"Income\", ylab=\"Expense\", xlim=c(0, 40000), ylim=c(0, 25000), type=\"p\", pch=20, cex=1, col=ds$edu, font=4)"
   ]
  },
  {
   "cell_type": "code",
   "execution_count": 42,
   "id": "74e76d25-7670-4a29-bf52-9d03678d5b5d",
   "metadata": {},
   "outputs": [
    {
     "data": {
      "image/png": "[encoded data removed]",
      "text/plain": [
       "Plot with title \"Scatter plot\""
      ]
     },
     "metadata": {
      "image/png": {
       "height": 420,
       "width": 420
      }
     },
     "output_type": "display_data"
    }
   ],
   "source": [
    "plot(ds$income, ds$exp, main=\"Scatter plot\", xlab=\"Income\", ylab=\"Expense\", xlim=c(0, 40000), ylim=c(0, 25000), type=\"p\", pch=20, cex=1, col=ds$edu, font=4)\n",
    "\n",
    "text(37000, 24000, \"r = 0.88\", font=4)\n",
    "\n",
    "arrows(34600, 6000, 34600, 10000, length=0.5, angle=50)\n",
    "text(35000, 5000, \"outlier?\", col=\"red\")\n",
    "\n",
    "legend(35000, 20000, legend=c(\"2013\", \"2014\", \"2015\"), col=c(\"red\", \"green3\", \"blue\"), pch=20)"
   ]
  },
  {
   "cell_type": "markdown",
   "id": "d95cdfb4-d8cd-4f18-8c2c-468b68321bb8",
   "metadata": {
    "jp-MarkdownHeadingCollapsed": true,
    "tags": []
   },
   "source": [
    "```r\n",
    "### 그래픽 파라미터(parameter) 지정 : par()\n",
    "\n",
    "### 다중 플롯 : mfrow (multiple figures by row), mfcol \n",
    "par(mfrow=c(2, 2)) # 총 4개의 그래프를 그릴 수 있음\n",
    "plot(ds\\$income, ds\\$exp) \n",
    "plot(ds\\$income, ds\\$co) \n",
    "plot(ds\\$income, ds\\$ad) \n",
    "plot(ds\\$income, ds\\$prod) \n",
    "\n",
    "### par()함수를 이용한 옵션 조정\n",
    "par(mfrow=c(1, 1))\n",
    "par(mfrow=c(2, 1), pch=20, cex=2)\n",
    "# 이건 너무 커서 안 그려짐\n",
    "# pch =10, cex = .5 정도가 적당\n",
    "plot(ds\\$income, ds\\$exp) \n",
    "plot(ds\\$income, ds\\$co)\n",
    "\n",
    "### 그래프에 text 및 화살표 추가\n",
    "plot(ds$income, ds$exp, main=\"Scatter plot\", xlab=\"Income\", ylab=\"Expense\", xlim=c(0, 40000), ylim=c(0, 25000), type=\"p\", pch=20, cex=1, col=ds$edu, font=4)\n",
    "\n",
    "text(37000, 24000, \"r = 0.88\", font=4)\n",
    "\n",
    "arrows(34600, 6000, 34600, 10000, length=0.1, angle=20)\n",
    "text(35000, 5000, \"outlier?\", col=\"red\")\n",
    "\n",
    "\n",
    "### 그래프에 대한 범례(legend) 작성\n",
    "legend(35000, 20000, legend=c(\"2013\", \"2014\", \"2015\"), col=c(\"red\", \"green3\", \"blue\"), pch=20)\n",
    "\n",
    "```"
   ]
  },
  {
   "cell_type": "markdown",
   "id": "91c0cc7d-9e72-4dec-9eaa-6878579d2291",
   "metadata": {},
   "source": [
    "---"
   ]
  },
  {
   "cell_type": "markdown",
   "id": "0118ae97-9544-489f-a881-9a3ba2a071ba",
   "metadata": {},
   "source": [
    "---"
   ]
  },
  {
   "cell_type": "markdown",
   "id": "198395eb-1b5f-4ccd-bddd-091d8c99a2ed",
   "metadata": {},
   "source": [
    "---"
   ]
  },
  {
   "cell_type": "markdown",
   "id": "376d251a-e21f-417e-ba42-6fb56fae01f7",
   "metadata": {},
   "source": [
    "---"
   ]
  },
  {
   "cell_type": "markdown",
   "id": "2ee65a03-8478-4dd4-bd4c-eb55e0c78da1",
   "metadata": {},
   "source": [
    "```python\n",
    "# 잠시 다른 얘기\n",
    "np.arange(0,4)\n",
    "np.arange(4)\n",
    "np.linspace(0,3,4)\n",
    "모두 동일한 결과를 반환한다\n",
    "\n",
    "### 다중 플롯\n",
    "x = np.linspace(0, 2 * np.pi, 400)\n",
    "y = np.sin(x ** 2)\n",
    "\n",
    "\n",
    "# 총 4개의 그림을 그릴 건데 좌상단부터 우상단\n",
    "# 좌하단 우하단 순으로 1,2,3,4 번호 매겨서 그릴 수 있음\n",
    "plt.subplot(2,2,1) \n",
    "plt.plot(x, y)\n",
    "plt.subplot(2,2,2)\n",
    "plt.plot(x, y**2)\n",
    "plt.subplot(2,2,3)\n",
    "plt.plot(x, -y)\n",
    "plt.subplot(2,2,4)\n",
    "plt.plot(x, -y**2)\n",
    "\n",
    "### 그래프에 text 및 화살표 추가\n",
    "\n",
    "groups = ds.groupby(\"year\")\n",
    "\n",
    "for name, group in groups:\n",
    "    plt.plot(group[\"income\"], group[\"exp\"], \n",
    "           marker=\"o\", linestyle=\"\", label=name)\n",
    "\n",
    "plt.legend()\n",
    "\n",
    "plt.annotate('outlier?', xy=(34600, 10000), \n",
    "   xytext=(32600, 5000), \n",
    "   arrowprops={'color':'red'})\n",
    "```"
   ]
  },
  {
   "cell_type": "markdown",
   "id": "7e7027b6-0b11-4706-a912-2b0201599a45",
   "metadata": {},
   "source": [
    "---"
   ]
  },
  {
   "cell_type": "markdown",
   "id": "59bc696c-546b-4961-aeef-7d59e14dbe94",
   "metadata": {},
   "source": [
    "---"
   ]
  },
  {
   "cell_type": "markdown",
   "id": "d41a6f75-1270-4265-9f19-d56c79bf898d",
   "metadata": {},
   "source": [
    "---"
   ]
  },
  {
   "cell_type": "markdown",
   "id": "e66d2948-7ec8-43cf-a39d-a9c612c115f7",
   "metadata": {},
   "source": [
    "---"
   ]
  },
  {
   "cell_type": "markdown",
   "id": "29b93a8e-93bd-4642-a5f9-e297290ace68",
   "metadata": {},
   "source": [
    "```r\n",
    "### Graph 1: Basic graph function\n",
    "hist(ds$income, breaks=30, col=\"red\")\n",
    "# breaks -> 범위 지정\n",
    "# 즉 30개의 범위로 나누겠다\n",
    "# 이 범위가 많아질수록 histogram의 형태는 더욱 세밀해질 것\n",
    "\n",
    "text(x=34000, y=50, col = \"blue\", label = \"Outliers\")\n",
    "arrows(34300, 45, 34300, 10, length=0.5) # 시점 , 종점\n",
    "text(x=10000, y=150, col = \"blue\", label = \"Most of the distribution is \n",
    "\tconcentrated at\")\n",
    "text(x=12000, y=137, col = \"blue\", label = \"the interval () ...\")\n",
    "\n",
    "\n",
    "### Graph 2: ggplot2 package\n",
    "### Graph 2: ggplot2 package\n",
    "library(ggplot2)\n",
    "\n",
    "ggplot(ds) +\n",
    "geom_histogram(aes(x=income),binwidth=1500, fill=\"red\") +\n",
    "annotate(\"text\", x=34000, y=50, col = \"blue\", label = \"Outliers\") +\n",
    "geom_segment(aes(x=34300, y=45, xend=34300, yend=10), colour='blue', size=1, arrow =arrow(length = unit(0.1, \"cm\"))) + \n",
    "annotate(\"text\", x = 10000, y=150,colour = \"blue\", label = \"Most of the distribution is concentrated at\") + \n",
    "annotate(\"text\", x = 12000, y=140, colour = \"blue\", label = \"the interval () ...\")\n",
    "\n",
    "# binwidth는 구간 범위임\n",
    "# 즉 해당 값이 커질 수록 막대개수는 줄어들 것이고\n",
    "# 해당 값이 작아질 수록 막대개수는 늘어날 것.```\n",
    "```"
   ]
  },
  {
   "cell_type": "markdown",
   "id": "f8c134e9-f2b2-4ded-a44b-b1a701152112",
   "metadata": {},
   "source": [
    "```python\n",
    "import pandas as pd\n",
    "ds = pd.read_csv('buy.csv', header=0, sep=\",\")\n",
    "\n",
    "import matplotlib.pyplot as plt\n",
    "from plotnine import *\n",
    "\n",
    "fig = plt.Figure()\n",
    "(ggplot(ds) + \n",
    "     aes(x=\"income\") +\n",
    "     geom_histogram(bins=10, fill=\"red\") +\n",
    "     annotate(\"text\", x=32000, y=100, color = \n",
    "                 \"blue\", label = \"Outliers\") +\n",
    "     geom_segment(aes(x=32300, y=85, \n",
    "            xend=32300, yend=10), color='blue', \n",
    "            size=1, arrow = arrow()) +\n",
    "     annotate(\"text\", x = 20000, y=350, colour = \n",
    "            \"blue\", label = \"Most of the \n",
    "               distribution is concentrated at\") + \n",
    "      annotate(\"text\", x = 22000, y=320, colour \n",
    "           = \"blue\", label = \"the interval () ...\")\n",
    ")\n",
    " \n",
    " \n",
    "혹은 아래와 같이 사용할 수 있다\n",
    "주의할 점은 R에서는 그냥 다음줄로 넘길 때 enter로 가능하지만\n",
    "파이썬에서는 그럼 인식을 못한다.\n",
    "-> 아예 전체를 괄호로 묶어서 처리하던지, 아니면 역슬래시를 이용해야한다\n",
    "  -> 추가 주의 : 역슬래시 다음엔 공백이 있으면 안 되고 바로 내려야 함\n",
    "\n",
    " \n",
    "import pandas as pd\n",
    "ds = pd.read_csv('buy.csv', header=0, sep=\",\")\n",
    "\n",
    "import matplotlib.pyplot as plt\n",
    "from plotnine import *\n",
    "\n",
    "fig = plt.Figure()\n",
    "ggplot(ds) + geom_histogram(aes(x=\"income\"),bins=10, fill=\"red\") +\\\n",
    "annotate(\"text\", x=32000, y=100, color = \"blue\", label = \"Outliers\") +\\\n",
    "geom_segment(aes(x=32300, y=85, xend=32300, yend=10), color='blue', size=1, arrow = arrow()) +\\\n",
    "annotate(\"text\", x = 20000, y=350, colour = \"blue\", label = \"Most of the distribution is concentrated at\") +\\\n",
    "annotate(\"text\", x = 22000, y=320, colour = \"blue\", label = \"the interval () ...\")\n",
    "```"
   ]
  }
 ],
 "metadata": {
  "kernelspec": {
   "display_name": "R",
   "language": "R",
   "name": "ir"
  },
  "language_info": {
   "codemirror_mode": "r",
   "file_extension": ".r",
   "mimetype": "text/x-r-source",
   "name": "R",
   "pygments_lexer": "r",
   "version": "4.0.5"
  }
 },
 "nbformat": 4,
 "nbformat_minor": 5
}
