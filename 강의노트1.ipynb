{
 "cells": [
  {
   "cell_type": "markdown",
   "id": "4732df10-67ce-4a34-aadc-c9566f6e11d1",
   "metadata": {},
   "source": [
    "# R & Python 함수 기초 1"
   ]
  },
  {
   "cell_type": "markdown",
   "id": "52d46e21-0e14-40d2-8786-9bd8274165ec",
   "metadata": {},
   "source": [
    "---"
   ]
  },
  {
   "cell_type": "code",
   "execution_count": 3,
   "id": "2250da40-2f34-4e65-980b-1e41ceb36d2d",
   "metadata": {},
   "outputs": [
    {
     "data": {
      "text/html": [
       "'numeric'"
      ],
      "text/latex": [
       "'numeric'"
      ],
      "text/markdown": [
       "'numeric'"
      ],
      "text/plain": [
       "[1] \"numeric\""
      ]
     },
     "metadata": {},
     "output_type": "display_data"
    }
   ],
   "source": [
    "a=3\n",
    "\n",
    "# a라는 변수가 갖는 데이터의 속성\n",
    "class(a)"
   ]
  },
  {
   "cell_type": "markdown",
   "id": "5c112873-f29f-48fa-b785-89eea13bb0a7",
   "metadata": {},
   "source": [
    "```python\n",
    "# 파이썬에서는\n",
    "a = 3\n",
    "# a라는 변수가 갖는 데이터의 속성\n",
    "type(a)\n",
    "```"
   ]
  },
  {
   "cell_type": "markdown",
   "id": "f6b17873-a4d8-481e-ba07-a913d8e2741e",
   "metadata": {},
   "source": [
    "---"
   ]
  },
  {
   "cell_type": "code",
   "execution_count": 4,
   "id": "0c36c928-9de7-458a-b776-5f4607733a13",
   "metadata": {},
   "outputs": [
    {
     "data": {
      "text/html": [
       "<style>\n",
       ".list-inline {list-style: none; margin:0; padding: 0}\n",
       ".list-inline>li {display: inline-block}\n",
       ".list-inline>li:not(:last-child)::after {content: \"\\00b7\"; padding: 0 .5ex}\n",
       "</style>\n",
       "<ol class=list-inline><li>1</li><li>2</li><li>3</li><li>4</li><li>5</li><li>6</li></ol>\n"
      ],
      "text/latex": [
       "\\begin{enumerate*}\n",
       "\\item 1\n",
       "\\item 2\n",
       "\\item 3\n",
       "\\item 4\n",
       "\\item 5\n",
       "\\item 6\n",
       "\\end{enumerate*}\n"
      ],
      "text/markdown": [
       "1. 1\n",
       "2. 2\n",
       "3. 3\n",
       "4. 4\n",
       "5. 5\n",
       "6. 6\n",
       "\n",
       "\n"
      ],
      "text/plain": [
       "[1] 1 2 3 4 5 6"
      ]
     },
     "metadata": {},
     "output_type": "display_data"
    }
   ],
   "source": [
    "1:6"
   ]
  },
  {
   "cell_type": "markdown",
   "id": "bd210dee-3f42-48cd-a288-51cadef91323",
   "metadata": {},
   "source": [
    "```pyhon\n",
    "\n",
    "# 파이썬에선\n",
    "\n",
    "# 이렇게 입력해야 1부터 6까지 출력됨\n",
    "list(range(1,7))\n",
    "```"
   ]
  },
  {
   "cell_type": "markdown",
   "id": "d68ff43a-e856-4f39-993d-d2d160107c2c",
   "metadata": {},
   "source": [
    "---"
   ]
  },
  {
   "cell_type": "code",
   "execution_count": 7,
   "id": "15589e85-f251-4187-a1b9-2cc8d26f6938",
   "metadata": {},
   "outputs": [
    {
     "data": {
      "text/html": [
       "<table class=\"dataframe\">\n",
       "<caption>A data.frame: 5 × 3</caption>\n",
       "<thead>\n",
       "\t<tr><th scope=col>id</th><th scope=col>name</th><th scope=col>life</th></tr>\n",
       "\t<tr><th scope=col>&lt;dbl&gt;</th><th scope=col>&lt;chr&gt;</th><th scope=col>&lt;dbl&gt;</th></tr>\n",
       "</thead>\n",
       "<tbody>\n",
       "\t<tr><td>1</td><td>태조</td><td> 12</td></tr>\n",
       "\t<tr><td>2</td><td>정종</td><td>123</td></tr>\n",
       "\t<tr><td>3</td><td>태종</td><td>  4</td></tr>\n",
       "\t<tr><td>4</td><td>세종</td><td>  1</td></tr>\n",
       "\t<tr><td>5</td><td>문종</td><td> 24</td></tr>\n",
       "</tbody>\n",
       "</table>\n"
      ],
      "text/latex": [
       "A data.frame: 5 × 3\n",
       "\\begin{tabular}{lll}\n",
       " id & name & life\\\\\n",
       " <dbl> & <chr> & <dbl>\\\\\n",
       "\\hline\n",
       "\t 1 & 태조 &  12\\\\\n",
       "\t 2 & 정종 & 123\\\\\n",
       "\t 3 & 태종 &   4\\\\\n",
       "\t 4 & 세종 &   1\\\\\n",
       "\t 5 & 문종 &  24\\\\\n",
       "\\end{tabular}\n"
      ],
      "text/markdown": [
       "\n",
       "A data.frame: 5 × 3\n",
       "\n",
       "| id &lt;dbl&gt; | name &lt;chr&gt; | life &lt;dbl&gt; |\n",
       "|---|---|---|\n",
       "| 1 | 태조 |  12 |\n",
       "| 2 | 정종 | 123 |\n",
       "| 3 | 태종 |   4 |\n",
       "| 4 | 세종 |   1 |\n",
       "| 5 | 문종 |  24 |\n",
       "\n"
      ],
      "text/plain": [
       "  id name life\n",
       "1 1  태조  12 \n",
       "2 2  정종 123 \n",
       "3 3  태종   4 \n",
       "4 4  세종   1 \n",
       "5 5  문종  24 "
      ]
     },
     "metadata": {},
     "output_type": "display_data"
    }
   ],
   "source": [
    "id = c(1,2,3,4,5)\n",
    "name = c('태조','정종','태종','세종','문종')\n",
    "life = c(12,123,4,1,24)\n",
    "\n",
    "df = data.frame(id,name,life)\n",
    "df"
   ]
  },
  {
   "cell_type": "code",
   "execution_count": 6,
   "id": "e6919b69-2271-4feb-afca-f865cf8ca13a",
   "metadata": {},
   "outputs": [
    {
     "data": {
      "text/html": [
       "<table class=\"dataframe\">\n",
       "<caption>A data.frame: 5 × 3</caption>\n",
       "<thead>\n",
       "\t<tr><th scope=col>id</th><th scope=col>fd</th><th scope=col>dff</th></tr>\n",
       "\t<tr><th scope=col>&lt;dbl&gt;</th><th scope=col>&lt;dbl&gt;</th><th scope=col>&lt;dbl&gt;</th></tr>\n",
       "</thead>\n",
       "<tbody>\n",
       "\t<tr><td>1</td><td> 1</td><td>123</td></tr>\n",
       "\t<tr><td>2</td><td>23</td><td>  4</td></tr>\n",
       "\t<tr><td>3</td><td> 4</td><td>  5</td></tr>\n",
       "\t<tr><td>4</td><td> 5</td><td>  6</td></tr>\n",
       "\t<tr><td>5</td><td> 6</td><td>  7</td></tr>\n",
       "</tbody>\n",
       "</table>\n"
      ],
      "text/latex": [
       "A data.frame: 5 × 3\n",
       "\\begin{tabular}{lll}\n",
       " id & fd & dff\\\\\n",
       " <dbl> & <dbl> & <dbl>\\\\\n",
       "\\hline\n",
       "\t 1 &  1 & 123\\\\\n",
       "\t 2 & 23 &   4\\\\\n",
       "\t 3 &  4 &   5\\\\\n",
       "\t 4 &  5 &   6\\\\\n",
       "\t 5 &  6 &   7\\\\\n",
       "\\end{tabular}\n"
      ],
      "text/markdown": [
       "\n",
       "A data.frame: 5 × 3\n",
       "\n",
       "| id &lt;dbl&gt; | fd &lt;dbl&gt; | dff &lt;dbl&gt; |\n",
       "|---|---|---|\n",
       "| 1 |  1 | 123 |\n",
       "| 2 | 23 |   4 |\n",
       "| 3 |  4 |   5 |\n",
       "| 4 |  5 |   6 |\n",
       "| 5 |  6 |   7 |\n",
       "\n"
      ],
      "text/plain": [
       "  id fd dff\n",
       "1 1   1 123\n",
       "2 2  23   4\n",
       "3 3   4   5\n",
       "4 4   5   6\n",
       "5 5   6   7"
      ]
     },
     "metadata": {},
     "output_type": "display_data"
    }
   ],
   "source": [
    "data.frame(id = c(1,2,3,4,5), fd=c(1,23,4,5,6),dff=c(123,4,5,6,7))"
   ]
  },
  {
   "cell_type": "code",
   "execution_count": 11,
   "id": "1885ebe1-e80c-4e98-9bbd-33b26391e8d0",
   "metadata": {},
   "outputs": [
    {
     "data": {
      "text/html": [
       "'data.frame'"
      ],
      "text/latex": [
       "'data.frame'"
      ],
      "text/markdown": [
       "'data.frame'"
      ],
      "text/plain": [
       "[1] \"data.frame\""
      ]
     },
     "metadata": {},
     "output_type": "display_data"
    }
   ],
   "source": [
    "# 어떤 class인가\n",
    "attr(df,'class')"
   ]
  },
  {
   "cell_type": "code",
   "execution_count": 12,
   "id": "b532ce0e-d338-4015-897b-f2f416f296fd",
   "metadata": {},
   "outputs": [
    {
     "data": {
      "text/html": [
       "<style>\n",
       ".list-inline {list-style: none; margin:0; padding: 0}\n",
       ".list-inline>li {display: inline-block}\n",
       ".list-inline>li:not(:last-child)::after {content: \"\\00b7\"; padding: 0 .5ex}\n",
       "</style>\n",
       "<ol class=list-inline><li>'id'</li><li>'name'</li><li>'life'</li></ol>\n"
      ],
      "text/latex": [
       "\\begin{enumerate*}\n",
       "\\item 'id'\n",
       "\\item 'name'\n",
       "\\item 'life'\n",
       "\\end{enumerate*}\n"
      ],
      "text/markdown": [
       "1. 'id'\n",
       "2. 'name'\n",
       "3. 'life'\n",
       "\n",
       "\n"
      ],
      "text/plain": [
       "[1] \"id\"   \"name\" \"life\""
      ]
     },
     "metadata": {},
     "output_type": "display_data"
    }
   ],
   "source": [
    "# 어떤 변수들이 있는가\n",
    "attr(df,'names')"
   ]
  },
  {
   "cell_type": "markdown",
   "id": "d0c35c1c-ff84-46e9-aa1f-b060b11b0481",
   "metadata": {},
   "source": [
    "> 기존 df에 새로운 칼럼 덧 붙이기"
   ]
  },
  {
   "cell_type": "code",
   "execution_count": 14,
   "id": "4ec9b91c-f5f7-4485-bdd7-b0b45a1d2bc7",
   "metadata": {},
   "outputs": [
    {
     "data": {
      "text/html": [
       "<table class=\"dataframe\">\n",
       "<caption>A data.frame: 5 × 4</caption>\n",
       "<thead>\n",
       "\t<tr><th scope=col>id</th><th scope=col>name</th><th scope=col>life</th><th scope=col>children</th></tr>\n",
       "\t<tr><th scope=col>&lt;dbl&gt;</th><th scope=col>&lt;chr&gt;</th><th scope=col>&lt;dbl&gt;</th><th scope=col>&lt;dbl&gt;</th></tr>\n",
       "</thead>\n",
       "<tbody>\n",
       "\t<tr><td>1</td><td>태조</td><td> 12</td><td> 12</td></tr>\n",
       "\t<tr><td>2</td><td>정종</td><td>123</td><td> 31</td></tr>\n",
       "\t<tr><td>3</td><td>태종</td><td>  4</td><td> 23</td></tr>\n",
       "\t<tr><td>4</td><td>세종</td><td>  1</td><td>123</td></tr>\n",
       "\t<tr><td>5</td><td>문종</td><td> 24</td><td> 23</td></tr>\n",
       "</tbody>\n",
       "</table>\n"
      ],
      "text/latex": [
       "A data.frame: 5 × 4\n",
       "\\begin{tabular}{llll}\n",
       " id & name & life & children\\\\\n",
       " <dbl> & <chr> & <dbl> & <dbl>\\\\\n",
       "\\hline\n",
       "\t 1 & 태조 &  12 &  12\\\\\n",
       "\t 2 & 정종 & 123 &  31\\\\\n",
       "\t 3 & 태종 &   4 &  23\\\\\n",
       "\t 4 & 세종 &   1 & 123\\\\\n",
       "\t 5 & 문종 &  24 &  23\\\\\n",
       "\\end{tabular}\n"
      ],
      "text/markdown": [
       "\n",
       "A data.frame: 5 × 4\n",
       "\n",
       "| id &lt;dbl&gt; | name &lt;chr&gt; | life &lt;dbl&gt; | children &lt;dbl&gt; |\n",
       "|---|---|---|---|\n",
       "| 1 | 태조 |  12 |  12 |\n",
       "| 2 | 정종 | 123 |  31 |\n",
       "| 3 | 태종 |   4 |  23 |\n",
       "| 4 | 세종 |   1 | 123 |\n",
       "| 5 | 문종 |  24 |  23 |\n",
       "\n"
      ],
      "text/plain": [
       "  id name life children\n",
       "1 1  태조  12   12     \n",
       "2 2  정종 123   31     \n",
       "3 3  태종   4   23     \n",
       "4 4  세종   1  123     \n",
       "5 5  문종  24   23     "
      ]
     },
     "metadata": {},
     "output_type": "display_data"
    }
   ],
   "source": [
    "# 칼럼 덧붙이기\n",
    "children = c(12,31,23,123,23)\n",
    "\n",
    "df$children = children\n",
    "df"
   ]
  },
  {
   "cell_type": "markdown",
   "id": "d0dc675b-7283-4203-8dad-2570ce52ae93",
   "metadata": {},
   "source": [
    "```python\n",
    "vars = {'id' :[1,23,4,5],\n",
    "       'asdf':[124,123,123,123]\n",
    "       ,'1234':\n",
    "        [123,123,123,123]}\n",
    "\n",
    "import pandas as pd\n",
    "\n",
    "df = pd.DataFrame(vars,columns=['asdf','id'])\n",
    "df\n",
    "\n",
    "# 여기서 주의할 점\n",
    "pd.Dataframe으로 df 생성해줄 때, columns를 list에 생성해주지 않아도 df에 col이 생성되긴 함.\n",
    "그런데 columns의 역할이 vars라는 dict에서 columns리스트에 부합되는 칼럼만 뽑아서 df을 만들어주기도 함.\n",
    "즉 다시 말하자면 ,vars에 있는 변수랑 columns에 있는 변수랑 일치되는 것만 뽑기도하고 원하는 순서로 칼럼을 형성하여 \n",
    "df을 만들 수도 있고 그런 기능임\n",
    "\n",
    "# 파이썬에서 type 확인할 땐\n",
    "type(df)\n",
    "\n",
    "# 칼럼확인\n",
    "df.columns\n",
    "\n",
    "```"
   ]
  },
  {
   "cell_type": "markdown",
   "id": "190d4782-9e5f-4dc0-b76e-e6f282d3870c",
   "metadata": {},
   "source": [
    "----"
   ]
  },
  {
   "cell_type": "code",
   "execution_count": 36,
   "id": "635b28ef-242d-4783-8a9d-fe2c4d0f0613",
   "metadata": {},
   "outputs": [
    {
     "data": {
      "text/html": [
       "<table class=\"dataframe\">\n",
       "<caption>A data.frame: 3 × 10</caption>\n",
       "<thead>\n",
       "\t<tr><th></th><th scope=col>id</th><th scope=col>year</th><th scope=col>buy</th><th scope=col>age</th><th scope=col>edu</th><th scope=col>income</th><th scope=col>exp</th><th scope=col>co</th><th scope=col>ad</th><th scope=col>prod</th></tr>\n",
       "\t<tr><th></th><th scope=col>&lt;int&gt;</th><th scope=col>&lt;int&gt;</th><th scope=col>&lt;int&gt;</th><th scope=col>&lt;int&gt;</th><th scope=col>&lt;int&gt;</th><th scope=col>&lt;int&gt;</th><th scope=col>&lt;int&gt;</th><th scope=col>&lt;dbl&gt;</th><th scope=col>&lt;dbl&gt;</th><th scope=col>&lt;dbl&gt;</th></tr>\n",
       "</thead>\n",
       "<tbody>\n",
       "\t<tr><th scope=row>1</th><td>1</td><td>2013</td><td>1</td><td>5</td><td>3</td><td>17600</td><td>8800</td><td> 9.3</td><td>11.36</td><td> 5.01</td></tr>\n",
       "\t<tr><th scope=row>2</th><td>2</td><td>2013</td><td>0</td><td>4</td><td>2</td><td> 2500</td><td>2300</td><td>10.2</td><td> 0.39</td><td>   NA</td></tr>\n",
       "\t<tr><th scope=row>3</th><td>3</td><td>2013</td><td>0</td><td>3</td><td>1</td><td> 6700</td><td>5400</td><td>30.6</td><td> 3.83</td><td>16.67</td></tr>\n",
       "</tbody>\n",
       "</table>\n"
      ],
      "text/latex": [
       "A data.frame: 3 × 10\n",
       "\\begin{tabular}{r|llllllllll}\n",
       "  & id & year & buy & age & edu & income & exp & co & ad & prod\\\\\n",
       "  & <int> & <int> & <int> & <int> & <int> & <int> & <int> & <dbl> & <dbl> & <dbl>\\\\\n",
       "\\hline\n",
       "\t1 & 1 & 2013 & 1 & 5 & 3 & 17600 & 8800 &  9.3 & 11.36 &  5.01\\\\\n",
       "\t2 & 2 & 2013 & 0 & 4 & 2 &  2500 & 2300 & 10.2 &  0.39 &    NA\\\\\n",
       "\t3 & 3 & 2013 & 0 & 3 & 1 &  6700 & 5400 & 30.6 &  3.83 & 16.67\\\\\n",
       "\\end{tabular}\n"
      ],
      "text/markdown": [
       "\n",
       "A data.frame: 3 × 10\n",
       "\n",
       "| <!--/--> | id &lt;int&gt; | year &lt;int&gt; | buy &lt;int&gt; | age &lt;int&gt; | edu &lt;int&gt; | income &lt;int&gt; | exp &lt;int&gt; | co &lt;dbl&gt; | ad &lt;dbl&gt; | prod &lt;dbl&gt; |\n",
       "|---|---|---|---|---|---|---|---|---|---|---|\n",
       "| 1 | 1 | 2013 | 1 | 5 | 3 | 17600 | 8800 |  9.3 | 11.36 |  5.01 |\n",
       "| 2 | 2 | 2013 | 0 | 4 | 2 |  2500 | 2300 | 10.2 |  0.39 |    NA |\n",
       "| 3 | 3 | 2013 | 0 | 3 | 1 |  6700 | 5400 | 30.6 |  3.83 | 16.67 |\n",
       "\n"
      ],
      "text/plain": [
       "  id year buy age edu income exp  co   ad    prod \n",
       "1 1  2013 1   5   3   17600  8800  9.3 11.36  5.01\n",
       "2 2  2013 0   4   2    2500  2300 10.2  0.39    NA\n",
       "3 3  2013 0   3   1    6700  5400 30.6  3.83 16.67"
      ]
     },
     "metadata": {},
     "output_type": "display_data"
    }
   ],
   "source": [
    "# header = T  : 칼럼명 지정할 수 있게 해줌\n",
    "# sep = ',' : 구분 기준 기호 설정\n",
    "\n",
    "ds = read.csv('buy.txt', header = T,sep='\\t')\n",
    "ds1 = read.csv('buy.csv', header = T, sep=',')\n",
    "\n",
    "# 그런데 사실 read.csv 나 read.table이나 혼용해서 써도 결과는 동일하다.\n",
    "\n",
    "head(ds1,3)"
   ]
  },
  {
   "cell_type": "markdown",
   "id": "4c9f5ee4-43d1-45ad-9a2a-d5dd186d92dd",
   "metadata": {},
   "source": [
    "```python\n",
    "import pandas as pd\n",
    "\n",
    "ds = pd.read_csv('buy.csv', header = 0, sep = ',')\n",
    "ds1 = pd.read_csv('buy.txt', header = 0, sep = '\\t')\n",
    "\n",
    "# 그냥 csv 파일이나 table파일이나 read_csv 사용하면 된다. \n",
    "\n",
    "# header = 0 : 0은 row number를 의미\n",
    "\n",
    "ds.head(3)\n",
    "```"
   ]
  },
  {
   "cell_type": "markdown",
   "id": "82fbefd6-4fd2-4b42-9ca4-d600f60e4d30",
   "metadata": {},
   "source": [
    "> 변수명이 명시되어 있지 않은 경우에 변수이름 설정 또는 변수명 변경"
   ]
  },
  {
   "cell_type": "markdown",
   "id": "ad22ce80-05ac-40ef-8868-9f58fdb3f22a",
   "metadata": {},
   "source": [
    "```r\n",
    "# r에서\n",
    "df = read_table('buy_noheader.txt', header=F)\n",
    "\n",
    "# 칼럼명 이렇게 설정 가능하다.\n",
    "names(df) = c('dav','Asda','asgf','asgdf','adv','ad')\n",
    "# 또는\n",
    "names(df) 대신에 colnames(df)로도 사용 가능하다. \n",
    "\n",
    "# rename variable name\n",
    "library(data.table)\n",
    "setnames(no_h, 'year', 'years')\n",
    "setnames(no_h, 'prod', 'product')\n",
    "\n",
    "- 혹은 아래와 같이 기존의 칼럼명을 새로운 칼럼명으로 변경해줄 수도 있다.\n",
    "\n",
    "setnames(no_h, old=c('co', 'ad'), new=c('com', 'advert'))\n",
    "```"
   ]
  },
  {
   "cell_type": "markdown",
   "id": "a9db7e34-b859-477a-b80b-064b6856ecd8",
   "metadata": {},
   "source": [
    "```python\n",
    "no_h = pd.read_csv(\"buy_noheader.txt\",header= None, sep=\"\\t\")\n",
    "\n",
    "# set up variable name\n",
    "no_h.columns = ['id','year','buy','age','edu','income','exp','co','ad','prod']\n",
    "\n",
    "# rename variable name\n",
    "no_h.rename(columns = {\"year\": \"years\"}, inplace = True)\n",
    "no_h.rename(columns = {\"co\": \"com\",\"ad\": \"advert\"}, inplace = True)\n",
    "```"
   ]
  },
  {
   "cell_type": "markdown",
   "id": "be3dd8c0-008b-4736-879b-e12bcc7d90e8",
   "metadata": {},
   "source": [
    "---"
   ]
  },
  {
   "cell_type": "code",
   "execution_count": 41,
   "id": "9e2787d8-2ef0-4439-8f05-12576bbae29d",
   "metadata": {},
   "outputs": [
    {
     "data": {
      "text/html": [
       "<dl>\n",
       "\t<dt>$names</dt>\n",
       "\t\t<dd><style>\n",
       ".list-inline {list-style: none; margin:0; padding: 0}\n",
       ".list-inline>li {display: inline-block}\n",
       ".list-inline>li:not(:last-child)::after {content: \"\\00b7\"; padding: 0 .5ex}\n",
       "</style>\n",
       "<ol class=list-inline><li>'id'</li><li>'name'</li><li>'life'</li><li>'children'</li></ol>\n",
       "</dd>\n",
       "\t<dt>$row.names</dt>\n",
       "\t\t<dd><style>\n",
       ".list-inline {list-style: none; margin:0; padding: 0}\n",
       ".list-inline>li {display: inline-block}\n",
       ".list-inline>li:not(:last-child)::after {content: \"\\00b7\"; padding: 0 .5ex}\n",
       "</style>\n",
       "<ol class=list-inline><li>1</li><li>2</li><li>3</li><li>4</li><li>5</li></ol>\n",
       "</dd>\n",
       "\t<dt>$class</dt>\n",
       "\t\t<dd>'data.frame'</dd>\n",
       "</dl>\n"
      ],
      "text/latex": [
       "\\begin{description}\n",
       "\\item[\\$names] \\begin{enumerate*}\n",
       "\\item 'id'\n",
       "\\item 'name'\n",
       "\\item 'life'\n",
       "\\item 'children'\n",
       "\\end{enumerate*}\n",
       "\n",
       "\\item[\\$row.names] \\begin{enumerate*}\n",
       "\\item 1\n",
       "\\item 2\n",
       "\\item 3\n",
       "\\item 4\n",
       "\\item 5\n",
       "\\end{enumerate*}\n",
       "\n",
       "\\item[\\$class] 'data.frame'\n",
       "\\end{description}\n"
      ],
      "text/markdown": [
       "$names\n",
       ":   1. 'id'\n",
       "2. 'name'\n",
       "3. 'life'\n",
       "4. 'children'\n",
       "\n",
       "\n",
       "\n",
       "$row.names\n",
       ":   1. 1\n",
       "2. 2\n",
       "3. 3\n",
       "4. 4\n",
       "5. 5\n",
       "\n",
       "\n",
       "\n",
       "$class\n",
       ":   'data.frame'\n",
       "\n",
       "\n"
      ],
      "text/plain": [
       "$names\n",
       "[1] \"id\"       \"name\"     \"life\"     \"children\"\n",
       "\n",
       "$row.names\n",
       "[1] 1 2 3 4 5\n",
       "\n",
       "$class\n",
       "[1] \"data.frame\"\n"
      ]
     },
     "metadata": {},
     "output_type": "display_data"
    }
   ],
   "source": [
    "attributes(df)"
   ]
  },
  {
   "cell_type": "code",
   "execution_count": 42,
   "id": "db9ab385-2f20-445c-9486-230d2f7b4ed7",
   "metadata": {},
   "outputs": [
    {
     "data": {
      "text/html": [
       "<style>\n",
       ".list-inline {list-style: none; margin:0; padding: 0}\n",
       ".list-inline>li {display: inline-block}\n",
       ".list-inline>li:not(:last-child)::after {content: \"\\00b7\"; padding: 0 .5ex}\n",
       "</style>\n",
       "<ol class=list-inline><li>'id'</li><li>'name'</li><li>'life'</li><li>'children'</li></ol>\n"
      ],
      "text/latex": [
       "\\begin{enumerate*}\n",
       "\\item 'id'\n",
       "\\item 'name'\n",
       "\\item 'life'\n",
       "\\item 'children'\n",
       "\\end{enumerate*}\n"
      ],
      "text/markdown": [
       "1. 'id'\n",
       "2. 'name'\n",
       "3. 'life'\n",
       "4. 'children'\n",
       "\n",
       "\n"
      ],
      "text/plain": [
       "[1] \"id\"       \"name\"     \"life\"     \"children\""
      ]
     },
     "metadata": {},
     "output_type": "display_data"
    }
   ],
   "source": [
    "# 이렇게도 사용할 수 있겠다. \n",
    "attributes(df)$names"
   ]
  },
  {
   "cell_type": "markdown",
   "id": "63e4e19a-ea5d-47c4-9ba1-e45fa5a50bcd",
   "metadata": {},
   "source": [
    "```r\n",
    "# 모든 변수들에 대한 요약통계\n",
    "summary(ds)\n",
    "\n",
    "# ds set에 대한 정보\n",
    "attributes(ds) # object attributes\n",
    "# attribute가 아니라 attributes이다\n",
    "nrow(ds) # 행 수\n",
    "ncol(ds) # 컬럼 수\n",
    "names(ds) \t\t# 칼럼명\n",
    "\n",
    "# data set 에서 특정한 변수를 이용하고자 할 경우에는 $ 표시 이용\n",
    "mean(ds\\$income)\n",
    "var(ds\\$income)\n",
    "min(ds\\$income)\n",
    "quantile(ds\\$income, 1/4)\n",
    "median(ds\\$income)\n",
    "quantile(ds\\$income, 3/4)\n",
    "max(dsa\\$income)\n",
    "```"
   ]
  },
  {
   "cell_type": "markdown",
   "id": "6ef4f472-3f30-49c6-ad5b-0e6e110b70b8",
   "metadata": {},
   "source": [
    "```python\n",
    "# 모든 변수들에 대한 요약통계\n",
    "ds.describe()\n",
    "\n",
    "# ds set에 대한 정보\n",
    "len(ds)\n",
    "len(ds.index)\n",
    "len(ds.columns)\n",
    "ds.columns  # 이런 칼럼 주의하자\n",
    " \n",
    "\n",
    "\n",
    "# data set 에서 특정한 변수를 이용하고자 할 경우에는 . 또는 ['변수명'] 이용\n",
    "ds.income.mean()\n",
    "ds['income'].var()\n",
    "ds['income'].min()\n",
    "ds['income'].quantile(1/4)\n",
    "ds['income'].median()\n",
    "ds['income'].quantile(3/4)\n",
    "ds['income'].max()\n",
    "\n",
    "뒤에 ()써주는 거 주의\n",
    "\n",
    "\n",
    "```"
   ]
  },
  {
   "cell_type": "markdown",
   "id": "2589133d-ef7f-4330-9147-561f39842cd0",
   "metadata": {},
   "source": [
    "----"
   ]
  },
  {
   "cell_type": "code",
   "execution_count": 46,
   "id": "d5f7f826-4c21-47c6-a82e-ce2df572d8d1",
   "metadata": {},
   "outputs": [
    {
     "data": {
      "text/html": [
       "<table class=\"dataframe\">\n",
       "<caption>A data.frame: 5 × 4</caption>\n",
       "<thead>\n",
       "\t<tr><th scope=col>id</th><th scope=col>name</th><th scope=col>life</th><th scope=col>children</th></tr>\n",
       "\t<tr><th scope=col>&lt;dbl&gt;</th><th scope=col>&lt;chr&gt;</th><th scope=col>&lt;dbl&gt;</th><th scope=col>&lt;dbl&gt;</th></tr>\n",
       "</thead>\n",
       "<tbody>\n",
       "\t<tr><td>1</td><td>태조</td><td> 12</td><td> 12</td></tr>\n",
       "\t<tr><td>2</td><td>정종</td><td>123</td><td> 31</td></tr>\n",
       "\t<tr><td>3</td><td>태종</td><td>  4</td><td> 23</td></tr>\n",
       "\t<tr><td>4</td><td>세종</td><td>  1</td><td>123</td></tr>\n",
       "\t<tr><td>5</td><td>문종</td><td> 24</td><td> 23</td></tr>\n",
       "</tbody>\n",
       "</table>\n"
      ],
      "text/latex": [
       "A data.frame: 5 × 4\n",
       "\\begin{tabular}{llll}\n",
       " id & name & life & children\\\\\n",
       " <dbl> & <chr> & <dbl> & <dbl>\\\\\n",
       "\\hline\n",
       "\t 1 & 태조 &  12 &  12\\\\\n",
       "\t 2 & 정종 & 123 &  31\\\\\n",
       "\t 3 & 태종 &   4 &  23\\\\\n",
       "\t 4 & 세종 &   1 & 123\\\\\n",
       "\t 5 & 문종 &  24 &  23\\\\\n",
       "\\end{tabular}\n"
      ],
      "text/markdown": [
       "\n",
       "A data.frame: 5 × 4\n",
       "\n",
       "| id &lt;dbl&gt; | name &lt;chr&gt; | life &lt;dbl&gt; | children &lt;dbl&gt; |\n",
       "|---|---|---|---|\n",
       "| 1 | 태조 |  12 |  12 |\n",
       "| 2 | 정종 | 123 |  31 |\n",
       "| 3 | 태종 |   4 |  23 |\n",
       "| 4 | 세종 |   1 | 123 |\n",
       "| 5 | 문종 |  24 |  23 |\n",
       "\n"
      ],
      "text/plain": [
       "  id name life children\n",
       "1 1  태조  12   12     \n",
       "2 2  정종 123   31     \n",
       "3 3  태종   4   23     \n",
       "4 4  세종   1  123     \n",
       "5 5  문종  24   23     "
      ]
     },
     "metadata": {},
     "output_type": "display_data"
    }
   ],
   "source": [
    "df"
   ]
  },
  {
   "cell_type": "code",
   "execution_count": 49,
   "id": "dd5d5d53-a539-44c1-8674-ba8e26c0b106",
   "metadata": {},
   "outputs": [
    {
     "data": {
      "text/html": [
       "<style>\n",
       ".list-inline {list-style: none; margin:0; padding: 0}\n",
       ".list-inline>li {display: inline-block}\n",
       ".list-inline>li:not(:last-child)::after {content: \"\\00b7\"; padding: 0 .5ex}\n",
       "</style>\n",
       "<ol class=list-inline><li>1</li><li>0</li><li>0</li><li>1</li><li>0</li><li>0</li></ol>\n"
      ],
      "text/latex": [
       "\\begin{enumerate*}\n",
       "\\item 1\n",
       "\\item 0\n",
       "\\item 0\n",
       "\\item 1\n",
       "\\item 0\n",
       "\\item 0\n",
       "\\end{enumerate*}\n"
      ],
      "text/markdown": [
       "1. 1\n",
       "2. 0\n",
       "3. 0\n",
       "4. 1\n",
       "5. 0\n",
       "6. 0\n",
       "\n",
       "\n"
      ],
      "text/plain": [
       "[1] 1 0 0 1 0 0"
      ]
     },
     "metadata": {},
     "output_type": "display_data"
    }
   ],
   "source": [
    "ds$buy[c(1:6)]"
   ]
  },
  {
   "cell_type": "code",
   "execution_count": 50,
   "id": "d3f599f0-5276-47db-b0a6-78ee59fd3741",
   "metadata": {},
   "outputs": [],
   "source": [
    "ds$buy = as.factor(ds$buy)"
   ]
  },
  {
   "cell_type": "code",
   "execution_count": 52,
   "id": "71bf1fda-12e6-426e-b686-dc2fae09a8f7",
   "metadata": {},
   "outputs": [
    {
     "data": {
      "text/html": [
       "<style>\n",
       ".list-inline {list-style: none; margin:0; padding: 0}\n",
       ".list-inline>li {display: inline-block}\n",
       ".list-inline>li:not(:last-child)::after {content: \"\\00b7\"; padding: 0 .5ex}\n",
       "</style>\n",
       "<ol class=list-inline><li>1</li><li>0</li><li>0</li><li>1</li><li>0</li><li>0</li></ol>\n",
       "\n",
       "<details>\n",
       "\t<summary style=display:list-item;cursor:pointer>\n",
       "\t\t<strong>Levels</strong>:\n",
       "\t</summary>\n",
       "\t<style>\n",
       "\t.list-inline {list-style: none; margin:0; padding: 0}\n",
       "\t.list-inline>li {display: inline-block}\n",
       "\t.list-inline>li:not(:last-child)::after {content: \"\\00b7\"; padding: 0 .5ex}\n",
       "\t</style>\n",
       "\t<ol class=list-inline><li>'0'</li><li>'1'</li></ol>\n",
       "</details>"
      ],
      "text/latex": [
       "\\begin{enumerate*}\n",
       "\\item 1\n",
       "\\item 0\n",
       "\\item 0\n",
       "\\item 1\n",
       "\\item 0\n",
       "\\item 0\n",
       "\\end{enumerate*}\n",
       "\n",
       "\\emph{Levels}: \\begin{enumerate*}\n",
       "\\item '0'\n",
       "\\item '1'\n",
       "\\end{enumerate*}\n"
      ],
      "text/markdown": [
       "1. 1\n",
       "2. 0\n",
       "3. 0\n",
       "4. 1\n",
       "5. 0\n",
       "6. 0\n",
       "\n",
       "\n",
       "\n",
       "**Levels**: 1. '0'\n",
       "2. '1'\n",
       "\n",
       "\n"
      ],
      "text/plain": [
       "[1] 1 0 0 1 0 0\n",
       "Levels: 0 1"
      ]
     },
     "metadata": {},
     "output_type": "display_data"
    }
   ],
   "source": [
    "ds$buy[c(1:6)]"
   ]
  },
  {
   "cell_type": "markdown",
   "id": "e5a9b350-ede0-4ff5-826f-fbc59004542c",
   "metadata": {},
   "source": [
    "- 달라진 게 없는 것 같다\n",
    "- 요약 정보를 확인해보자"
   ]
  },
  {
   "cell_type": "code",
   "execution_count": 59,
   "id": "8ead3e7f-c455-428a-8ff3-a295597206d1",
   "metadata": {},
   "outputs": [
    {
     "data": {
      "text/plain": [
       "       id             year      buy          age             edu       \n",
       " Min.   :  1.0   Min.   :2013   0:517   Min.   :2.000   Min.   :1.000  \n",
       " 1st Qu.:175.8   1st Qu.:2013   1:183   1st Qu.:2.000   1st Qu.:1.000  \n",
       " Median :350.5   Median :2014           Median :3.000   Median :1.000  \n",
       " Mean   :350.5   Mean   :2014           Mean   :3.134   Mean   :1.723  \n",
       " 3rd Qu.:525.2   3rd Qu.:2015           3rd Qu.:4.000   3rd Qu.:2.000  \n",
       " Max.   :700.0   Max.   :2015           Max.   :5.000   Max.   :5.000  \n",
       "                                                                       \n",
       "     income           exp              co              ad        \n",
       " Min.   : 1400   Min.   :  700   Min.   : 0.40   Min.   : 0.010  \n",
       " 1st Qu.: 2400   1st Qu.: 1800   1st Qu.: 5.00   1st Qu.: 0.370  \n",
       " Median : 3400   Median : 2500   Median : 8.60   Median : 0.855  \n",
       " Mean   : 4540   Mean   : 3300   Mean   :10.26   Mean   : 1.553  \n",
       " 3rd Qu.: 5425   3rd Qu.: 4025   3rd Qu.:14.12   3rd Qu.: 1.905  \n",
       " Max.   :34600   Max.   :19600   Max.   :41.30   Max.   :20.560  \n",
       "                                                                 \n",
       "      prod       \n",
       " Min.   : 0.050  \n",
       " 1st Qu.: 1.045  \n",
       " Median : 1.980  \n",
       " Mean   : 3.060  \n",
       " 3rd Qu.: 3.935  \n",
       " Max.   :27.030  \n",
       " NA's   :1       "
      ]
     },
     "metadata": {},
     "output_type": "display_data"
    }
   ],
   "source": [
    "summary(ds)"
   ]
  },
  {
   "cell_type": "markdown",
   "id": "b1b60b30-31ff-4a09-81c9-6351d02d39bf",
   "metadata": {},
   "source": [
    "- buy칼럼만 범주형 변수로 바뀐 것을 확인할 수 있다. "
   ]
  },
  {
   "cell_type": "code",
   "execution_count": 60,
   "id": "261fad16-6688-4ac9-b808-1b8f06b3e5ef",
   "metadata": {},
   "outputs": [
    {
     "data": {
      "text/plain": [
       "\n",
       "  0   1 \n",
       "517 183 "
      ]
     },
     "metadata": {},
     "output_type": "display_data"
    }
   ],
   "source": [
    "table(ds$buy)"
   ]
  },
  {
   "cell_type": "markdown",
   "id": "ca5c9a1b-1ed2-4977-9991-810f67d1a314",
   "metadata": {},
   "source": [
    "- 위와 같이 범주형 변수로 바뀐 것을 확인할 수 있다. "
   ]
  },
  {
   "cell_type": "code",
   "execution_count": 62,
   "id": "4e40a2ef-4759-4fcb-8a21-0949c4296052",
   "metadata": {},
   "outputs": [
    {
     "data": {
      "text/plain": [
       "   \n",
       "      1   2   3   4   5\n",
       "  0 293 139  57  24   4\n",
       "  1  79  59  30  14   1"
      ]
     },
     "metadata": {},
     "output_type": "display_data"
    }
   ],
   "source": [
    "table(ds$buy, ds$edu)"
   ]
  },
  {
   "cell_type": "markdown",
   "id": "c67dbc0d-9917-4c37-ae9e-7b2b3ff04440",
   "metadata": {},
   "source": [
    "- python의 groupby와 좀 유사해보인다."
   ]
  },
  {
   "cell_type": "code",
   "execution_count": 64,
   "id": "36de1dab-c502-4036-aa4d-d591462ab207",
   "metadata": {},
   "outputs": [
    {
     "data": {
      "text/plain": [
       "   \n",
       "      1   2   3   4   5\n",
       "  0 293 139  57  24   4\n",
       "  1  79  59  30  14   1"
      ]
     },
     "metadata": {},
     "output_type": "display_data"
    }
   ],
   "source": [
    "ds$edu = as.factor(ds$edu)\n",
    "table(ds$buy, ds$edu)"
   ]
  },
  {
   "cell_type": "markdown",
   "id": "13e605a7-79b4-4a56-b9ec-dfc849ed47b2",
   "metadata": {},
   "source": [
    "---"
   ]
  },
  {
   "cell_type": "markdown",
   "id": "023462e2-03c7-47f3-b27b-abac62163d84",
   "metadata": {},
   "source": [
    "```python\n",
    "# summary와 유사\n",
    "ds.describe()\n",
    "\n",
    "# 범주형 변수로 변환하기\n",
    "ds['buy'].astype('category')\n",
    "\n",
    "# 범주형 변수 요약\n",
    "ds['buy'].value_counts()\n",
    "```"
   ]
  },
  {
   "cell_type": "markdown",
   "id": "0bb56f99-534b-421e-9673-2105d0c7add5",
   "metadata": {},
   "source": [
    "---"
   ]
  },
  {
   "cell_type": "markdown",
   "id": "3626a944-53f5-4190-86a0-eb7070d3f9ab",
   "metadata": {},
   "source": [
    "```r\n",
    "## 결측값 처리해보자\n",
    "\n",
    "# prod 변수에서만 missing value 제거\n",
    "prod_no_missing = na.omit(ds$prod)\n",
    "\n",
    "# ds set에서 missing value가 있는 행 제거\n",
    "ds2 = na.omit(ds)\n",
    "\n",
    "# . 으로 입력되어 있는 경우 0 값으로 변경\n",
    "ds$prod[ds$prod == '.'] <- 0\n",
    "\n",
    "# ds$prod == '.' 이 부분이 Bool 형태로 반환되어 indexing에 활용할 수 있다. \n",
    "```\n",
    "\n",
    "```python\n",
    "\n",
    "\n",
    "# 결측값 채울 때 사용해보자\n",
    "ds['prod'].mean()\n",
    "\n",
    "# Na값을 하나라도 포함하는 행 삭제\n",
    "# 결측값 하나 있다고 열을 다 삭제하긴 부담스러워서?\n",
    "# 결측값있는 열이 아닌 결측값 있는 행을 삭제함.\n",
    "ds.dropna()\n",
    "\n",
    "# 행 전체가 Na인 행만 삭제\n",
    "ds.dropna(how='all')\n",
    "# how = 'all'\n",
    "# 어떻게 지울까?\n",
    "# all , 즉 모두 null인 것만 지우자\n",
    "\n",
    "\n",
    "# 결측값 변경\n",
    "ds['prod'].fillna(0)\n",
    "ds['prod'].fillna(ds['prod'].mean())\n",
    "```"
   ]
  },
  {
   "cell_type": "markdown",
   "id": "f7d8bfb9-407b-4679-b0d1-e3cf04321837",
   "metadata": {},
   "source": [
    "---"
   ]
  },
  {
   "cell_type": "code",
   "execution_count": 71,
   "id": "ec50f3b7-6a56-4ffc-a361-8f1be0e82cf5",
   "metadata": {},
   "outputs": [
    {
     "data": {
      "text/html": [
       "1400"
      ],
      "text/latex": [
       "1400"
      ],
      "text/markdown": [
       "1400"
      ],
      "text/plain": [
       "[1] 1400"
      ]
     },
     "metadata": {},
     "output_type": "display_data"
    }
   ],
   "source": [
    "min(ds$income)"
   ]
  },
  {
   "cell_type": "code",
   "execution_count": 67,
   "id": "7a3136d7-ba99-4f82-869d-6dc82283c76e",
   "metadata": {},
   "outputs": [
    {
     "data": {
      "text/html": [
       "<style>\n",
       ".list-inline {list-style: none; margin:0; padding: 0}\n",
       ".list-inline>li {display: inline-block}\n",
       ".list-inline>li:not(:last-child)::after {content: \"\\00b7\"; padding: 0 .5ex}\n",
       "</style>\n",
       "<ol class=list-inline><li>1400</li><li>2400</li><li>3400</li><li>5450</li><li>34600</li></ol>\n"
      ],
      "text/latex": [
       "\\begin{enumerate*}\n",
       "\\item 1400\n",
       "\\item 2400\n",
       "\\item 3400\n",
       "\\item 5450\n",
       "\\item 34600\n",
       "\\end{enumerate*}\n"
      ],
      "text/markdown": [
       "1. 1400\n",
       "2. 2400\n",
       "3. 3400\n",
       "4. 5450\n",
       "5. 34600\n",
       "\n",
       "\n"
      ],
      "text/plain": [
       "[1]  1400  2400  3400  5450 34600"
      ]
     },
     "metadata": {},
     "output_type": "display_data"
    }
   ],
   "source": [
    "fn_sum = fivenum(ds$income)\n",
    "fn_sum"
   ]
  },
  {
   "cell_type": "markdown",
   "id": "1d1d62e1-899c-473d-8384-d651eea0fcc0",
   "metadata": {},
   "source": [
    "```r\n",
    "### 데이터 분석 결과 활용 예\n",
    "fn_sum = fivenum(ds$income)\n",
    "# fievnum의 반환 결과\n",
    "# (minimum, lower-hinge, median, upper-hinge, maximum)\n",
    "\n",
    "\n",
    "\n",
    "\n",
    "### 예: 회귀 분석\n",
    "summary(ds)\n",
    "# 파이썬에서는 ds.describe()\n",
    "\n",
    "# 범주형 변수로 변경\n",
    "ds$buy = as.factor(ds$buy)\n",
    "\n",
    "res = lm(income ~ buy, data=ds) \n",
    "res$coefficient\n",
    "res$coefficient[1]\n",
    "res$coefficient[2]\n",
    "\n",
    "# 분산분석\n",
    "anova(res)\n",
    "```"
   ]
  },
  {
   "cell_type": "markdown",
   "id": "c1ffe665-58e8-4538-984c-bdc7e20d7f90",
   "metadata": {},
   "source": [
    "---"
   ]
  },
  {
   "cell_type": "markdown",
   "id": "ff3bd249-50cb-45d3-882c-03cfa74f7005",
   "metadata": {},
   "source": [
    "```python\n",
    "## 데이터 분석 결과 활용 예\n",
    "res1 = ds['income'].describe()\n",
    "\n",
    "import statsmodels.formula.api as smf\n",
    "\n",
    "\n",
    "# 회귀분석 中\n",
    "model = smf.ols(formula='exp~income', data=ds)\n",
    "res = model.fit()\n",
    "res_s = res.summary()\n",
    "print(res_s)\n",
    "\n",
    "print('Parameters: ', res.params)\n",
    "print('Parameters: ', res.params[0])\n",
    "print('R2: ', res.rsquared)\n",
    "print('F value: ', res.fvalue)\n",
    "```"
   ]
  },
  {
   "cell_type": "markdown",
   "id": "2f8e8a78-79bc-4618-b725-d043cc24ebf3",
   "metadata": {},
   "source": [
    "---"
   ]
  },
  {
   "cell_type": "markdown",
   "id": "f3f893ef-b921-46d5-945e-426c23f93c22",
   "metadata": {},
   "source": [
    "```r\n",
    "# 특정한 변수 이용: $\n",
    "ds$income  \n",
    "ds[, 6] \n",
    "# income는 6번째에 위치한 변수 \n",
    "# 따라서 ds$income과 ds[, 6]은 같은 의미 \n",
    "\n",
    "ds[, 6]\n",
    "ds[, c(6, 7)]\n",
    "\n",
    "mean(ds$income) #mean(ds[, 6])\n",
    "sum(ds$exp)\n",
    "\n",
    "### 특정한 관측치 이용\n",
    "ds[1, ]\n",
    "ds[c(1:5), ]\n",
    "ds[c(1, 3, 5, 7), ]\n",
    "\n",
    "### 관측치가 특정한 값인 데이터 이용\n",
    "ds[ds$year==2013, ]\t# == \n",
    "ds[ds$year!=2013, ]\n",
    "```"
   ]
  },
  {
   "cell_type": "markdown",
   "id": "3552aa8a-4c5d-4dbe-9ffc-c68280e67b06",
   "metadata": {},
   "source": [
    "---"
   ]
  },
  {
   "cell_type": "markdown",
   "id": "73e078ca-70b2-482e-a1b9-ec540b6471e4",
   "metadata": {},
   "source": [
    "```python\n",
    "# 특정한 변수 이용:  . 또는 ['변수명'] 이용\n",
    "ds.income  \n",
    "ds['income']\n",
    "ds.loc[:, 'income']\n",
    "\n",
    "\n",
    "# list로 넣어주어야 함.\n",
    "ds.loc[:, ['income', 'exp']]\n",
    "ds.iloc[:, [5, 6]]\n",
    "\n",
    "ds.income.mean()\n",
    "ds['exp'].sum()\n",
    "\n",
    "# 특정한 관측치 이용\n",
    "ds.loc[0, :]\n",
    "ds.loc[1:5, :]\n",
    "ds.loc[[0, 2, 4, 6], :]\n",
    "\n",
    "# 관측치가 특정한 값인 데이터 이용\n",
    "# 만족하는 행만 나옴\n",
    "ds[ds.year==2013]\n",
    "ds[ds.year!=2013]\n",
    "\n",
    "ds.loc[:,:][ds.year==2013]\n",
    "ds.loc[:,:][ds.year!=2013]\n",
    "```"
   ]
  },
  {
   "cell_type": "markdown",
   "id": "c862afbd-c7cc-4496-b5a7-0e79d9112533",
   "metadata": {},
   "source": [
    "```r\n",
    "# data set에서 일부 데이터로 구성된 새로운 data set 생성 방법\n",
    "\n",
    "# year, buy, income 변수로 구성된 새로운 data set\n",
    "new_data = ds[, c(2, 3, 6)]\n",
    "# subset 이용 유의해서 보자\n",
    "# 첫 번째 인자는 불러올 dataset, 두 번째 인자는 조건!\n",
    "new_data = subset(ds, select=c(year, buy, income))\n",
    "\n",
    "# year, buy, income 변수를 제거한 data set\n",
    "new_data = ds[, -c(2, 3, 6)]\n",
    "#subset 이용 유의해서 보자\n",
    "new_data = subset(ds, select=-c(year, buy, income))\n",
    "\n",
    "# 2014년 이후 데이터로 구성된 새로운 data set\n",
    "new_data = ds[ds$year>=2014, ] # 파이썬에서는 다 선택해주려면 콜론 붙여야하는데 \n",
    "# r에서는 콜론 붙이지 않는다.\n",
    "new_data = subset(ds, year>=2014)\n",
    "\n",
    "# 2014년 이후, (year, buy, income) 변수로 구성\n",
    "new_data = subset(ds, year>=2014, select=c(year, buy, income))\n",
    "\n",
    "\n",
    "\n",
    "# data set에서 sample 추출\n",
    "new_data = ds[sample(nrow(ds), 30), ]\t\n",
    "# 30 samples without replacement\n",
    "# 비복원추출로\n",
    "\n",
    "\n",
    "#30% sample : ceiling(), round(), floor()\n",
    "s_n = ceiling(nrow(ds) * 0.3)\t\n",
    "new_data = ds[sample(nrow(ds), s_n), ]\n",
    "\n",
    "```"
   ]
  },
  {
   "cell_type": "markdown",
   "id": "d83dbbea-60eb-4fd3-96bd-c7d6fe4024de",
   "metadata": {},
   "source": [
    "```python\n",
    "# data set에서 일부 데이터로 구성된 새로운 data set 생성 방법\n",
    "\n",
    "# year, buy, income 변수로 구성된 새로운 data set\n",
    "new_data = ds[['year', 'buy', 'income']]\n",
    "new_data = ds.loc[:, ['year', 'buy', 'income']]\n",
    "new_data = ds.iloc[:, [1, 2, 5]]\n",
    "\n",
    "new_data = ds.iloc[:, [-1, -2, -5]] # -는 뒤에서부터\n",
    "\n",
    "\n",
    "    \n",
    "# 2014년 이후 데이터로 구성된 새로운 data set\n",
    "new_data = ds[ds.year >= 2014]\n",
    "new_data = ds.loc[:, :][ds.year>=2014]\n",
    "new_data = ds.loc[ds.year>=2014, :]\n",
    "\n",
    "# 2014년 이후, (year, buy, income) 변수로 구성\n",
    "# 먼저 (year, buy, income)뽑아주고 그 다음 조건은 []여기에 넣어준다.\n",
    "new_data = ds.loc[:, ['year', 'buy', 'income']][ds.year>=2014]\n",
    "\n",
    "\n",
    "# data set에서 sample 추출\n",
    "sam_data = ds.sample(n=30)\t\n",
    "# 30 samples without replacement\n",
    "\n",
    "\n",
    "import math\n",
    "s_n = math.ceil(len(ds) * 0.3)\n",
    "sam_data = ds.sample(n = s_n)\n",
    "\n",
    "\n",
    "\n",
    "\n",
    "```\n"
   ]
  },
  {
   "cell_type": "markdown",
   "id": "84b08762-26f6-4b69-8688-f93dfa1f2030",
   "metadata": {},
   "source": [
    "---"
   ]
  },
  {
   "cell_type": "markdown",
   "id": "c188c093-0d1f-4055-9c93-aa5fd671182a",
   "metadata": {},
   "source": [
    "```r\n",
    "### 벡터의 각 원소에 동일한 값 가감\n",
    "x = c(1, 2, 3, 4, 9)\n",
    "y = 1\n",
    "x1 = x + y\n",
    "x2 = 10 - x\n",
    "\n",
    "# 두 벡터가 동일한지 체크\n",
    "y1 = c(1, 2, 3)\n",
    "y2 = c(1, 2, 3)\n",
    "# bool 형태로 반환된다\n",
    "identical(y1, y2)\n",
    "\n",
    "# 벡터를 인수로 받는 함수\n",
    "sum(y1)\t\t#모든 원소에 함수 적용\n",
    "median(x)\n",
    "sqrt(x)\t\t#원소별로 함수가 적용\n",
    "\n",
    "# 데이터 프레임에 새로운 변수 추가\n",
    "ds = read.table(\"buy.txt\", header=T)\n",
    "dim(ds) -> 700,10 (크기)\n",
    "\n",
    "# runif -> o~1 사이의 임의의 수\n",
    "ds$gp = runif(dim(ds)[1]) # 새로운 변수 추가\n",
    "new_data = subset(ds, gp<=0.5)\n",
    "\n",
    "# ('T', 'F')와 같은 형태 값을 (0, 1) 형태로 변환\n",
    "ds\\$buy[ds\\$buy == 0] <- 'F'\n",
    "ds\\$buy[ds\\$buy == 1] <- 'T'\n",
    "\n",
    "ds\\$buy[ds\\$buy == 'F'] <- 0\n",
    "ds\\$buy[ds\\$buy == 'T'] <- 1\n",
    "```"
   ]
  },
  {
   "cell_type": "markdown",
   "id": "5bd7a4a6-0801-48aa-b9b7-d470c77feb24",
   "metadata": {},
   "source": [
    "----"
   ]
  },
  {
   "cell_type": "markdown",
   "id": "c80895d8-561d-441d-b65f-b7adda8e3748",
   "metadata": {},
   "source": [
    "```python\n",
    "\n",
    "# [1,2,3]+[1,2,3]\n",
    "# [1,2,3,1,2,3] 이렇게 출력됨\n",
    "# 그래서 원소별 연산을 하기 위해선 np사용\n",
    "\n",
    "\n",
    "\n",
    "\n",
    "# 벡터의 각 원소에 동일한 값 가감\n",
    "x = np.array([1, 2, 3, 4, 9])\n",
    "y = np.array([1])\n",
    "x1 = x+y\n",
    "x2 = np.array([10])-x\n",
    "\n",
    "# 두 벡터가 동일한지 체크\n",
    "y1 = np.array([1, 2, 3])\n",
    "y2 = np.array([1, 2, 3])\n",
    "y1 == y2\n",
    "\n",
    "# 벡터를 인수로 받는 함수\n",
    "np.sum(y1)\t\t#모든 원소에 함수 적용\n",
    "np.median(x)\n",
    "np.sqrt(x)\t\t#원소별로 함수가 적용\n",
    "\n",
    "# 데이터 프레임에 새로운 변수 추가\n",
    "ds = pd.read_csv('buy.csv', header=0, sep=\",\")\n",
    "ds['gp'] = np.random.uniform(0, 1, len(ds))\n",
    "new_data = ds[ds.gp <= 0.5]\n",
    "\n",
    "### ('T', 'F')와 같은 형태 값을 (0, 1) 형태로 변환\n",
    "ds.buy[ds.buy == 0] = 'F'\n",
    "ds.buy[ds.buy == 1] = 'T'\n",
    "\n",
    "ds.buy[ds.buy == 'F'] = 0\n",
    "ds.buy[ds.buy == 'T'] = 1\n",
    "```"
   ]
  },
  {
   "cell_type": "markdown",
   "id": "7cf85e4b-7f72-4f12-bc38-0ffd9f54a894",
   "metadata": {},
   "source": [
    "---"
   ]
  },
  {
   "cell_type": "code",
   "execution_count": 87,
   "id": "87b237f9-c440-444d-934c-f5020c01aa98",
   "metadata": {},
   "outputs": [
    {
     "data": {
      "text/html": [
       "<table class=\"dataframe\">\n",
       "<caption>A data.frame: 4 × 2</caption>\n",
       "<thead>\n",
       "\t<tr><th></th><th scope=col>age</th><th scope=col>income.mean</th></tr>\n",
       "\t<tr><th></th><th scope=col>&lt;int&gt;</th><th scope=col>&lt;dbl&gt;</th></tr>\n",
       "</thead>\n",
       "<tbody>\n",
       "\t<tr><th scope=row>1</th><td>2</td><td>2668.473</td></tr>\n",
       "\t<tr><th scope=row>2</th><td>3</td><td>4048.496</td></tr>\n",
       "\t<tr><th scope=row>3</th><td>4</td><td>6907.879</td></tr>\n",
       "\t<tr><th scope=row>4</th><td>5</td><td>6359.091</td></tr>\n",
       "</tbody>\n",
       "</table>\n"
      ],
      "text/latex": [
       "A data.frame: 4 × 2\n",
       "\\begin{tabular}{r|ll}\n",
       "  & age & income.mean\\\\\n",
       "  & <int> & <dbl>\\\\\n",
       "\\hline\n",
       "\t1 & 2 & 2668.473\\\\\n",
       "\t2 & 3 & 4048.496\\\\\n",
       "\t3 & 4 & 6907.879\\\\\n",
       "\t4 & 5 & 6359.091\\\\\n",
       "\\end{tabular}\n"
      ],
      "text/markdown": [
       "\n",
       "A data.frame: 4 × 2\n",
       "\n",
       "| <!--/--> | age &lt;int&gt; | income.mean &lt;dbl&gt; |\n",
       "|---|---|---|\n",
       "| 1 | 2 | 2668.473 |\n",
       "| 2 | 3 | 4048.496 |\n",
       "| 3 | 4 | 6907.879 |\n",
       "| 4 | 5 | 6359.091 |\n",
       "\n"
      ],
      "text/plain": [
       "  age income.mean\n",
       "1 2   2668.473   \n",
       "2 3   4048.496   \n",
       "3 4   6907.879   \n",
       "4 5   6359.091   "
      ]
     },
     "metadata": {},
     "output_type": "display_data"
    }
   ],
   "source": [
    "library(doBy)\n",
    "summaryBy(income ~ age, ds) "
   ]
  },
  {
   "cell_type": "markdown",
   "id": "e4c887b8-7049-4e0c-9075-1d8cbb664723",
   "metadata": {},
   "source": [
    "```r\n",
    "library(doBy)\n",
    "\n",
    "ds = read.table(\"buy.txt\", header=T)\n",
    "\n",
    "# 요약통계량\n",
    "summary(ds)\n",
    "\n",
    "# 그룹별 평균 \n",
    "summaryBy(income ~ age, ds) \n",
    "\n",
    "summaryBy(. ~ age, ds) \n",
    "\n",
    "\n",
    "\n",
    "# 구매여부별 income의 평균 차이 분석\n",
    "t.test(income ~ buy, data=ds, var.equal=TRUE)\n",
    "\n",
    "\n",
    "\n",
    "\n",
    "# 연령별 income의 평균 차이 분석\n",
    "ds\\$age_gp = ifelse(ds\\$age<=3, 'Young', 'old')\n",
    "t.test(income ~ age_gp, data=ds, var.equal=TRUE)\n",
    "\n",
    "```"
   ]
  },
  {
   "cell_type": "markdown",
   "id": "cc250121-3ffb-49b8-afd3-29ee4f77097f",
   "metadata": {},
   "source": [
    "```python\n",
    "ds = pd.read_csv('buy.csv', header=0, sep=\",\")\n",
    "\n",
    "# 요약통계량\n",
    "ds.describe()\n",
    "# 그룹별 평균\n",
    "ds.income.groupby(ds.age).mean() \n",
    "ds.groupby(ds.age)['income'].mean() # 위 줄과 동일!\n",
    "ds.groupby(ds.age).mean() \n",
    "\n",
    "from scipy import stats\n",
    "\n",
    "# 구매여부별 income의 평균 차이 분석\n",
    "b0 = ds.income[ds.buy==0]\n",
    "b1 = ds.income[ds.buy==1]\n",
    "stats.ttest_ind(b0, b1)\n",
    "\n",
    "\n",
    "# 연령별 income의 평균 차이 분석\n",
    "ds.loc[ds['age']<=3, 'age_gp'] = 'Young'\n",
    "ds.loc[ds['age']>3, 'age_gp'] =  'Old’\n",
    "\n",
    "# 또는\n",
    "ds['age_gp'] = np.where(ds['age']<=3, 'Young', 'Old')\n",
    "# r에서의 ifelse같은 기능\n",
    "\n",
    "a0 = ds.income[ds.age_gp=='Young']\n",
    "a1 = ds.income[ds.age_gp=='Old']\n",
    "\n",
    "stats.ttest_ind(a0, a1)\n",
    "```"
   ]
  }
 ],
 "metadata": {
  "kernelspec": {
   "display_name": "R",
   "language": "R",
   "name": "ir"
  },
  "language_info": {
   "codemirror_mode": "r",
   "file_extension": ".r",
   "mimetype": "text/x-r-source",
   "name": "R",
   "pygments_lexer": "r",
   "version": "4.0.5"
  }
 },
 "nbformat": 4,
 "nbformat_minor": 5
}
